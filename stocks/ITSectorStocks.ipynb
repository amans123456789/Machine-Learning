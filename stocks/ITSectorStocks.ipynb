{
 "cells": [
  {
   "cell_type": "code",
   "execution_count": 216,
   "id": "b681975e",
   "metadata": {},
   "outputs": [],
   "source": [
    "import yahoo_fin.stock_info as si\n",
    "import pandas as pd\n",
    "import nsepy\n",
    "import numpy as np\n",
    "import re\n",
    "\n",
    "from time import sleep"
   ]
  },
  {
   "cell_type": "code",
   "execution_count": 217,
   "id": "c7cf8877",
   "metadata": {},
   "outputs": [],
   "source": [
    "import requests # for http requests\n",
    "from bs4 import BeautifulSoup # for html parsing and scraping\n",
    "from fastnumbers import isfloat \n",
    "from fastnumbers import fast_float\n",
    "from multiprocessing.dummy import Pool as ThreadPool \n",
    "import bs4"
   ]
  },
  {
   "cell_type": "code",
   "execution_count": 218,
   "id": "9c66593c",
   "metadata": {},
   "outputs": [],
   "source": [
    "def ffloat(string):\n",
    "    if string is None:\n",
    "        return np.nan\n",
    "    if type(string)==float or type(string)==np.float64:\n",
    "        return string\n",
    "    if type(string)==int or type(string)==np.int64:\n",
    "        return string\n",
    "    return fast_float(string.split(\" \")[0].replace(',','').replace('%',''),\n",
    "                      default=np.nan)"
   ]
  },
  {
   "cell_type": "code",
   "execution_count": 219,
   "id": "278348f7",
   "metadata": {},
   "outputs": [],
   "source": [
    "def get_table( url):\n",
    "#     round_url = f'{url}/{round}'\n",
    "    page = requests.get(url)\n",
    "    soup = BeautifulSoup(page.text, 'html.parser')\n",
    "    \n",
    "    rows = []\n",
    "    for child in soup.find_all('table')[1].children:\n",
    "        row = []\n",
    "        for td in child:\n",
    "            try:\n",
    "                row.append(td.text.replace('\\n', ''))\n",
    "            except:\n",
    "                continue\n",
    "        if len(row) > 0:\n",
    "            rows.append(row)\n",
    "\n",
    "    df = pd.DataFrame(rows[1:], columns=rows[0])\n",
    "    return df"
   ]
  },
  {
   "cell_type": "code",
   "execution_count": 220,
   "id": "37a6086e",
   "metadata": {},
   "outputs": [],
   "source": [
    "def rel(res):\n",
    "    res = res.apply(lambda x: x.str.replace(',', ''))\n",
    "    return res"
   ]
  },
  {
   "cell_type": "code",
   "execution_count": 221,
   "id": "cf7adc4a",
   "metadata": {},
   "outputs": [],
   "source": [
    "# mylist = [\"dog\", \"cat\", \"wildcat\", \"thundercat\", \"cow\", \"hooo\"]\n",
    "# PNL_list[j],'Total Revenue'\n",
    "# newlist = # Read Note below\n",
    "# print(newlist)\n",
    "# Infosys_pnl[Infosys_pnl[:,1]=='Total Revenue'].astype('float').values"
   ]
  },
  {
   "cell_type": "code",
   "execution_count": 222,
   "id": "f223206e",
   "metadata": {},
   "outputs": [],
   "source": [
    "# PNL_list['PNL_Infosys'].columns"
   ]
  },
  {
   "cell_type": "code",
   "execution_count": 223,
   "id": "f132281f",
   "metadata": {},
   "outputs": [],
   "source": [
    "def example(stock):\n",
    "    Months = []\n",
    "#     stocks_list =  stock.keys()\n",
    "#     for i in stocks_list:\n",
    "    r = re.compile(\"Mar.*\")\n",
    "#         stock_data = stock[i]\n",
    "    Months =  list(filter(r.match, stock.columns))\n",
    "    return Months\n",
    "    "
   ]
  },
  {
   "cell_type": "code",
   "execution_count": 224,
   "id": "3c10a91f",
   "metadata": {},
   "outputs": [],
   "source": [
    "# months = example(PNL_list['pnl_Infosys'])\n",
    "# # len(months)\n",
    "# print(months)"
   ]
  },
  {
   "cell_type": "markdown",
   "id": "af6db149",
   "metadata": {},
   "source": [
    "##### Functions defined in loop"
   ]
  },
  {
   "cell_type": "code",
   "execution_count": 225,
   "id": "80efc208",
   "metadata": {},
   "outputs": [],
   "source": [
    "def cagr(stock, mode):\n",
    "    months = example(stock)\n",
    "    result = []\n",
    "\n",
    "    for i in range(0, len(months)-1):\n",
    "\n",
    "        result.append( ((stock[stock.iloc[:, 1] == mode][months[i]]).astype('float').values  \n",
    "                 / (stock[stock.iloc[:, 1] == mode][months[i+1]]).astype('float').values - 1)*100  )\n",
    "    return result\n"
   ]
  },
  {
   "cell_type": "code",
   "execution_count": 226,
   "id": "64ebb708",
   "metadata": {},
   "outputs": [],
   "source": [
    "def cagr_check(stock, mode):\n",
    "    months = example(stock)\n",
    "    result = []\n",
    "\n",
    "#     for i in range(0, len(months)-1):\n",
    "\n",
    "    return months"
   ]
  },
  {
   "cell_type": "code",
   "execution_count": 227,
   "id": "61df41a5",
   "metadata": {},
   "outputs": [],
   "source": [
    "cagr_eg = {}\n",
    "for i in PNL_list:\n",
    "    ab = cagr_check(PNL_list[i],'Total Revenue')"
   ]
  },
  {
   "cell_type": "code",
   "execution_count": 228,
   "id": "e76fb382",
   "metadata": {},
   "outputs": [
    {
     "data": {
      "text/plain": [
       "['Mar 21', 'Mar 20', 'Mar 19', 'Mar 18', 'Mar 17']"
      ]
     },
     "execution_count": 228,
     "metadata": {},
     "output_type": "execute_result"
    }
   ],
   "source": [
    "ab"
   ]
  },
  {
   "cell_type": "code",
   "execution_count": 229,
   "id": "027f06c5",
   "metadata": {},
   "outputs": [],
   "source": [
    "cagr_revenue = {}\n",
    "for i in PNL_list:\n",
    "    cagr_revenue[\"{}\".format(i)] = cagr(PNL_list[i],'Total Revenue')"
   ]
  },
  {
   "cell_type": "code",
   "execution_count": 230,
   "id": "c55862d3",
   "metadata": {},
   "outputs": [],
   "source": [
    "def value(stock, mode):\n",
    "    months = example(stock)\n",
    "    values = []\n",
    "    for i in range(0, len(months)):\n",
    "\n",
    "        values.append((stock[stock.iloc[:, 1] == mode][months[i]]).astype('float').values)\n",
    "\n",
    "    return values"
   ]
  },
  {
   "cell_type": "code",
   "execution_count": 231,
   "id": "4cc79046",
   "metadata": {},
   "outputs": [],
   "source": [
    "def freecashflow(stockcs, stockbs):\n",
    "    months = example(stockcs)\n",
    "    value = []\n",
    "    for i in range(0, len(months)):\n",
    "\n",
    "        value.append((stockcs[stockcs.iloc[:, 1] == 'Net CashFlow From Operating Activities'][months[i]]).astype('float').values - (stockbs[stockbs.iloc[:, 1] == 'Fixed Assets'][months[i]]).astype('float').values)\n",
    "\n",
    "    return value"
   ]
  },
  {
   "cell_type": "code",
   "execution_count": 232,
   "id": "824b133d",
   "metadata": {},
   "outputs": [],
   "source": [
    "def roe(stockPNL, stockbs):\n",
    "    months = example(stockPNL)\n",
    "    returnequity = []\n",
    "    for i in range(0, len(months)):\n",
    "\n",
    "        returnequity.append((stockPNL[stockPNL.iloc[:, 1] == 'Profit/Loss For The Period'][months[i]]).astype('float').values / (stockbs[stockbs.iloc[:, 1] == 'Total Shareholders Funds'][months[i]]).astype('float').values)\n",
    "\n",
    "    return returnequity"
   ]
  },
  {
   "cell_type": "code",
   "execution_count": 233,
   "id": "456235bc",
   "metadata": {},
   "outputs": [],
   "source": [
    "# def debt( stockbs):\n",
    "#     months = example(stockbs)\n",
    "#     debtequity = []\n",
    "#     for i in range(0, len(months)):\n",
    "\n",
    "#         debtequity.append((stockbs[stockbs.iloc[:, 1] == 'Total Capital And Liabilities'][months[i]]).astype('float').values )\n",
    "\n",
    "#     return debtequity"
   ]
  },
  {
   "cell_type": "code",
   "execution_count": 234,
   "id": "dfd51892",
   "metadata": {},
   "outputs": [],
   "source": [
    "# def equity( stockbs):\n",
    "#     months = example(stockbs)\n",
    "#     debtequity = []\n",
    "#     for i in range(0, len(months)):\n",
    "\n",
    "#         debtequity.append( (stockbs[stockbs.iloc[:, 1] == 'Total Shareholders Funds'][months[i]]).astype('float').values)\n",
    "\n",
    "#     return debtequity"
   ]
  },
  {
   "cell_type": "code",
   "execution_count": 235,
   "id": "f9ea99bf",
   "metadata": {},
   "outputs": [],
   "source": [
    "# balancesheet_list"
   ]
  },
  {
   "cell_type": "code",
   "execution_count": 236,
   "id": "5db59d45",
   "metadata": {},
   "outputs": [],
   "source": [
    "# debtoo = {}\n",
    "# for i in (balancesheet_list):\n",
    "#     debtoo[\"{}\".format(i)] =  debt(balancesheet_list[j])"
   ]
  },
  {
   "cell_type": "code",
   "execution_count": 237,
   "id": "f93313dc",
   "metadata": {},
   "outputs": [],
   "source": [
    "# equityoo = {}\n",
    "# for i in (balancesheet_list):\n",
    "#     equityoo[\"{}\".format(i)] =  debt(balancesheet_list[j])"
   ]
  },
  {
   "cell_type": "code",
   "execution_count": null,
   "id": "a515dc46",
   "metadata": {},
   "outputs": [],
   "source": []
  },
  {
   "cell_type": "code",
   "execution_count": null,
   "id": "1d994bec",
   "metadata": {},
   "outputs": [],
   "source": []
  },
  {
   "cell_type": "code",
   "execution_count": 238,
   "id": "963aa30c",
   "metadata": {},
   "outputs": [],
   "source": [
    "def DE( stockbs):\n",
    "    months = example(stockbs)\n",
    "    debtequity = []\n",
    "    for i in range(0, len(months)):\n",
    "\n",
    "        debtequity.append((stockbs[stockbs.iloc[:, 1] == 'Total Capital And Liabilities'][months[i]]).astype('float').values / (stockbs[stockbs.iloc[:, 1] == 'Total Shareholders Funds'][months[i]]).astype('float').values)\n",
    "\n",
    "    return debtequity"
   ]
  },
  {
   "cell_type": "code",
   "execution_count": 239,
   "id": "6e650d31",
   "metadata": {},
   "outputs": [],
   "source": [
    "# PNL_list.keys()"
   ]
  },
  {
   "cell_type": "code",
   "execution_count": 240,
   "id": "8f6e7cc9",
   "metadata": {},
   "outputs": [],
   "source": [
    "def get_scrip_info(url):\n",
    "    original_url = url\n",
    "    key_val_pairs = {}\n",
    "    \n",
    "    page_response = requests.get(url, timeout=240)\n",
    "    page_content = BeautifulSoup(page_response.content, \"html.parser\")\n",
    "    name = page_content.find('h1').text\n",
    "\n",
    "\n",
    "    volume = ffloat(page_content.find('td',{'class':'nsevol bsevol'}).text)\n",
    "    eps = ffloat(page_content.find('td',{'class':'nseceps bseceps'}).text)\n",
    "    pe = ffloat(page_content.find('td',{'class':'nsepe bsepe'}).text)\n",
    "    sector_pe = ffloat(page_content.find('td',{'class':'nsesc_ttm bsesc_ttm'}).text)\n",
    "    market_cap = ffloat(page_content.find('td',{'class':'nsemktcap bsemktcap'}).text)\n",
    "    open_price = ffloat(page_content.find('td',{'class':'nsemktcap bsemktcap'}).text)\n",
    "    opn_prc = ffloat(page_content.find('td',{'class':'nseopn bseopn'}).text)\n",
    "    cls_prc = ffloat(page_content.find('td',{'class':'nseprvclose bseprvclose'}).text)\n",
    "    vwap = ffloat(page_content.find('td',{'class':'nsevwap bsevwap'}).text)\n",
    "    nsebeta = ffloat(page_content.find('td',{'class':'Beta'}))\n",
    "    bsebeta = ffloat(page_content.find('td',{'class':'bsebeta'}))\n",
    "    high = ffloat(page_content.find('td',{'class':'nseHP bseHP'}).text)\n",
    "    low = ffloat(page_content.find('td',{'class':'nseLP bseLP'}).text)\n",
    "    wh52 = ffloat(page_content.find('td',{'class':'nseH52 bseH52'}).text)\n",
    "    wl52 = ffloat(page_content.find('td',{'class':'nseL52 bseL52'}).text)\n",
    "    pb = ffloat(page_content.find('td',{'class':'nsepb bsepb'}).text)\n",
    "    fv = ffloat(page_content.find('td',{'class':'nsefv bsefv'}).text)\n",
    "    return high,low , name,nsebeta, volume, eps, pe, sector_pe, market_cap"
   ]
  },
  {
   "cell_type": "markdown",
   "id": "023c6a71",
   "metadata": {},
   "source": [
    "##### URLs"
   ]
  },
  {
   "cell_type": "code",
   "execution_count": 241,
   "id": "d6ea8164",
   "metadata": {},
   "outputs": [],
   "source": [
    "# Purchsed Stock\n",
    "\n",
    "# Balance Sheet\n",
    "KPITE_bs = \"https://www.moneycontrol.com/financials/kpittechnologies/balance-sheetVI/KPITT54265\"\n",
    "KPITEC_bs = \"https://www.moneycontrol.com/financials/birlasoft/balance-sheetVI/KPI02\"\n",
    "WIPRO_bs = \"https://www.moneycontrol.com/financials/wipro/balance-sheetVI/W\"\n",
    "\n",
    "# PnL\n",
    "KPITE_pnl = \"https://www.moneycontrol.com/financials/kpittechnologies/profit-lossVI/KPITT54265\"\n",
    "KPITEC_pnl = \"https://www.moneycontrol.com/financials/birlasoft/profit-lossVI/KPI02\"\n",
    "WIPRO_pnl = \"https://www.moneycontrol.com/financials/wipro/profit-lossVI/W\"\n",
    "# Cash Statement\n",
    "KPITE_cs = \"https://www.moneycontrol.com/financials/kpittechnologies/cash-flowVI/KPITT54265\"\n",
    "KPITEC_cs = \"https://www.moneycontrol.com/financials/kpittechnologies/cash-flowVI/kpi02\"\n",
    "WIPRO_cs = \"https://www.moneycontrol.com/financials/wipro/cash-flowVI/W\""
   ]
  },
  {
   "cell_type": "code",
   "execution_count": 242,
   "id": "54e0db6b",
   "metadata": {},
   "outputs": [],
   "source": [
    "# Benchmark Stocks\n",
    "# Balance Sheet\n",
    "Infosys = \"https://www.moneycontrol.com/financials/infosys/balance-sheetVI/IT\"\n",
    "TCS = \"https://www.moneycontrol.com/financials/tataconsultancyservices/balance-sheetVI/TCS\"\n",
    "LandT_tech = \"https://www.moneycontrol.com/financials/lttechnologyservices/balance-sheetVI/LTS\"\n",
    "hcl = \"https://www.moneycontrol.com/financials/hcltechnologies/balance-sheetVI/HCL02\"\n",
    "techmahindra = \"https://www.moneycontrol.com/financials/techmahindra/balance-sheetVI/TM4\"\n",
    "mindtree = \"https://www.moneycontrol.com/financials/mindtree/balance-sheetVI/MT13\"\n",
    "landtinfotech = \"https://www.moneycontrol.com/financials/larsentoubroinfotech/balance-sheetVI/LI12\"\n",
    "mphasis =\"https://www.moneycontrol.com/financials/mphasis/balance-sheetVI/MB02\"\n",
    "coforge = \"https://www.moneycontrol.com/financials/coforgelimited/balance-sheetVI/NII02\""
   ]
  },
  {
   "cell_type": "code",
   "execution_count": 243,
   "id": "0d30918e",
   "metadata": {},
   "outputs": [],
   "source": [
    "# PnL\n",
    "\n",
    "Infosys_pnl = \"https://www.moneycontrol.com/financials/infosys/profit-lossVI/IT\"\n",
    "TCS_pnl = \"https://www.moneycontrol.com/financials/tataconsultancyservices/profit-lossVI/TCS\"\n",
    "LandT_tech_pnl = \"https://www.moneycontrol.com/financials/lttechnologyservices/profit-lossVI/LTS\"\n",
    "hcl_pnl = \"https://www.moneycontrol.com/financials/hcltechnologies/profit-lossVI/HCL02\"\n",
    "techmahindra_pnl =\"https://www.moneycontrol.com/financials/techmahindra/profit-lossVI/TM4\"\n",
    "mindtree_pnl = \"https://www.moneycontrol.com/financials/mindtree/profit-lossVI/MT13\"\n",
    "landtinfotech_pnl = \"https://www.moneycontrol.com/financials/larsentoubroinfotech/profit-lossVI/LI12\"\n",
    "mphasis_pnl = \"https://www.moneycontrol.com/financials/mphasis/profit-lossVI/MB02\"\n",
    "coforge_pnl = \"https://www.moneycontrol.com/financials/coforgelimited/profit-lossVI/NII02\""
   ]
  },
  {
   "cell_type": "code",
   "execution_count": 244,
   "id": "2f6e5d52",
   "metadata": {},
   "outputs": [],
   "source": [
    "Infosys_cs = \"https://www.moneycontrol.com/financials/infosys/consolidated-cash-flowVI/IT/1\"\n",
    "TCS_cs = \"https://www.moneycontrol.com/financials/tataconsultancyservices/cash-flowVI/TCS\"\n",
    "LandT_tech_cs = \"https://www.moneycontrol.com/financials/larsentoubro/cash-flowVI/LT\"\n",
    "hcl_cs = \"https://www.moneycontrol.com/financials/hcltechnologies/cash-flowVI/HCL02\"\n",
    "techmahindra_cs = \"https://www.moneycontrol.com/financials/techmahindra/consolidated-cash-flowVI/TM4\"\n",
    "mindtree_cs =\"https://www.moneycontrol.com/financials/mindtree/cash-flowVI/MT13\"\n",
    "landtinfotech_cs = \"https://www.moneycontrol.com/financials/larsentoubroinfotech/cash-flowVI/li12\"\n",
    "mphasis_cs = \"https://www.moneycontrol.com/financials/mphasis/cash-flowVI/MB02\"\n",
    "coforge_cs = \"https://www.moneycontrol.com/financials/coforgelimited/cash-flowVI/nii02\""
   ]
  },
  {
   "cell_type": "code",
   "execution_count": 245,
   "id": "398d34a5",
   "metadata": {},
   "outputs": [],
   "source": [
    "BS = [KPITE_bs,KPITEC_bs, WIPRO_bs ,Infosys,TCS ,LandT_tech,hcl  ,techmahindra,mindtree, landtinfotech,mphasis ,coforge]\n",
    "BS_name = ['KPITE','KPITEC', 'WIPRO' ,'Infosys','TCS' ,'LandT_tech','hcl'  ,'techmahindra','mindtree', 'landtinfotech','mphasis' ,'coforge']\n",
    "balancesheet_list = {}\n",
    "for i,j in zip(BS,BS_name):\n",
    "    balancesheet_list['BS_'+str(j)] =  get_table(i)"
   ]
  },
  {
   "cell_type": "code",
   "execution_count": 246,
   "id": "88a68024",
   "metadata": {},
   "outputs": [],
   "source": [
    "def get_table( url):\n",
    "#     round_url = f'{url}/{round}'\n",
    "    page = requests.get(url)\n",
    "    soup = BeautifulSoup(page.text, 'html.parser')\n",
    "    \n",
    "    rows = []\n",
    "    for child in soup.find_all('table')[1].children:\n",
    "        row = []\n",
    "        for td in child:\n",
    "            try:\n",
    "                row.append(td.text.replace('\\n', ''))\n",
    "            except:\n",
    "                continue\n",
    "        if len(row) > 0:\n",
    "            rows.append(row)\n",
    "\n",
    "    df = pd.DataFrame(rows[1:], columns=rows[0])\n",
    "    return df"
   ]
  },
  {
   "cell_type": "code",
   "execution_count": 247,
   "id": "9894ad03",
   "metadata": {},
   "outputs": [],
   "source": [
    "PNL = [KPITE_pnl, KPITEC_pnl, WIPRO_pnl, Infosys_pnl, TCS_pnl, LandT_tech_pnl,  hcl_pnl, techmahindra_pnl, mindtree_pnl,landtinfotech_pnl, mphasis_pnl, coforge_pnl]\n",
    "PNL_name =  ['KPITE','KPITEC' , 'WIPRO' ,'Infosys','TCS' ,'LandT_tech','hcl'  ,'techmahindra','mindtree', 'landtinfotech','mphasis' ,'coforge']\n",
    "PNL_list = {}\n",
    "for i,j in zip(PNL,PNL_name):\n",
    "    PNL_list['pnl_'+str(j)] =  get_table(i)"
   ]
  },
  {
   "cell_type": "code",
   "execution_count": 248,
   "id": "64fbcd8d",
   "metadata": {},
   "outputs": [],
   "source": [
    "cs = [KPITE_cs ,KPITEC_cs, WIPRO_cs ,Infosys_cs,TCS_cs ,LandT_tech_cs ,hcl_cs  ,techmahindra_cs,mindtree_cs, landtinfotech_cs,mphasis_cs ,coforge_cs]\n",
    "cs_name = ['KPITE','KPITEC' , 'WIPRO' ,'Infosys','TCS' ,'LandT_tech','hcl'  ,'techmahindra','mindtree', 'landtinfotech','mphasis' ,'coforge']\n",
    "cs_list = {}\n",
    "for i,j in zip(cs,cs_name):\n",
    "    cs_list['cs_'+str(j)] =  get_table(i)"
   ]
  },
  {
   "cell_type": "code",
   "execution_count": 249,
   "id": "599c3b6f",
   "metadata": {},
   "outputs": [],
   "source": [
    "for i in cs_list.keys(): \n",
    "    cs_list[i] = rel(cs_list[i])\n",
    "for i in balancesheet_list.keys():\n",
    "    balancesheet_list[i] = rel(balancesheet_list[i])\n",
    "for i in PNL_list.keys():\n",
    "    PNL_list[i] = rel(PNL_list[i])"
   ]
  },
  {
   "cell_type": "code",
   "execution_count": 250,
   "id": "c47133de",
   "metadata": {},
   "outputs": [],
   "source": [
    "# PNL_list\n"
   ]
  },
  {
   "cell_type": "code",
   "execution_count": 251,
   "id": "85d2adf0",
   "metadata": {},
   "outputs": [
    {
     "name": "stderr",
     "output_type": "stream",
     "text": [
      "C:\\Users\\Aman\\AppData\\Local\\Temp/ipykernel_480/1519330944.py:7: RuntimeWarning: divide by zero encountered in true_divide\n",
      "  result.append( ((stock[stock.iloc[:, 1] == mode][months[i]]).astype('float').values\n"
     ]
    }
   ],
   "source": [
    "cagr_revenue = {}\n",
    "for i in PNL_list:\n",
    "    cagr_revenue[\"{}\".format(i)] = cagr(PNL_list[i],'Total Revenue')\n",
    "#    revenue + str(i) = cagr(PNL_list[i],'Total Revenue')"
   ]
  },
  {
   "cell_type": "code",
   "execution_count": 252,
   "id": "29119c3e",
   "metadata": {},
   "outputs": [],
   "source": [
    "# PNL_list"
   ]
  },
  {
   "cell_type": "code",
   "execution_count": 253,
   "id": "ad8ea424",
   "metadata": {},
   "outputs": [
    {
     "data": {
      "text/plain": [
       "dict_keys(['pnl_KPITE', 'pnl_KPITEC', 'pnl_WIPRO', 'pnl_Infosys', 'pnl_TCS', 'pnl_LandT_tech', 'pnl_hcl', 'pnl_techmahindra', 'pnl_mindtree', 'pnl_landtinfotech', 'pnl_mphasis', 'pnl_coforge'])"
      ]
     },
     "execution_count": 253,
     "metadata": {},
     "output_type": "execute_result"
    }
   ],
   "source": [
    "cagr_revenue.keys()"
   ]
  },
  {
   "cell_type": "code",
   "execution_count": 254,
   "id": "d0bf9542",
   "metadata": {},
   "outputs": [],
   "source": [
    "# def cagr_check(stock, mode):\n",
    "#     months = example(stock)\n",
    "#     result = []\n",
    "\n",
    "#     for i in range(0, len(months)-1):\n",
    "\n",
    "#         result.append( (   (stock[stock.iloc[:, 1] == mode][months[i]]).astype('float').values  ) )\n",
    "# #                  / (stock[stock.iloc[:, 1] == mode][months[i+1]]).astype('float').values - 1)*100  )\n",
    "#     return result"
   ]
  },
  {
   "cell_type": "code",
   "execution_count": 255,
   "id": "88f3a407",
   "metadata": {},
   "outputs": [
    {
     "data": {
      "text/plain": [
       "['Mar 21', 'Mar 20', 'Mar 19', 'Mar 18', 'Mar 17']"
      ]
     },
     "execution_count": 255,
     "metadata": {},
     "output_type": "execute_result"
    }
   ],
   "source": [
    "cagr_check(PNL_list['pnl_WIPRO'],'Total Revenue')"
   ]
  },
  {
   "cell_type": "code",
   "execution_count": 256,
   "id": "35531c97",
   "metadata": {},
   "outputs": [
    {
     "data": {
      "text/plain": [
       "[array([-0.38064731]),\n",
       " array([4.32254145]),\n",
       " array([7.42282198]),\n",
       " array([-3.08890062])]"
      ]
     },
     "execution_count": 256,
     "metadata": {},
     "output_type": "execute_result"
    }
   ],
   "source": [
    "cagr_revenue['pnl_WIPRO']"
   ]
  },
  {
   "cell_type": "code",
   "execution_count": 257,
   "id": "569284bb",
   "metadata": {},
   "outputs": [],
   "source": [
    "cagr_profit = {}\n",
    "for i in PNL_list:\n",
    "    cagr_profit[\"{}\".format(i)] = cagr(PNL_list[i],'Profit/Loss For The Period')"
   ]
  },
  {
   "cell_type": "code",
   "execution_count": 258,
   "id": "9431f6a0",
   "metadata": {},
   "outputs": [
    {
     "data": {
      "text/plain": [
       "{'pnl_KPITE': [array([-16.1481542]), array([267.72399278]), array([inf])],\n",
       " 'pnl_KPITEC': [array([10.37725767]),\n",
       "  array([45.79308196]),\n",
       "  array([-30.82048276]),\n",
       "  array([11.1471359])],\n",
       " 'pnl_WIPRO': [array([-0.38064731]),\n",
       "  array([4.32254145]),\n",
       "  array([7.42282198]),\n",
       "  array([-3.08890062])],\n",
       " 'pnl_Infosys': [array([8.11283595]),\n",
       "  array([7.61990021]),\n",
       "  array([15.15918739]),\n",
       "  array([5.78819907])],\n",
       " 'pnl_TCS': [array([1.4169082]),\n",
       "  array([6.56819346]),\n",
       "  array([26.79165172]),\n",
       "  array([6.06409558])],\n",
       " 'pnl_LandT_tech': [array([-4.73338772]),\n",
       "  array([10.90639908]),\n",
       "  array([31.62638374]),\n",
       "  array([16.65877301])],\n",
       " 'pnl_hcl': [array([10.3786943]),\n",
       "  array([23.77596301]),\n",
       "  array([17.74753019]),\n",
       "  array([12.33599684])],\n",
       " 'pnl_techmahindra': [array([-3.25687841]),\n",
       "  array([12.10765196]),\n",
       "  array([10.97909176]),\n",
       "  array([5.54320131])],\n",
       " 'pnl_mindtree': [array([3.56637202]),\n",
       "  array([10.25341734]),\n",
       "  array([28.93329223]),\n",
       "  array([8.24746315])],\n",
       " 'pnl_landtinfotech': [array([11.13908296]),\n",
       "  array([14.82969186]),\n",
       "  array([24.27944778]),\n",
       "  array([16.46398796])],\n",
       " 'pnl_mphasis': [array([20.98907381]),\n",
       "  array([31.46475408]),\n",
       "  array([4.59650993]),\n",
       "  array([5.97009803])],\n",
       " 'pnl_coforge': [array([0.09540467]),\n",
       "  array([16.8199127]),\n",
       "  array([22.24114441]),\n",
       "  array([8.146602])]}"
      ]
     },
     "execution_count": 258,
     "metadata": {},
     "output_type": "execute_result"
    }
   ],
   "source": [
    "cagr_revenue"
   ]
  },
  {
   "cell_type": "code",
   "execution_count": null,
   "id": "3d7a7abb",
   "metadata": {},
   "outputs": [],
   "source": []
  },
  {
   "cell_type": "code",
   "execution_count": null,
   "id": "30c0755d",
   "metadata": {},
   "outputs": [],
   "source": []
  },
  {
   "cell_type": "code",
   "execution_count": null,
   "id": "558969c3",
   "metadata": {},
   "outputs": [],
   "source": []
  },
  {
   "cell_type": "code",
   "execution_count": null,
   "id": "c48356f2",
   "metadata": {},
   "outputs": [],
   "source": []
  },
  {
   "cell_type": "code",
   "execution_count": 259,
   "id": "335ed7ab",
   "metadata": {},
   "outputs": [
    {
     "data": {
      "text/plain": [
       "dict_keys(['pnl_KPITE', 'pnl_KPITEC', 'pnl_WIPRO', 'pnl_Infosys', 'pnl_TCS', 'pnl_LandT_tech', 'pnl_hcl', 'pnl_techmahindra', 'pnl_mindtree', 'pnl_landtinfotech', 'pnl_mphasis', 'pnl_coforge'])"
      ]
     },
     "execution_count": 259,
     "metadata": {},
     "output_type": "execute_result"
    }
   ],
   "source": [
    "cagr_profit.keys()"
   ]
  },
  {
   "cell_type": "code",
   "execution_count": 260,
   "id": "1053c5cb",
   "metadata": {},
   "outputs": [
    {
     "data": {
      "text/plain": [
       "dict_keys(['pnl_KPITE', 'pnl_KPITEC', 'pnl_WIPRO', 'pnl_Infosys', 'pnl_TCS', 'pnl_LandT_tech', 'pnl_hcl', 'pnl_techmahindra', 'pnl_mindtree', 'pnl_landtinfotech', 'pnl_mphasis', 'pnl_coforge'])"
      ]
     },
     "execution_count": 260,
     "metadata": {},
     "output_type": "execute_result"
    }
   ],
   "source": [
    "cagr_profit.keys(  )"
   ]
  },
  {
   "cell_type": "code",
   "execution_count": 261,
   "id": "5deb156e",
   "metadata": {},
   "outputs": [],
   "source": [
    "cagr_EBITDA = {}\n",
    "for i in PNL_list:\n",
    "#     print(i)\n",
    "    cagr_EBITDA[\"{}\".format(i)] = cagr(PNL_list[i],'Profit/Loss Before Exceptional ExtraOrdinary Items And Tax')"
   ]
  },
  {
   "cell_type": "code",
   "execution_count": 262,
   "id": "c26be442",
   "metadata": {},
   "outputs": [],
   "source": [
    "OprtCF = {}\n",
    "for i in cs_list:\n",
    "    OprtCF[\"{}\".format(i)] = value(cs_list[i],'Net CashFlow From Operating Activities')\n",
    "    "
   ]
  },
  {
   "cell_type": "code",
   "execution_count": 263,
   "id": "d8d739ff",
   "metadata": {},
   "outputs": [],
   "source": [
    "FreeCF = {}\n",
    "for i,j in zip(cs_list,balancesheet_list):\n",
    "#     print(cs_list[i],balancesheet_list[j])\n",
    "  FreeCF[\"{}-{}\".format(i,j)] = freecashflow(cs_list[i],balancesheet_list[j])\n",
    "    "
   ]
  },
  {
   "cell_type": "code",
   "execution_count": 264,
   "id": "ef43ecee",
   "metadata": {},
   "outputs": [
    {
     "data": {
      "text/plain": [
       "dict_keys(['cs_KPITE-BS_KPITE', 'cs_KPITEC-BS_KPITEC', 'cs_WIPRO-BS_WIPRO', 'cs_Infosys-BS_Infosys', 'cs_TCS-BS_TCS', 'cs_LandT_tech-BS_LandT_tech', 'cs_hcl-BS_hcl', 'cs_techmahindra-BS_techmahindra', 'cs_mindtree-BS_mindtree', 'cs_landtinfotech-BS_landtinfotech', 'cs_mphasis-BS_mphasis', 'cs_coforge-BS_coforge'])"
      ]
     },
     "execution_count": 264,
     "metadata": {},
     "output_type": "execute_result"
    }
   ],
   "source": [
    "FreeCF.keys()"
   ]
  },
  {
   "cell_type": "code",
   "execution_count": 265,
   "id": "002c5fc4",
   "metadata": {},
   "outputs": [
    {
     "data": {
      "text/plain": [
       "dict_keys(['pnl_KPITE', 'pnl_KPITEC', 'pnl_WIPRO', 'pnl_Infosys', 'pnl_TCS', 'pnl_LandT_tech', 'pnl_hcl', 'pnl_techmahindra', 'pnl_mindtree', 'pnl_landtinfotech', 'pnl_mphasis', 'pnl_coforge'])"
      ]
     },
     "execution_count": 265,
     "metadata": {},
     "output_type": "execute_result"
    }
   ],
   "source": [
    "PNL_list.keys()"
   ]
  },
  {
   "cell_type": "code",
   "execution_count": 266,
   "id": "2f5219b2",
   "metadata": {},
   "outputs": [],
   "source": [
    "def roe(stockPNL, stockbs):\n",
    "    months = example(stockPNL)\n",
    "    returnequity = []\n",
    "    for i in range(0, len(months)):\n",
    "\n",
    "        returnequity.append((stockPNL[stockPNL.iloc[:, 1] == 'Profit/Loss For The Period'][months[i]]).astype('float').values / (stockbs[stockbs.iloc[:, 1] == 'Total Shareholders Funds'][months[i]]).astype('float').values)\n",
    "\n",
    "    return returnequity"
   ]
  },
  {
   "cell_type": "code",
   "execution_count": 267,
   "id": "fae97a39",
   "metadata": {},
   "outputs": [],
   "source": [
    "# months = example(PNL_list['Infosys'])\n",
    "# # months = example(PNL_list['Infosys_pnl'])\n",
    "# months"
   ]
  },
  {
   "cell_type": "code",
   "execution_count": 268,
   "id": "569f9d12",
   "metadata": {},
   "outputs": [],
   "source": [
    "returnequity = {}\n",
    "for i,j in zip(PNL_list,balancesheet_list):\n",
    "    returnequity[\"{}-{}\".format(i,j)] =  roe(PNL_list[i],balancesheet_list[j])"
   ]
  },
  {
   "cell_type": "code",
   "execution_count": 269,
   "id": "af1a950b",
   "metadata": {},
   "outputs": [],
   "source": [
    "debtequity = {}\n",
    "for i in (balancesheet_list):\n",
    "#     print(balancesheet_list[i])\n",
    "    debtequity[\"{}\".format(i)] =  DE(balancesheet_list[i])"
   ]
  },
  {
   "cell_type": "code",
   "execution_count": 270,
   "id": "bd232bc8",
   "metadata": {},
   "outputs": [],
   "source": [
    "# Stocs URLs\n",
    "KPITE_url = \"https://www.moneycontrol.com/india/stockpricequote/it-servicesconsulting/kpittechnologies/KPITT54265\"\n",
    "KPITEC_url = \"https://www.moneycontrol.com/india/stockpricequote/computers-software-mediumsmall/birlasoft/KPI02\"\n",
    "WIPRO_url = \"https://www.moneycontrol.com/india/stockpricequote/computers-software/wipro/W\"\n",
    "Infosys_url = \"https://www.moneycontrol.com/india/stockpricequote/computers-software/infosys/IT\" \n",
    "TCS_url = \"https://www.moneycontrol.com/india/stockpricequote/computers-software/tataconsultancyservices/TCS\"\n",
    "LandT_tech_url =  \"https://www.moneycontrol.com/india/stockpricequote/computers-software/lttechnologyservices/LTS\"\n",
    "hcl_url =   \"https://www.moneycontrol.com/india/stockpricequote/computers-software/hcltechnologies/HCL02\"\n",
    "mindtree_url = \"https://www.moneycontrol.com/india/stockpricequote/computers-software/mindtree/MT13\"\n",
    "landtinfotech_url =  \"https://www.moneycontrol.com/india/stockpricequote/computers-software/larsentoubroinfotech/LI12\"\n",
    "mphasis_url = \"https://www.moneycontrol.com/india/stockpricequote/computers-software/mphasis/MB02\"\n",
    "coforge_url = \"https://www.moneycontrol.com/india/stockpricequote/computers-software/coforgelimited/NII02\"\n",
    "techmahindra_url = \"https://www.moneycontrol.com/india/stockpricequote/computers-software/techmahindra/TM4\""
   ]
  },
  {
   "cell_type": "code",
   "execution_count": 271,
   "id": "0ed247fe",
   "metadata": {},
   "outputs": [],
   "source": [
    "url = [KPITE_url,KPITEC_url,WIPRO_url, Infosys_url,TCS_url,LandT_tech_url, hcl_url,mindtree_url,landtinfotech_url,mphasis_url,coforge_url,techmahindra_url ]\n",
    "url_name = ['KPITE_url','KPITEC_url','WIPRO_url', 'Infosys_url','TCS_url','LandT_tech_url', 'hcl_url','mindtree_url','landtinfotech_url','mphasis_url','coforge_url','techmahindra_url' ]"
   ]
  },
  {
   "cell_type": "code",
   "execution_count": 326,
   "id": "59fde810",
   "metadata": {},
   "outputs": [],
   "source": [
    "stock = {}\n",
    "for i,j in zip(url,url_name):\n",
    "    stock[\"{}\".format(j)]  = get_scrip_info(i)"
   ]
  },
  {
   "cell_type": "code",
   "execution_count": 327,
   "id": "d92defad",
   "metadata": {},
   "outputs": [
    {
     "data": {
      "text/plain": [
       "(564.0,\n",
       " 531.55,\n",
       " 'KPIT Technologies Ltd.',\n",
       " nan,\n",
       " 2762058.0,\n",
       " 8.83,\n",
       " 61.53,\n",
       " 39.44,\n",
       " 14896.0)"
      ]
     },
     "execution_count": 327,
     "metadata": {},
     "output_type": "execute_result"
    }
   ],
   "source": [
    "stock['KPITE_url']"
   ]
  },
  {
   "cell_type": "code",
   "execution_count": 277,
   "id": "46437fe4",
   "metadata": {},
   "outputs": [
    {
     "name": "stderr",
     "output_type": "stream",
     "text": [
      "C:\\Users\\Aman\\AppData\\Local\\Temp/ipykernel_480/1519330944.py:7: RuntimeWarning: divide by zero encountered in true_divide\n",
      "  result.append( ((stock[stock.iloc[:, 1] == mode][months[i]]).astype('float').values\n"
     ]
    },
    {
     "data": {
      "text/plain": [
       "[array([-16.1481542]), array([267.72399278]), array([inf])]"
      ]
     },
     "execution_count": 277,
     "metadata": {},
     "output_type": "execute_result"
    }
   ],
   "source": [
    "# cagr(PNL_list['pnl_WIPRO'], 'Total Revenue')\n",
    "cagr(PNL_list['pnl_KPITE'], 'Total Revenue')"
   ]
  },
  {
   "cell_type": "code",
   "execution_count": 278,
   "id": "2fe298b3",
   "metadata": {},
   "outputs": [],
   "source": [
    "def summation(stock, mode, year):\n",
    "        summation = (stock[stock.iloc[:, 1] == mode][year]).astype('float').values\n",
    "        return summation"
   ]
  },
  {
   "cell_type": "code",
   "execution_count": 279,
   "id": "4ff1c9ab",
   "metadata": {},
   "outputs": [],
   "source": [
    "# def average_index(stock,mode, year): \n",
    "#     average = {}\n",
    "#     average['{}{}'.format(str(mode) , str(year))] = 0\n",
    "#     for i in stock: \n",
    "#         average['{}{}'.format(str(mode) , str(year))]  =  average['{}{}'.format(str(mode) , str(year))]  + summation(i,mode, year)\n",
    "#     return average['{}{}'.format(str(mode) , str(year))]"
   ]
  },
  {
   "cell_type": "markdown",
   "id": "6ea2a60d",
   "metadata": {},
   "source": [
    "##### Mean"
   ]
  },
  {
   "cell_type": "code",
   "execution_count": 280,
   "id": "2afee83d",
   "metadata": {},
   "outputs": [],
   "source": [
    "index_stock_pnl = ['pnl_KPITE','pnl_KPITEC' ,'pnl_WIPRO' ,'pnl_Infosys', 'pnl_TCS', 'pnl_LandT_tech','pnl_hcl', 'pnl_techmahindra', 'pnl_mindtree' ,'pnl_landtinfotech','pnl_mphasis', 'pnl_coforge']\n",
    "index_stock_cs =  ['cs_KPITE','cs_KPITEC' ,'cs_WIPRO' ,'cs_Infosys', 'cs_TCS', 'cs_LandT_tech','cs_hcl', 'cs_techmahindra', 'cs_mindtree' ,'cs_landtinfotech','cs_mphasis', 'cs_coforge']\n",
    "index_stock_bs =  ['BS_KPITE','BS_KPITEC' ,'BS_WIPRO' ,'BS_Infosys', 'BS_TCS', 'BS_LandT_tech','BS_hcl', 'BS_techmahindra', 'BS_mindtree' ,'BS_landtinfotech','BS_mphasis', 'BS_coforge']"
   ]
  },
  {
   "cell_type": "code",
   "execution_count": 281,
   "id": "c7b3279f",
   "metadata": {},
   "outputs": [],
   "source": [
    "# cs_list.keys()\n",
    "# balancesheet_list.keys()\n"
   ]
  },
  {
   "cell_type": "code",
   "execution_count": 282,
   "id": "eb1042dc",
   "metadata": {},
   "outputs": [
    {
     "name": "stdout",
     "output_type": "stream",
     "text": [
      "pnl_KPITE\n",
      "pnl_KPITEC\n",
      "pnl_WIPRO\n",
      "pnl_Infosys\n",
      "pnl_TCS\n",
      "pnl_LandT_tech\n",
      "pnl_hcl\n",
      "pnl_techmahindra\n",
      "pnl_mindtree\n",
      "pnl_landtinfotech\n",
      "pnl_mphasis\n",
      "pnl_coforge\n"
     ]
    }
   ],
   "source": [
    "for i in PNL_list:\n",
    "    print(i)"
   ]
  },
  {
   "cell_type": "code",
   "execution_count": 283,
   "id": "03d29043",
   "metadata": {},
   "outputs": [],
   "source": [
    "def summation(stock, mode, year):\n",
    "        summation = (stock[stock.iloc[:, 1] == mode][year]).astype('float').values\n",
    "        return summation"
   ]
  },
  {
   "cell_type": "code",
   "execution_count": 284,
   "id": "dc17e65c",
   "metadata": {},
   "outputs": [
    {
     "data": {
      "text/plain": [
       "array([1652.48])"
      ]
     },
     "execution_count": 284,
     "metadata": {},
     "output_type": "execute_result"
    }
   ],
   "source": [
    "# average_index(index_stock_pnl,'Total Revenue',  'Mar 21')\n",
    "# for i in PNL_list:\n",
    "#     print(i)\n",
    "listr = ['pnl_KPITE','pnl_KPITEC']\n",
    "for i in listr:\n",
    "    janwar = summation(PNL_list[i], 'Total Revenue', 'Mar 21')\n",
    "    \n",
    "janwar"
   ]
  },
  {
   "cell_type": "code",
   "execution_count": 285,
   "id": "4fdad799",
   "metadata": {},
   "outputs": [],
   "source": [
    "Sum_Sales_average21 = 0\n",
    "Sum_Sales_average20 = 0\n",
    "Sum_Profit_average21 = 0\n",
    "Sum_Profit_average20 = 0\n",
    "Sum_EBITDA_average21 = 0 \n",
    "Sum_EBITDA_average20 = 0\n",
    "Sum_DEliabilities_average21 = 0\n",
    "Sum_DE_fundaverage21 = 0\n",
    "Sum_fixedassets_average21 = 0\n",
    "Sum_operatingcashflow_average21 = 0\n",
    "\n",
    "\n",
    "for i in index_stock_pnl:\n",
    "    \n",
    "    Sum_Sales_average21 = Sum_Sales_average21 + summation(PNL_list[i], 'Total Revenue', 'Mar 21')\n",
    "    Sum_Sales_average20 = Sum_Sales_average20 + summation(PNL_list[i], 'Total Revenue', 'Mar 20')\n",
    "    Sum_Profit_average21 = Sum_Profit_average21 + summation(PNL_list[i], 'Profit/Loss For The Period', 'Mar 21')\n",
    "    Sum_Profit_average20 = Sum_Profit_average20 + summation(PNL_list[i], 'Profit/Loss For The Period', 'Mar 20')   \n",
    "    Sum_EBITDA_average21 = Sum_EBITDA_average21 + summation(PNL_list[i], 'Profit/Loss Before Exceptional ExtraOrdinary Items And Tax', 'Mar 21')\n",
    "    Sum_EBITDA_average20 = Sum_EBITDA_average20 + summation(PNL_list[i], 'Profit/Loss Before Exceptional ExtraOrdinary Items And Tax', 'Mar 20')  \n",
    "    \n",
    "for i in index_stock_bs:\n",
    "    Sum_DEliabilities_average21 = Sum_DEliabilities_average21 + summation(balancesheet_list[i] , 'Total Capital And Liabilities', 'Mar 21')\n",
    "    Sum_DE_fundaverage21 = Sum_DE_fundaverage21 + summation(balancesheet_list[i], 'Total Shareholders Funds', 'Mar 21')\n",
    "    Sum_fixedassets_average21 = Sum_fixedassets_average21 + summation(balancesheet_list[i], 'Fixed Assets', 'Mar 21')\n",
    "    \n",
    "# Sum_ROE_average21 = Sum_DE_average21\n",
    "\n",
    "for i in index_stock_cs:\n",
    "    Sum_operatingcashflow_average21 = Sum_operatingcashflow_average21 + summation(cs_list[i], 'Net CashFlow From Operating Activities', 'Mar 21')\n",
    "\n"
   ]
  },
  {
   "cell_type": "code",
   "execution_count": null,
   "id": "ec69856d",
   "metadata": {},
   "outputs": [],
   "source": []
  },
  {
   "cell_type": "markdown",
   "id": "3651731a",
   "metadata": {},
   "source": [
    "##### Dataframe creation"
   ]
  },
  {
   "cell_type": "code",
   "execution_count": 286,
   "id": "2707b417",
   "metadata": {},
   "outputs": [
    {
     "data": {
      "text/plain": [
       "dict_keys(['cs_KPITE-BS_KPITE', 'cs_KPITEC-BS_KPITEC', 'cs_WIPRO-BS_WIPRO', 'cs_Infosys-BS_Infosys', 'cs_TCS-BS_TCS', 'cs_LandT_tech-BS_LandT_tech', 'cs_hcl-BS_hcl', 'cs_techmahindra-BS_techmahindra', 'cs_mindtree-BS_mindtree', 'cs_landtinfotech-BS_landtinfotech', 'cs_mphasis-BS_mphasis', 'cs_coforge-BS_coforge'])"
      ]
     },
     "execution_count": 286,
     "metadata": {},
     "output_type": "execute_result"
    }
   ],
   "source": [
    "FreeCF.keys()"
   ]
  },
  {
   "cell_type": "code",
   "execution_count": 287,
   "id": "3da6f298",
   "metadata": {},
   "outputs": [],
   "source": [
    "# FreeCF['cs_KPITE']"
   ]
  },
  {
   "cell_type": "code",
   "execution_count": 288,
   "id": "0e98f384",
   "metadata": {},
   "outputs": [
    {
     "data": {
      "text/plain": [
       "dict_keys(['pnl_KPITE-BS_KPITE', 'pnl_KPITEC-BS_KPITEC', 'pnl_WIPRO-BS_WIPRO', 'pnl_Infosys-BS_Infosys', 'pnl_TCS-BS_TCS', 'pnl_LandT_tech-BS_LandT_tech', 'pnl_hcl-BS_hcl', 'pnl_techmahindra-BS_techmahindra', 'pnl_mindtree-BS_mindtree', 'pnl_landtinfotech-BS_landtinfotech', 'pnl_mphasis-BS_mphasis', 'pnl_coforge-BS_coforge'])"
      ]
     },
     "execution_count": 288,
     "metadata": {},
     "output_type": "execute_result"
    }
   ],
   "source": [
    "returnequity.keys()"
   ]
  },
  {
   "cell_type": "code",
   "execution_count": 289,
   "id": "c790f78f",
   "metadata": {},
   "outputs": [
    {
     "data": {
      "text/plain": [
       "dict_keys(['BS_KPITE', 'BS_KPITEC', 'BS_WIPRO', 'BS_Infosys', 'BS_TCS', 'BS_LandT_tech', 'BS_hcl', 'BS_techmahindra', 'BS_mindtree', 'BS_landtinfotech', 'BS_mphasis', 'BS_coforge'])"
      ]
     },
     "execution_count": 289,
     "metadata": {},
     "output_type": "execute_result"
    }
   ],
   "source": [
    "debtequity.keys()"
   ]
  },
  {
   "cell_type": "code",
   "execution_count": 290,
   "id": "dfe453dc",
   "metadata": {},
   "outputs": [
    {
     "data": {
      "text/plain": [
       "array([1.25898862])"
      ]
     },
     "execution_count": 290,
     "metadata": {},
     "output_type": "execute_result"
    }
   ],
   "source": [
    "debtequity['BS_KPITE'][0]"
   ]
  },
  {
   "cell_type": "code",
   "execution_count": 291,
   "id": "22c2b322",
   "metadata": {},
   "outputs": [],
   "source": [
    "KPITE21 = pd.DataFrame({'Stake': ['CAGR_Sales', 'CAGR_Profit', 'CAGR_EBITDA', 'DE_Ratio','PE_Ratio','ROE', 'Operating Cash Flow', 'Free Cash Flow'],\n",
    "                    'KPITE': [cagr_revenue['pnl_KPITE'][0], cagr_profit['pnl_KPITE'][0], cagr_EBITDA['pnl_KPITE'][0], debtequity['BS_KPITE'][0], stock['KPITE_url'][6], returnequity['pnl_KPITE-BS_KPITE'][0], OprtCF['cs_KPITE'][0] ,FreeCF['cs_KPITE-BS_KPITE'][0]]})\n",
    "\n",
    "KPITEC21 = pd.DataFrame({'Stake': ['CAGR_Sales', 'CAGR_Profit', 'CAGR_EBITDA', 'DE_Ratio','PE_Ratio','ROE', 'Operating Cash Flow', 'Free Cash Flow'],\n",
    "                    'KPITEC': [cagr_revenue['pnl_KPITEC'][0],  cagr_profit['pnl_KPITEC'][0], cagr_EBITDA['pnl_KPITEC'][0], debtequity['BS_KPITEC'][0],stock['KPITEC_url'][6], returnequity['pnl_KPITEC-BS_KPITEC'][0],  OprtCF['cs_KPITEC'][0] ,FreeCF['cs_KPITEC-BS_KPITEC'][0]]})\n",
    "\n",
    "\n",
    "WIPRO21 = pd.DataFrame({'Stake': ['CAGR_Sales', 'CAGR_Profit', 'CAGR_EBITDA', 'DE_Ratio','PE_Ratio','ROE', 'Operating Cash Flow', 'Free Cash Flow'],\n",
    "                    'WIPRO': [cagr_revenue['pnl_WIPRO'][0], cagr_profit['pnl_KPITEC'][0], cagr_EBITDA['pnl_WIPRO'][0], debtequity['BS_WIPRO'][0],stock['WIPRO_url'][6], returnequity['pnl_WIPRO-BS_WIPRO'][0],  OprtCF['cs_WIPRO'][0] ,FreeCF['cs_WIPRO-BS_WIPRO'][0]]})\n",
    "\n",
    "\n",
    "\n"
   ]
  },
  {
   "cell_type": "code",
   "execution_count": 292,
   "id": "cf4e350a",
   "metadata": {},
   "outputs": [
    {
     "data": {
      "text/plain": [
       "dict_keys(['cs_KPITE', 'cs_KPITEC', 'cs_WIPRO', 'cs_Infosys', 'cs_TCS', 'cs_LandT_tech', 'cs_hcl', 'cs_techmahindra', 'cs_mindtree', 'cs_landtinfotech', 'cs_mphasis', 'cs_coforge'])"
      ]
     },
     "execution_count": 292,
     "metadata": {},
     "output_type": "execute_result"
    }
   ],
   "source": [
    "OprtCF.keys()"
   ]
  },
  {
   "cell_type": "code",
   "execution_count": 293,
   "id": "aad64570",
   "metadata": {},
   "outputs": [],
   "source": [
    "Infosys21 = pd.DataFrame({'Stake': ['CAGR_Sales', 'CAGR_Profit', 'CAGR_EBITDA', 'DE_Ratio','PE_Ratio','ROE', 'Operating Cash Flow', 'Free Cash Flow'],\n",
    "                    'Infosys': [cagr_revenue['pnl_Infosys'][0], cagr_profit['pnl_Infosys'][0], cagr_EBITDA['pnl_Infosys'][0], debtequity['BS_Infosys'][0], stock['Infosys_url'][6], returnequity['pnl_Infosys-BS_Infosys'][0], OprtCF['cs_Infosys'][0] ,FreeCF['cs_Infosys-BS_Infosys'][0]]})\n",
    "\n",
    "TCS21 = pd.DataFrame({'Stake': ['CAGR_Sales', 'CAGR_Profit', 'CAGR_EBITDA', 'DE_Ratio','PE_Ratio','ROE', 'Operating Cash Flow', 'Free Cash Flow'],\n",
    "                    'TCS': [cagr_revenue['pnl_TCS'][0], cagr_profit['pnl_TCS'][0], cagr_EBITDA['pnl_TCS'][0], debtequity['BS_TCS'][0], stock['TCS_url'][6], returnequity['pnl_TCS-BS_TCS'][0], OprtCF['cs_TCS'][0] ,FreeCF['cs_TCS-BS_TCS'][0]]})\n",
    "\n",
    "LandT_tech21 = pd.DataFrame({'Stake': ['CAGR_Sales', 'CAGR_Profit', 'CAGR_EBITDA', 'DE_Ratio','PE_Ratio','ROE', 'Operating Cash Flow', 'Free Cash Flow'],\n",
    "                    'LandT_tech': [cagr_revenue['pnl_LandT_tech'][0], cagr_profit['pnl_LandT_tech'][0], cagr_EBITDA['pnl_LandT_tech'][0], debtequity['BS_LandT_tech'][0], stock['LandT_tech_url'][6], returnequity['pnl_LandT_tech-BS_LandT_tech'][0], OprtCF['cs_LandT_tech'][0] ,FreeCF['cs_LandT_tech-BS_LandT_tech'][0]]})\n",
    "\n",
    "hcl21 = pd.DataFrame({'Stake': ['CAGR_Sales', 'CAGR_Profit', 'CAGR_EBITDA', 'DE_Ratio','PE_Ratio','ROE', 'Operating Cash Flow', 'Free Cash Flow'],\n",
    "                    'hcl': [cagr_revenue['pnl_hcl'][0], cagr_profit['pnl_hcl'][0], cagr_EBITDA['pnl_hcl'][0], debtequity['BS_hcl'][0], stock['hcl_url'][6], returnequity['pnl_hcl-BS_hcl'][0], OprtCF['cs_hcl'][0] ,FreeCF['cs_hcl-BS_hcl'][0]]})\n",
    "\n",
    "techmahindra21 = pd.DataFrame({'Stake': ['CAGR_Sales', 'CAGR_Profit', 'CAGR_EBITDA', 'DE_Ratio','PE_Ratio','ROE', 'Operating Cash Flow', 'Free Cash Flow'],\n",
    "                    'techmahindra': [cagr_revenue['pnl_techmahindra'][0], cagr_profit['pnl_techmahindra'][0], cagr_EBITDA['pnl_techmahindra'][0], debtequity['BS_techmahindra'][0], stock['techmahindra_url'][6], returnequity['pnl_techmahindra-BS_techmahindra'][0], OprtCF['cs_techmahindra'][0] ,FreeCF['cs_techmahindra-BS_techmahindra'][0]]})\n",
    "\n",
    "mindtree21 = pd.DataFrame({'Stake': ['CAGR_Sales', 'CAGR_Profit', 'CAGR_EBITDA', 'DE_Ratio','PE_Ratio','ROE', 'Operating Cash Flow', 'Free Cash Flow'],\n",
    "                    'mindtree': [cagr_revenue['pnl_mindtree'][0], cagr_profit['pnl_mindtree'][0], cagr_EBITDA['pnl_mindtree'][0], debtequity['BS_mindtree'][0], stock['mindtree_url'][6], returnequity['pnl_mindtree-BS_mindtree'][0], OprtCF['cs_mindtree'][0] ,FreeCF['cs_mindtree-BS_mindtree'][0]]})\n",
    "\n",
    "\n",
    "landtinfotech21 = pd.DataFrame({'Stake': ['CAGR_Sales', 'CAGR_Profit', 'CAGR_EBITDA', 'DE_Ratio','PE_Ratio','ROE', 'Operating Cash Flow', 'Free Cash Flow'],\n",
    "                    'landtinfotech': [cagr_revenue['pnl_landtinfotech'][0], cagr_profit['pnl_landtinfotech'][0], cagr_EBITDA['pnl_landtinfotech'][0], debtequity['BS_landtinfotech'][0], stock['landtinfotech_url'][6], returnequity['pnl_landtinfotech-BS_landtinfotech'][0], OprtCF['cs_landtinfotech'][0] ,FreeCF['cs_landtinfotech-BS_landtinfotech'][0]]})\n",
    "\n",
    "mphasis21 = pd.DataFrame({'Stake': ['CAGR_Sales', 'CAGR_Profit', 'CAGR_EBITDA', 'DE_Ratio','PE_Ratio','ROE', 'Operating Cash Flow', 'Free Cash Flow'],\n",
    "                    'mphasis': [cagr_revenue['pnl_mphasis'][0], cagr_profit['pnl_mphasis'][0], cagr_EBITDA['pnl_mphasis'][0], debtequity['BS_mphasis'][0], stock['mphasis_url'][6], returnequity['pnl_mphasis-BS_mphasis'][0], OprtCF['cs_mphasis'][0] ,FreeCF['cs_mphasis-BS_mphasis'][0]]})\n",
    "\n",
    "coforge21 = pd.DataFrame({'Stake': ['CAGR_Sales', 'CAGR_Profit', 'CAGR_EBITDA', 'DE_Ratio','PE_Ratio','ROE', 'Operating Cash Flow', 'Free Cash Flow'],\n",
    "                    'coforge': [cagr_revenue['pnl_coforge'][0], cagr_profit['pnl_coforge'][0], cagr_EBITDA['pnl_coforge'][0], debtequity['BS_coforge'][0], stock['coforge_url'][6], returnequity['pnl_coforge-BS_coforge'][0], OprtCF['cs_coforge'][0] ,FreeCF['cs_coforge-BS_coforge'][0]]})\n"
   ]
  },
  {
   "cell_type": "code",
   "execution_count": 294,
   "id": "bb15cf1d",
   "metadata": {
    "scrolled": true
   },
   "outputs": [
    {
     "data": {
      "text/html": [
       "<div>\n",
       "<style scoped>\n",
       "    .dataframe tbody tr th:only-of-type {\n",
       "        vertical-align: middle;\n",
       "    }\n",
       "\n",
       "    .dataframe tbody tr th {\n",
       "        vertical-align: top;\n",
       "    }\n",
       "\n",
       "    .dataframe thead th {\n",
       "        text-align: right;\n",
       "    }\n",
       "</style>\n",
       "<table border=\"1\" class=\"dataframe\">\n",
       "  <thead>\n",
       "    <tr style=\"text-align: right;\">\n",
       "      <th></th>\n",
       "      <th>Stake</th>\n",
       "      <th>Infosys</th>\n",
       "      <th>TCS</th>\n",
       "      <th>LandT_tech</th>\n",
       "      <th>hcl</th>\n",
       "      <th>techmahindra</th>\n",
       "      <th>mindtree</th>\n",
       "      <th>landtinfotech</th>\n",
       "      <th>mphasis</th>\n",
       "      <th>coforge</th>\n",
       "    </tr>\n",
       "  </thead>\n",
       "  <tbody>\n",
       "    <tr>\n",
       "      <th>0</th>\n",
       "      <td>CAGR_Sales</td>\n",
       "      <td>[8.112835945049968]</td>\n",
       "      <td>[1.4169081986971532]</td>\n",
       "      <td>[-4.733387718777815]</td>\n",
       "      <td>[10.3786943030157]</td>\n",
       "      <td>[-3.256878410716768]</td>\n",
       "      <td>[3.5663720200512783]</td>\n",
       "      <td>[11.139082963256296]</td>\n",
       "      <td>[20.989073811190817]</td>\n",
       "      <td>[0.09540467482906934]</td>\n",
       "    </tr>\n",
       "    <tr>\n",
       "      <th>1</th>\n",
       "      <td>CAGR_Profit</td>\n",
       "      <td>[16.11657981084733]</td>\n",
       "      <td>[-6.915213469633197]</td>\n",
       "      <td>[-14.797468354430377]</td>\n",
       "      <td>[-2.5197903891180706]</td>\n",
       "      <td>[-6.514499944867125]</td>\n",
       "      <td>[76.01458465440712]</td>\n",
       "      <td>[15.137851069312024]</td>\n",
       "      <td>[-7.858529865732833]</td>\n",
       "      <td>[-43.2189349112426]</td>\n",
       "    </tr>\n",
       "    <tr>\n",
       "      <th>2</th>\n",
       "      <td>CAGR_EBITDA</td>\n",
       "      <td>[19.53411144210577]</td>\n",
       "      <td>[0.3072086875758995]</td>\n",
       "      <td>[-15.156398104265401]</td>\n",
       "      <td>[11.031582714502996]</td>\n",
       "      <td>[3.645774727129525]</td>\n",
       "      <td>[80.78918788463858]</td>\n",
       "      <td>[19.133034379671155]</td>\n",
       "      <td>[4.188406214868401]</td>\n",
       "      <td>[-41.84280730556126]</td>\n",
       "    </tr>\n",
       "    <tr>\n",
       "      <th>3</th>\n",
       "      <td>DE_Ratio</td>\n",
       "      <td>[1.3132627811717996]</td>\n",
       "      <td>[1.462430141455197]</td>\n",
       "      <td>[1.4431005059728752]</td>\n",
       "      <td>[1.2711179482469634]</td>\n",
       "      <td>[1.3344168695798198]</td>\n",
       "      <td>[1.4728384198582873]</td>\n",
       "      <td>[1.4391913311622815]</td>\n",
       "      <td>[1.3791278523451003]</td>\n",
       "      <td>[1.2463021439255442]</td>\n",
       "    </tr>\n",
       "    <tr>\n",
       "      <th>4</th>\n",
       "      <td>PE_Ratio</td>\n",
       "      <td>32.83</td>\n",
       "      <td>33.42</td>\n",
       "      <td>50.9</td>\n",
       "      <td>27.08</td>\n",
       "      <td>25.18</td>\n",
       "      <td>39.26</td>\n",
       "      <td>44.52</td>\n",
       "      <td>40.93</td>\n",
       "      <td>43.85</td>\n",
       "    </tr>\n",
       "    <tr>\n",
       "      <th>5</th>\n",
       "      <td>ROE</td>\n",
       "      <td>[0.2523101871915673]</td>\n",
       "      <td>[0.4139369468139156]</td>\n",
       "      <td>[0.20152091254752852]</td>\n",
       "      <td>[0.20074392119945814]</td>\n",
       "      <td>[0.1694914576561232]</td>\n",
       "      <td>[0.2570972074283332]</td>\n",
       "      <td>[0.25755785469321885]</td>\n",
       "      <td>[0.25762114128606395]</td>\n",
       "      <td>[0.13290122430890255]</td>\n",
       "    </tr>\n",
       "    <tr>\n",
       "      <th>6</th>\n",
       "      <td>Operating Cash Flow</td>\n",
       "      <td>[23224.0]</td>\n",
       "      <td>[33822.0]</td>\n",
       "      <td>[8350.79]</td>\n",
       "      <td>[15765.0]</td>\n",
       "      <td>[8093.8]</td>\n",
       "      <td>[1995.3]</td>\n",
       "      <td>[2179.5]</td>\n",
       "      <td>[1289.94]</td>\n",
       "      <td>[485.0]</td>\n",
       "    </tr>\n",
       "    <tr>\n",
       "      <th>7</th>\n",
       "      <td>Free Cash Flow</td>\n",
       "      <td>[7719.0]</td>\n",
       "      <td>[16902.0]</td>\n",
       "      <td>[7319.290000000001]</td>\n",
       "      <td>[-5385.0]</td>\n",
       "      <td>[4934.700000000001]</td>\n",
       "      <td>[697.3]</td>\n",
       "      <td>[1106.0]</td>\n",
       "      <td>[693.5200000000001]</td>\n",
       "      <td>[102.10000000000002]</td>\n",
       "    </tr>\n",
       "  </tbody>\n",
       "</table>\n",
       "</div>"
      ],
      "text/plain": [
       "                 Stake               Infosys                   TCS  \\\n",
       "0           CAGR_Sales   [8.112835945049968]  [1.4169081986971532]   \n",
       "1          CAGR_Profit   [16.11657981084733]  [-6.915213469633197]   \n",
       "2          CAGR_EBITDA   [19.53411144210577]  [0.3072086875758995]   \n",
       "3             DE_Ratio  [1.3132627811717996]   [1.462430141455197]   \n",
       "4             PE_Ratio                 32.83                 33.42   \n",
       "5                  ROE  [0.2523101871915673]  [0.4139369468139156]   \n",
       "6  Operating Cash Flow             [23224.0]             [33822.0]   \n",
       "7       Free Cash Flow              [7719.0]             [16902.0]   \n",
       "\n",
       "              LandT_tech                    hcl          techmahindra  \\\n",
       "0   [-4.733387718777815]     [10.3786943030157]  [-3.256878410716768]   \n",
       "1  [-14.797468354430377]  [-2.5197903891180706]  [-6.514499944867125]   \n",
       "2  [-15.156398104265401]   [11.031582714502996]   [3.645774727129525]   \n",
       "3   [1.4431005059728752]   [1.2711179482469634]  [1.3344168695798198]   \n",
       "4                   50.9                  27.08                 25.18   \n",
       "5  [0.20152091254752852]  [0.20074392119945814]  [0.1694914576561232]   \n",
       "6              [8350.79]              [15765.0]              [8093.8]   \n",
       "7    [7319.290000000001]              [-5385.0]   [4934.700000000001]   \n",
       "\n",
       "               mindtree          landtinfotech                mphasis  \\\n",
       "0  [3.5663720200512783]   [11.139082963256296]   [20.989073811190817]   \n",
       "1   [76.01458465440712]   [15.137851069312024]   [-7.858529865732833]   \n",
       "2   [80.78918788463858]   [19.133034379671155]    [4.188406214868401]   \n",
       "3  [1.4728384198582873]   [1.4391913311622815]   [1.3791278523451003]   \n",
       "4                 39.26                  44.52                  40.93   \n",
       "5  [0.2570972074283332]  [0.25755785469321885]  [0.25762114128606395]   \n",
       "6              [1995.3]               [2179.5]              [1289.94]   \n",
       "7               [697.3]               [1106.0]    [693.5200000000001]   \n",
       "\n",
       "                 coforge  \n",
       "0  [0.09540467482906934]  \n",
       "1    [-43.2189349112426]  \n",
       "2   [-41.84280730556126]  \n",
       "3   [1.2463021439255442]  \n",
       "4                  43.85  \n",
       "5  [0.13290122430890255]  \n",
       "6                [485.0]  \n",
       "7   [102.10000000000002]  "
      ]
     },
     "execution_count": 294,
     "metadata": {},
     "output_type": "execute_result"
    }
   ],
   "source": [
    "it_index = Infosys21.merge(TCS21, how='outer', on='Stake').merge(LandT_tech21, how='outer', on='Stake').merge(hcl21, how='outer', on='Stake').merge(techmahindra21, how='outer', on='Stake').merge(mindtree21, how='outer', on='Stake').merge(landtinfotech21, how='outer', on='Stake').merge(mphasis21, how='outer', on='Stake').merge(coforge21, how='outer', on='Stake')\n",
    "it_index.head(10)"
   ]
  },
  {
   "cell_type": "code",
   "execution_count": 295,
   "id": "ee8c234c",
   "metadata": {},
   "outputs": [],
   "source": [
    "CAGR_AverageIndex_Sales21 = Sum_Sales_average21 / Sum_Sales_average20 -1 \n",
    "CAGR_AverageIndexProfit21 =  Sum_Profit_average21 / Sum_Profit_average20 -1 \n",
    "CAGR_AverageIndex_EBITDA21 = Sum_EBITDA_average21 / Sum_EBITDA_average20 - 1\n",
    "\n",
    "ROE_AverageIndex21 = Sum_Profit_average21 / Sum_DE_fundaverage21\n",
    "DE_AverageIndex21 = Sum_DEliabilities_average21 / Sum_DE_fundaverage21 \n",
    "Operatingcashflow_AverageIndex21 = Sum_operatingcashflow_average21 / len(index_stock_bs)\n",
    "Fixedcashflow_AverageIndex21 = (Sum_operatingcashflow_average21 - Sum_fixedassets_average21) / len(index_stock_bs)\n",
    "# power_index.iloc[:,1:] =  power_index.iloc[:,1:].astype('int')\n",
    "# # Removin outlier PE\n",
    "PE_AverageIndex21 = (it_index.iloc[4:5,1:].sum(axis =1).values  ) / (len(index_stock_bs))"
   ]
  },
  {
   "cell_type": "code",
   "execution_count": 296,
   "id": "fab764e0",
   "metadata": {},
   "outputs": [
    {
     "data": {
      "text/plain": [
       "array([28.16416667])"
      ]
     },
     "execution_count": 296,
     "metadata": {},
     "output_type": "execute_result"
    }
   ],
   "source": [
    "PE_AverageIndex21"
   ]
  },
  {
   "cell_type": "code",
   "execution_count": 297,
   "id": "d21f459d",
   "metadata": {},
   "outputs": [],
   "source": [
    "Average21 = pd.DataFrame({'Stake': ['CAGR_Sales', 'CAGR_Profit', 'CAGR_EBITDA', 'DE_Ratio','PE_Ratio','ROE', 'Operating Cash Flow', 'Free Cash Flow'],\n",
    "                    'Average21': [CAGR_AverageIndex_Sales21, CAGR_AverageIndexProfit21, CAGR_AverageIndex_EBITDA21, DE_AverageIndex21,PE_AverageIndex21, ROE_AverageIndex21, Operatingcashflow_AverageIndex21 ,Fixedcashflow_AverageIndex21]})\n"
   ]
  },
  {
   "cell_type": "code",
   "execution_count": 298,
   "id": "731699e2",
   "metadata": {},
   "outputs": [
    {
     "data": {
      "text/html": [
       "<div>\n",
       "<style scoped>\n",
       "    .dataframe tbody tr th:only-of-type {\n",
       "        vertical-align: middle;\n",
       "    }\n",
       "\n",
       "    .dataframe tbody tr th {\n",
       "        vertical-align: top;\n",
       "    }\n",
       "\n",
       "    .dataframe thead th {\n",
       "        text-align: right;\n",
       "    }\n",
       "</style>\n",
       "<table border=\"1\" class=\"dataframe\">\n",
       "  <thead>\n",
       "    <tr style=\"text-align: right;\">\n",
       "      <th></th>\n",
       "      <th>Stake</th>\n",
       "      <th>KPITE</th>\n",
       "      <th>KPITEC</th>\n",
       "      <th>WIPRO</th>\n",
       "      <th>Average21</th>\n",
       "    </tr>\n",
       "  </thead>\n",
       "  <tbody>\n",
       "    <tr>\n",
       "      <th>0</th>\n",
       "      <td>CAGR_Sales</td>\n",
       "      <td>[-16.1481542046523]</td>\n",
       "      <td>[10.377257668056018]</td>\n",
       "      <td>[-0.38064730842831684]</td>\n",
       "      <td>[0.034937936100047695]</td>\n",
       "    </tr>\n",
       "    <tr>\n",
       "      <th>1</th>\n",
       "      <td>CAGR_Profit</td>\n",
       "      <td>[-47.587559540487526]</td>\n",
       "      <td>[37.520426287744236]</td>\n",
       "      <td>[37.520426287744236]</td>\n",
       "      <td>[0.017811099769771355]</td>\n",
       "    </tr>\n",
       "    <tr>\n",
       "      <th>2</th>\n",
       "      <td>CAGR_EBITDA</td>\n",
       "      <td>[-52.173696776760835]</td>\n",
       "      <td>[28.873334230717475]</td>\n",
       "      <td>[15.235698647310514]</td>\n",
       "      <td>[0.0825664196675937]</td>\n",
       "    </tr>\n",
       "    <tr>\n",
       "      <th>3</th>\n",
       "      <td>DE_Ratio</td>\n",
       "      <td>[1.258988619344253]</td>\n",
       "      <td>[1.3158775053121232]</td>\n",
       "      <td>[1.4530056408261425]</td>\n",
       "      <td>[1.3777880289288615]</td>\n",
       "    </tr>\n",
       "    <tr>\n",
       "      <th>4</th>\n",
       "      <td>PE_Ratio</td>\n",
       "      <td>61.53</td>\n",
       "      <td>24.79</td>\n",
       "      <td>24.31</td>\n",
       "      <td>[28.16416666666667]</td>\n",
       "    </tr>\n",
       "    <tr>\n",
       "      <th>5</th>\n",
       "      <td>ROE</td>\n",
       "      <td>[0.08922319631392676]</td>\n",
       "      <td>[0.13894791247918223]</td>\n",
       "      <td>[0.22238161338237375]</td>\n",
       "      <td>[0.27272562645864457]</td>\n",
       "    </tr>\n",
       "    <tr>\n",
       "      <th>6</th>\n",
       "      <td>Operating Cash Flow</td>\n",
       "      <td>[417.8]</td>\n",
       "      <td>[554.12]</td>\n",
       "      <td>[12727.7]</td>\n",
       "      <td>[9075.4125]</td>\n",
       "    </tr>\n",
       "    <tr>\n",
       "      <th>7</th>\n",
       "      <td>Free Cash Flow</td>\n",
       "      <td>[126.47000000000003]</td>\n",
       "      <td>[319.21000000000004]</td>\n",
       "      <td>[3591.6000000000004]</td>\n",
       "      <td>[3177.1825000000013]</td>\n",
       "    </tr>\n",
       "  </tbody>\n",
       "</table>\n",
       "</div>"
      ],
      "text/plain": [
       "                 Stake                  KPITE                 KPITEC  \\\n",
       "0           CAGR_Sales    [-16.1481542046523]   [10.377257668056018]   \n",
       "1          CAGR_Profit  [-47.587559540487526]   [37.520426287744236]   \n",
       "2          CAGR_EBITDA  [-52.173696776760835]   [28.873334230717475]   \n",
       "3             DE_Ratio    [1.258988619344253]   [1.3158775053121232]   \n",
       "4             PE_Ratio                  61.53                  24.79   \n",
       "5                  ROE  [0.08922319631392676]  [0.13894791247918223]   \n",
       "6  Operating Cash Flow                [417.8]               [554.12]   \n",
       "7       Free Cash Flow   [126.47000000000003]   [319.21000000000004]   \n",
       "\n",
       "                    WIPRO               Average21  \n",
       "0  [-0.38064730842831684]  [0.034937936100047695]  \n",
       "1    [37.520426287744236]  [0.017811099769771355]  \n",
       "2    [15.235698647310514]    [0.0825664196675937]  \n",
       "3    [1.4530056408261425]    [1.3777880289288615]  \n",
       "4                   24.31     [28.16416666666667]  \n",
       "5   [0.22238161338237375]   [0.27272562645864457]  \n",
       "6               [12727.7]             [9075.4125]  \n",
       "7    [3591.6000000000004]    [3177.1825000000013]  "
      ]
     },
     "execution_count": 298,
     "metadata": {},
     "output_type": "execute_result"
    }
   ],
   "source": [
    "personal_stock = KPITE21.merge(KPITEC21, how='outer', on='Stake').merge(WIPRO21, how='outer', on='Stake').merge(Average21, how='outer', on='Stake')\n",
    "personal_stock.head(10) "
   ]
  },
  {
   "cell_type": "code",
   "execution_count": 299,
   "id": "15ae910c",
   "metadata": {},
   "outputs": [],
   "source": [
    "# PE_AverageIndex21"
   ]
  },
  {
   "cell_type": "code",
   "execution_count": 300,
   "id": "cf1b41e2",
   "metadata": {},
   "outputs": [],
   "source": [
    "# it_index.iloc[4:5,1:].sum(axis =1).values"
   ]
  },
  {
   "cell_type": "code",
   "execution_count": 301,
   "id": "6f9c5a9a",
   "metadata": {},
   "outputs": [],
   "source": [
    "# it_index.iloc[4:5]"
   ]
  },
  {
   "cell_type": "code",
   "execution_count": 302,
   "id": "05e4a5fd",
   "metadata": {},
   "outputs": [],
   "source": [
    "# example( PNL_list['pnl_KPITE'])\n"
   ]
  },
  {
   "cell_type": "code",
   "execution_count": 303,
   "id": "86079160",
   "metadata": {},
   "outputs": [],
   "source": [
    "# ((PNL_list['pnl_KPITE'][PNL_list['pnl_KPITE'].iloc[:, 1] == 'Total Revenue']['Mar 19']).astype('float').values  \n",
    "#                  / (PNL_list['pnl_KPITE'][PNL_list['pnl_KPITE'].iloc[:, 1] == 'Total Revenue']['Mar 18']).astype('float').values - 1)*100"
   ]
  },
  {
   "cell_type": "code",
   "execution_count": 304,
   "id": "bd24e979",
   "metadata": {},
   "outputs": [],
   "source": [
    "# (PNL_list['pnl_KPITE'][PNL_list['pnl_KPITE'].iloc[:, 1] == 'Total Revenue']['Mar 18']).astype('float').values - 1"
   ]
  },
  {
   "cell_type": "markdown",
   "id": "3b014d88",
   "metadata": {},
   "source": [
    "#### Plots"
   ]
  },
  {
   "cell_type": "code",
   "execution_count": 305,
   "id": "6ee0b2d2",
   "metadata": {},
   "outputs": [
    {
     "data": {
      "text/plain": [
       "<matplotlib.legend.Legend at 0x171b3879df0>"
      ]
     },
     "execution_count": 305,
     "metadata": {},
     "output_type": "execute_result"
    },
    {
     "data": {
      "image/png": "[encoded data removed]",
      "text/plain": [
       "<Figure size 1080x1080 with 4 Axes>"
      ]
     },
     "metadata": {
      "needs_background": "light"
     },
     "output_type": "display_data"
    }
   ],
   "source": [
    "import matplotlib.pyplot as plt\n",
    "import numpy as np\n",
    "import math\n",
    "\n",
    "fig, axs = plt.subplots(2, 2,figsize=(15,15))\n",
    "# f, axs = plt.subplots(2,2)\n",
    "\n",
    "# Define X and Y variable data\n",
    "x = np.array([ 'Mar 18', 'Mar 19', 'Mar 20', 'Mar 21'])\n",
    "# y1 = np.array([float(\"nan\"), cagr_revenue['pnl_KPITE'][2], cagr_revenue['pnl_KPITE'][1], cagr_revenue['pnl_KPITE'][0]])\n",
    "y2 = np.array([cagr_revenue['pnl_KPITEC'][3], cagr_revenue['pnl_KPITEC'][2], cagr_revenue['pnl_KPITEC'][1], cagr_revenue['pnl_KPITEC'][0]])\n",
    "y3 = np.array([cagr_revenue['pnl_WIPRO'][3], cagr_revenue['pnl_WIPRO'][2], cagr_revenue['pnl_WIPRO'][1], cagr_revenue['pnl_WIPRO'][0]])\n",
    "y4 = np.array([cagr_revenue['pnl_Infosys'][3], cagr_revenue['pnl_Infosys'][2], cagr_revenue['pnl_Infosys'][1], cagr_revenue['pnl_Infosys'][0]])\n",
    "y5 = np.array([cagr_revenue['pnl_TCS'][3], cagr_revenue['pnl_TCS'][2], cagr_revenue['pnl_TCS'][1], cagr_revenue['pnl_TCS'][0]])\n",
    "y6 = np.array([cagr_revenue['pnl_LandT_tech'][3], cagr_revenue['pnl_LandT_tech'][2], cagr_revenue['pnl_LandT_tech'][1], cagr_revenue['pnl_LandT_tech'][0]])\n",
    "y7 = np.array([cagr_revenue['pnl_hcl'][3], cagr_revenue['pnl_hcl'][2], cagr_revenue['pnl_hcl'][1], cagr_revenue['pnl_hcl'][0]])\n",
    "y8 = np.array([cagr_revenue['pnl_techmahindra'][3], cagr_revenue['pnl_techmahindra'][2], cagr_revenue['pnl_techmahindra'][1], cagr_revenue['pnl_techmahindra'][0]])\n",
    "y9 = np.array([cagr_revenue['pnl_mindtree'][3], cagr_revenue['pnl_mindtree'][2], cagr_revenue['pnl_mindtree'][1], cagr_revenue['pnl_mindtree'][0]])\n",
    "y10 = np.array([cagr_revenue['pnl_landtinfotech'][3], cagr_revenue['pnl_landtinfotech'][2], cagr_revenue['pnl_landtinfotech'][1], cagr_revenue['pnl_landtinfotech'][0]])\n",
    "y11 = np.array([cagr_revenue['pnl_mphasis'][3], cagr_revenue['pnl_mphasis'][2], cagr_revenue['pnl_mphasis'][1], cagr_revenue['pnl_mphasis'][0]])\n",
    "y12 = np.array([cagr_revenue['pnl_coforge'][3], cagr_revenue['pnl_coforge'][2], cagr_revenue['pnl_coforge'][1], cagr_revenue['pnl_coforge'][0]])\n",
    "# axs[0, 0].plot(x, y1)\n",
    "axs[0, 0].plot(x, y2)\n",
    "axs[0, 0].plot(x, y3)\n",
    "axs[0, 0].plot(x, y4)\n",
    "axs[0, 0].plot(x, y5)\n",
    "axs[0, 0].plot(x, y6)\n",
    "axs[0, 0].plot(x, y7)\n",
    "axs[0, 0].plot(x, y8)\n",
    "axs[0, 0].plot(x, y9)\n",
    "axs[0, 0].plot(x, y10)\n",
    "axs[0, 0].plot(x, y11)\n",
    "axs[0, 0].plot(x, y12)\n",
    "# plt.plot(x, y7)\n",
    "axs[0, 0].set_xlabel(\"Date\")  # add X-axis label\n",
    "axs[0, 0].set_ylabel(\"Revenue Percent\")  # add Y-axis label\n",
    "# plt.title(\"Any suitable title\")  # add title\n",
    "# axs[0, 0].gca().set_legend(('tatapower','Reliance','Suzlon','JPPower','PTC','Adani Green'))\n",
    "axs[0, 0].legend((\n",
    "#     'KPITE',\n",
    "    'KPITEC','WIPRO','Infosys','TCS','L&T Tech', 'HCL','TECH Mahindra','Mindtree','L&T Info','Mphasis','Coforge'))\n",
    "\n",
    "\n",
    "# axis[0, 0].plot(X, Y1)\n",
    "# plt.show()\n",
    "#######################################################################################\n",
    "x = np.array([ 'Mar 18', 'Mar 19', 'Mar 20', 'Mar 21'])\n",
    "# y1 = np.array([float(\"nan\"), cagr_profit['pnl_KPITE'][2], cagr_profit['pnl_KPITE'][1], cagr_profit['pnl_KPITE'][0]])\n",
    "y2 = np.array([cagr_profit['pnl_KPITEC'][3], cagr_profit['pnl_KPITEC'][2], cagr_profit['pnl_KPITEC'][1], cagr_profit['pnl_KPITEC'][0]])\n",
    "y3 = np.array([cagr_profit['pnl_WIPRO'][3], cagr_profit['pnl_WIPRO'][2], cagr_profit['pnl_WIPRO'][1], cagr_profit['pnl_WIPRO'][0]])\n",
    "y4 = np.array([cagr_profit['pnl_Infosys'][3], cagr_profit['pnl_Infosys'][2], cagr_profit['pnl_Infosys'][1], cagr_profit['pnl_Infosys'][0]])\n",
    "y5 = np.array([cagr_profit['pnl_TCS'][3], cagr_profit['pnl_TCS'][2], cagr_profit['pnl_TCS'][1], cagr_profit['pnl_TCS'][0]])\n",
    "y6 = np.array([cagr_profit['pnl_LandT_tech'][3], cagr_profit['pnl_LandT_tech'][2], cagr_profit['pnl_LandT_tech'][1], cagr_profit['pnl_LandT_tech'][0]])\n",
    "y7 = np.array([cagr_profit['pnl_hcl'][3], cagr_profit['pnl_hcl'][2], cagr_profit['pnl_hcl'][1], cagr_profit['pnl_hcl'][0]])\n",
    "y8 = np.array([cagr_profit['pnl_techmahindra'][3], cagr_profit['pnl_techmahindra'][2], cagr_profit['pnl_techmahindra'][1], cagr_profit['pnl_techmahindra'][0]])\n",
    "y9 = np.array([cagr_profit['pnl_mindtree'][3], cagr_profit['pnl_mindtree'][2], cagr_profit['pnl_mindtree'][1], cagr_profit['pnl_mindtree'][0]])\n",
    "y10 = np.array([cagr_profit['pnl_landtinfotech'][3], cagr_profit['pnl_landtinfotech'][2], cagr_profit['pnl_landtinfotech'][1], cagr_profit['pnl_landtinfotech'][0]])\n",
    "y11 = np.array([cagr_profit['pnl_mphasis'][3], cagr_profit['pnl_mphasis'][2], cagr_profit['pnl_mphasis'][1], cagr_profit['pnl_mphasis'][0]])\n",
    "y12 = np.array([cagr_profit['pnl_coforge'][3], cagr_profit['pnl_coforge'][2], cagr_profit['pnl_coforge'][1], cagr_profit['pnl_coforge'][0]])\n",
    "# axs[0, 1].plot(x, y1)\n",
    "axs[0, 1].plot(x, y2)\n",
    "axs[0, 1].plot(x, y3)\n",
    "axs[0, 1].plot(x, y4)\n",
    "axs[0, 1].plot(x, y5)\n",
    "axs[0, 1].plot(x, y6)\n",
    "axs[0, 1].plot(x, y7)\n",
    "axs[0, 1].plot(x, y8)\n",
    "axs[0, 1].plot(x, y9)\n",
    "axs[0, 1].plot(x, y10)\n",
    "axs[0, 1].plot(x, y11)\n",
    "axs[0, 1].plot(x, y12)\n",
    "# plt.plot(x, y6)\n",
    "# plt.plot(x, y7)\n",
    "axs[0, 1].set_xlabel('Date')  # add X-axis label\n",
    "axs[0, 1].set_ylabel(\"Profit Percent\")  # add Y-axis label\n",
    "# plt.title(\"Any suitable title\")  # add title\n",
    "# plt.gca().legend(('tatapower','Reliance','Suzlon','JPPower','PTC','Adani Green'))\n",
    "# axs[0, 1].gca().set_legend(('tatapower','Reliance','Suzlon','JPPower','PTC'))\n",
    "axs[0, 1].legend((\n",
    "#     'KPITE',\n",
    "    'KPITEC','WIPRO','Infosys','TCS','L&T Tech', 'HCL','TECH Mahindra','Mindtree','L&T Info','Mphasis','Coforge'))\n",
    "\n",
    "\n",
    "#############################################\n",
    "x = np.array([ 'Mar 18', 'Mar 19', 'Mar 20', 'Mar 21'])\n",
    "# y1 = np.array([float(\"nan\"), cagr_EBITDA['pnl_KPITE'][2], cagr_EBITDA['pnl_KPITE'][1], cagr_EBITDA['pnl_KPITE'][0]])\n",
    "y2 = np.array([cagr_EBITDA['pnl_KPITEC'][3], cagr_EBITDA['pnl_KPITEC'][2], cagr_EBITDA['pnl_KPITEC'][1], cagr_EBITDA['pnl_KPITEC'][0]])\n",
    "y3 = np.array([cagr_EBITDA['pnl_WIPRO'][3], cagr_EBITDA['pnl_WIPRO'][2], cagr_EBITDA['pnl_WIPRO'][1], cagr_EBITDA['pnl_WIPRO'][0]])\n",
    "y4 = np.array([cagr_EBITDA['pnl_Infosys'][3], cagr_EBITDA['pnl_Infosys'][2], cagr_EBITDA['pnl_Infosys'][1], cagr_EBITDA['pnl_Infosys'][0]])\n",
    "y5 = np.array([cagr_EBITDA['pnl_TCS'][3], cagr_EBITDA['pnl_TCS'][2], cagr_EBITDA['pnl_TCS'][1], cagr_EBITDA['pnl_TCS'][0]])\n",
    "y6 = np.array([cagr_EBITDA['pnl_LandT_tech'][3], cagr_EBITDA['pnl_LandT_tech'][2], cagr_EBITDA['pnl_LandT_tech'][1], cagr_EBITDA['pnl_LandT_tech'][0]])\n",
    "y7 = np.array([cagr_EBITDA['pnl_hcl'][3], cagr_EBITDA['pnl_hcl'][2], cagr_EBITDA['pnl_hcl'][1], cagr_EBITDA['pnl_hcl'][0]])\n",
    "y8 = np.array([cagr_EBITDA['pnl_techmahindra'][3], cagr_EBITDA['pnl_techmahindra'][2], cagr_EBITDA['pnl_techmahindra'][1], cagr_EBITDA['pnl_techmahindra'][0]])\n",
    "y9 = np.array([cagr_EBITDA['pnl_mindtree'][3], cagr_EBITDA['pnl_mindtree'][2], cagr_EBITDA['pnl_mindtree'][1], cagr_EBITDA['pnl_mindtree'][0]])\n",
    "y10 = np.array([cagr_EBITDA['pnl_landtinfotech'][3], cagr_EBITDA['pnl_landtinfotech'][2], cagr_EBITDA['pnl_landtinfotech'][1], cagr_EBITDA['pnl_landtinfotech'][0]])\n",
    "y11 = np.array([cagr_EBITDA['pnl_mphasis'][3], cagr_EBITDA['pnl_mphasis'][2], cagr_EBITDA['pnl_mphasis'][1], cagr_EBITDA['pnl_mphasis'][0]])\n",
    "y12 = np.array([cagr_EBITDA['pnl_coforge'][3], cagr_EBITDA['pnl_coforge'][2], cagr_EBITDA['pnl_coforge'][1], cagr_EBITDA['pnl_coforge'][0]])\n",
    "# axs[1, 1].plot(x, y1)\n",
    "axs[1, 1].plot(x, y2)\n",
    "axs[1, 1].plot(x, y3)\n",
    "axs[1, 1].plot(x, y4)\n",
    "axs[1, 1].plot(x, y5)\n",
    "axs[1, 1].plot(x, y6)\n",
    "axs[1, 1].plot(x, y7)\n",
    "axs[1, 1].plot(x, y8)\n",
    "axs[1, 1].plot(x, y9)\n",
    "axs[1, 1].plot(x, y10)\n",
    "axs[1, 1].plot(x, y11)\n",
    "axs[1, 1].plot(x, y12)\n",
    "# plt.plot(x, y6)\n",
    "# plt.plot(x, y7)\n",
    "axs[1, 1].set_xlabel('Date')  # add X-axis label\n",
    "axs[1, 1].set_ylabel(\"EBITDA Percent\")  # add Y-axis label\n",
    "# plt.title(\"Any suitaable title\")  # add title\n",
    "# plt.gca().legend(('tatapower','Reliance','Suzlon','JPPower','PTC','Adani Green'))\n",
    "# axs[0, 1].gca().set_legend(('tatapower','Reliance','Suzlon','JPPower','PTC'))\n",
    "axs[1, 1].legend((\n",
    "#     'KPITE',\n",
    "    'KPITEC','WIPRO','Infosys','TCS','L&T Tech', 'HCL','TECH Mahindra',\n",
    "                  'Mindtree'\n",
    "                  ,'L&T Info','Mphasis','Coforge'))\n",
    "\n"
   ]
  },
  {
   "cell_type": "code",
   "execution_count": 306,
   "id": "7f0f7ba9",
   "metadata": {},
   "outputs": [
    {
     "data": {
      "text/plain": [
       "[array([1.25898862]),\n",
       " array([1.29333294]),\n",
       " array([1.34140795]),\n",
       " array([-0.58823529])]"
      ]
     },
     "execution_count": 306,
     "metadata": {},
     "output_type": "execute_result"
    }
   ],
   "source": [
    "debtequity['BS_KPITE']"
   ]
  },
  {
   "cell_type": "code",
   "execution_count": 307,
   "id": "e4aeb424",
   "metadata": {},
   "outputs": [
    {
     "data": {
      "text/plain": [
       "dict_keys(['cs_KPITE', 'cs_KPITEC', 'cs_WIPRO', 'cs_Infosys', 'cs_TCS', 'cs_LandT_tech', 'cs_hcl', 'cs_techmahindra', 'cs_mindtree', 'cs_landtinfotech', 'cs_mphasis', 'cs_coforge'])"
      ]
     },
     "execution_count": 307,
     "metadata": {},
     "output_type": "execute_result"
    }
   ],
   "source": [
    "OprtCF.keys()"
   ]
  },
  {
   "cell_type": "code",
   "execution_count": 308,
   "id": "76eae913",
   "metadata": {},
   "outputs": [
    {
     "data": {
      "text/plain": [
       "dict_keys(['BS_KPITE', 'BS_KPITEC', 'BS_WIPRO', 'BS_Infosys', 'BS_TCS', 'BS_LandT_tech', 'BS_hcl', 'BS_techmahindra', 'BS_mindtree', 'BS_landtinfotech', 'BS_mphasis', 'BS_coforge'])"
      ]
     },
     "execution_count": 308,
     "metadata": {},
     "output_type": "execute_result"
    }
   ],
   "source": [
    "debtequity.keys()"
   ]
  },
  {
   "cell_type": "code",
   "execution_count": 309,
   "id": "8e7fce59",
   "metadata": {},
   "outputs": [
    {
     "data": {
      "text/plain": [
       "<matplotlib.legend.Legend at 0x171b58abf10>"
      ]
     },
     "execution_count": 309,
     "metadata": {},
     "output_type": "execute_result"
    },
    {
     "data": {
      "image/png": "[encoded data removed]",
      "text/plain": [
       "<Figure size 1080x1080 with 4 Axes>"
      ]
     },
     "metadata": {
      "needs_background": "light"
     },
     "output_type": "display_data"
    }
   ],
   "source": [
    "import matplotlib.pyplot as plt\n",
    "import numpy as np\n",
    "import math\n",
    "\n",
    "fig, axs = plt.subplots(2, 2,figsize=(15,15))\n",
    "# f, axs = plt.subplots(2,2)\n",
    "\n",
    "# Define X and Y variable data\n",
    "x = np.array([ 'Mar 18', 'Mar 19', 'Mar 20', 'Mar 21'])\n",
    "y1 = np.array([debtequity['BS_KPITE'][3], debtequity['BS_KPITE'][2], debtequity['BS_KPITE'][1], debtequity['BS_KPITE'][0]])\n",
    "y2 = np.array([debtequity['BS_KPITEC'][3], debtequity['BS_KPITEC'][2], debtequity['BS_KPITEC'][1], debtequity['BS_KPITEC'][0]])\n",
    "y3 = np.array([debtequity['BS_WIPRO'][3], debtequity['BS_WIPRO'][2], debtequity['BS_WIPRO'][1], debtequity['BS_WIPRO'][0]])\n",
    "y4 = np.array([debtequity['BS_Infosys'][3], debtequity['BS_Infosys'][2], debtequity['BS_Infosys'][1], debtequity['BS_Infosys'][0]])\n",
    "y5 = np.array([debtequity['BS_TCS'][3], debtequity['BS_TCS'][2], debtequity['BS_TCS'][1], debtequity['BS_TCS'][0]])\n",
    "y6 = np.array([debtequity['BS_LandT_tech'][3], debtequity['BS_LandT_tech'][2], debtequity['BS_LandT_tech'][1], debtequity['BS_LandT_tech'][0]])\n",
    "y7 = np.array([debtequity['BS_hcl'][3], debtequity['BS_hcl'][2], debtequity['BS_hcl'][1], debtequity['BS_hcl'][0]])\n",
    "y8 = np.array([debtequity['BS_techmahindra'][3], debtequity['BS_techmahindra'][2], debtequity['BS_techmahindra'][1], debtequity['BS_techmahindra'][0]])\n",
    "y9 = np.array([debtequity['BS_mindtree'][3], debtequity['BS_mindtree'][2], debtequity['BS_mindtree'][1], debtequity['BS_mindtree'][0]])\n",
    "y10 = np.array([debtequity['BS_landtinfotech'][3], debtequity['BS_landtinfotech'][2], debtequity['BS_landtinfotech'][1], debtequity['BS_landtinfotech'][0]])\n",
    "y11 = np.array([debtequity['BS_mphasis'][3], debtequity['BS_mphasis'][2], debtequity['BS_mphasis'][1], debtequity['BS_mphasis'][0]])\n",
    "y12 = np.array([debtequity['BS_coforge'][3], debtequity['BS_coforge'][2], debtequity['BS_coforge'][1], debtequity['BS_coforge'][0]])\n",
    "# y7 = np.array([cagr_adanireen_profit18, cagr_adanireen_profit19, cagr_adanireen_profit20, cagr_adanireen_profit21])\n",
    "\n",
    "axs[0, 0].plot(x, y1)\n",
    "axs[0, 0].plot(x, y2)\n",
    "axs[0, 0].plot(x, y3)\n",
    "axs[0, 0].plot(x, y4)\n",
    "axs[0, 0].plot(x, y5)\n",
    "axs[0, 0].plot(x, y6)\n",
    "axs[0, 0].plot(x, y7)\n",
    "axs[0, 0].plot(x, y8)\n",
    "axs[0, 0].plot(x, y9)\n",
    "axs[0, 0].plot(x, y10)\n",
    "axs[0, 0].plot(x, y11)\n",
    "axs[0, 0].plot(x, y12)\n",
    "# plt.plot(x, y7)\n",
    "axs[0, 0].set_xlabel(\"Date\")  # add X-axis label\n",
    "axs[0, 0].set_ylabel(\"DE Ratio\")  # add Y-axis label\n",
    "# plt.title(\"Any suitable title\")  # add title\n",
    "# axs[0, 0].gca().set_legend(('tatapower','Reliance','Suzlon','JPPower','PTC','Adani Green'))\n",
    "axs[0, 0].legend(( 'KPITE','KPITEC','WIPRO','Infosys','TCS','L&T Tech', 'HCL','TECH Mahindra','Mindtree'\n",
    "                  ,'L&T Info','Mphasis','Coforge'))\n",
    "\n",
    "# axis[0, 0].plot(X, Y1)\n",
    "# plt.show() roe(stockPNL, stockbs)\n",
    "#######################################################################################\n",
    "x = np.array([ 'Mar 18', 'Mar 19', 'Mar 20', 'Mar 21'])\n",
    "y1 = np.array([returnequity['pnl_KPITE-BS_KPITE'][3], returnequity['pnl_KPITE-BS_KPITE'][2], returnequity['pnl_KPITE-BS_KPITE'][1], returnequity['pnl_KPITE-BS_KPITE'][0]])\n",
    "y2 = np.array([returnequity['pnl_KPITEC-BS_KPITEC'][3], returnequity['pnl_KPITEC-BS_KPITEC'][2], returnequity['pnl_KPITEC-BS_KPITEC'][1], returnequity['pnl_KPITEC-BS_KPITEC'][0]])\n",
    "y3 = np.array([returnequity['pnl_WIPRO-BS_WIPRO'][3], returnequity['pnl_WIPRO-BS_WIPRO'][2], returnequity['pnl_WIPRO-BS_WIPRO'][1], returnequity['pnl_WIPRO-BS_WIPRO'][0]])\n",
    "y4 = np.array([returnequity['pnl_Infosys-BS_Infosys'][3], returnequity['pnl_Infosys-BS_Infosys'][2], returnequity['pnl_Infosys-BS_Infosys'][1], returnequity['pnl_Infosys-BS_Infosys'][0]])\n",
    "y5 = np.array([returnequity['pnl_TCS-BS_TCS'][3], returnequity['pnl_TCS-BS_TCS'][2], returnequity['pnl_TCS-BS_TCS'][1], returnequity['pnl_TCS-BS_TCS'][0]])\n",
    "y6 = np.array([returnequity['pnl_LandT_tech-BS_LandT_tech'][3], returnequity['pnl_LandT_tech-BS_LandT_tech'][2], returnequity['pnl_LandT_tech-BS_LandT_tech'][1], returnequity['pnl_LandT_tech-BS_LandT_tech'][0]])\n",
    "y7 = np.array([returnequity['pnl_hcl-BS_hcl'][3], returnequity['pnl_hcl-BS_hcl'][2], returnequity['pnl_hcl-BS_hcl'][1], returnequity['pnl_hcl-BS_hcl'][0]])\n",
    "y8 = np.array([returnequity['pnl_techmahindra-BS_techmahindra'][3], returnequity['pnl_techmahindra-BS_techmahindra'][2], returnequity['pnl_techmahindra-BS_techmahindra'][1], returnequity['pnl_techmahindra-BS_techmahindra'][0]])\n",
    "y9 = np.array([returnequity['pnl_mindtree-BS_mindtree'][3], returnequity['pnl_mindtree-BS_mindtree'][2], returnequity['pnl_mindtree-BS_mindtree'][1], returnequity['pnl_mindtree-BS_mindtree'][0]])\n",
    "y10 = np.array([returnequity['pnl_landtinfotech-BS_landtinfotech'][3], returnequity['pnl_landtinfotech-BS_landtinfotech'][2], returnequity['pnl_landtinfotech-BS_landtinfotech'][1], returnequity['pnl_landtinfotech-BS_landtinfotech'][0]])\n",
    "y11 = np.array([returnequity['pnl_mphasis-BS_mphasis'][3], returnequity['pnl_mphasis-BS_mphasis'][2], returnequity['pnl_mphasis-BS_mphasis'][1], returnequity['pnl_mphasis-BS_mphasis'][0]])\n",
    "y12 = np.array([returnequity['pnl_coforge-BS_coforge'][3], returnequity['pnl_coforge-BS_coforge'][2], returnequity['pnl_coforge-BS_coforge'][1], returnequity['pnl_coforge-BS_coforge'][0]])\n",
    "\n",
    "axs[0, 1].plot(x, y1)\n",
    "axs[0, 1].plot(x, y2)\n",
    "axs[0, 1].plot(x, y3)\n",
    "axs[0, 1].plot(x, y4)\n",
    "axs[0, 1].plot(x, y5)\n",
    "axs[0, 1].plot(x, y6)\n",
    "axs[0, 1].plot(x, y7)\n",
    "axs[0, 1].plot(x, y8)\n",
    "axs[0, 1].plot(x, y9)\n",
    "axs[0, 1].plot(x, y10)\n",
    "axs[0, 1].plot(x, y11)\n",
    "axs[0, 1].plot(x, y12)\n",
    "# plt.plot(x, y7)\n",
    "axs[0, 1].set_xlabel('Date')  # add X-axis label\n",
    "axs[0, 1].set_ylabel(\"ROE\")  # add Y-axis label\n",
    "# plt.title(\"Any suitable title\")  # add title\n",
    "# plt.gca().legend(('tatapower','Reliance','Suzlon','JPPower','PTC','Adani Green'))\n",
    "# axs[0, 1].gca().set_legend(('tatapower','Reliance','Suzlon','JPPower','PTC'))\n",
    "axs[0, 1].legend(( 'KPITE','KPITEC','WIPRO','Infosys','TCS','L&T Tech', 'HCL','TECH Mahindra','Mindtree'\n",
    "                  ,'L&T Info','Mphasis','Coforge'))\n",
    "\n",
    "#############################################\n",
    "\n",
    "x = np.array([ 'Mar 18', 'Mar 19', 'Mar 20', 'Mar 21'])\n",
    "y1 = np.array([OprtCF['cs_KPITE'][3], OprtCF['cs_KPITE'][2], OprtCF['cs_KPITE'][1], OprtCF['cs_KPITE'][0]])\n",
    "y2 = np.array([OprtCF['cs_KPITEC'][3], OprtCF['cs_KPITEC'][2], OprtCF['cs_KPITEC'][1], OprtCF['cs_KPITEC'][0]])\n",
    "y3 = np.array([OprtCF['cs_WIPRO'][3], OprtCF['cs_WIPRO'][2], OprtCF['cs_WIPRO'][1], OprtCF['cs_WIPRO'][0]])\n",
    "y4 = np.array([OprtCF['cs_Infosys'][3], OprtCF['cs_Infosys'][2], OprtCF['cs_Infosys'][1], OprtCF['cs_Infosys'][0]])\n",
    "y5 = np.array([OprtCF['cs_TCS'][3], OprtCF['cs_TCS'][2], OprtCF['cs_TCS'][1], OprtCF['cs_TCS'][0]])\n",
    "y6 = np.array([OprtCF['cs_LandT_tech'][3], OprtCF['cs_LandT_tech'][2], OprtCF['cs_LandT_tech'][1], OprtCF['cs_LandT_tech'][0]])\n",
    "y7 = np.array([OprtCF['cs_hcl'][3], OprtCF['cs_hcl'][2], OprtCF['cs_hcl'][1], OprtCF['cs_hcl'][0]])\n",
    "y8 = np.array([OprtCF['cs_techmahindra'][3], OprtCF['cs_techmahindra'][2], OprtCF['cs_techmahindra'][1], OprtCF['cs_techmahindra'][0]])\n",
    "y9 = np.array([OprtCF['cs_mindtree'][3], OprtCF['cs_mindtree'][2], OprtCF['cs_mindtree'][1], OprtCF['cs_mindtree'][0]])\n",
    "y10 = np.array([OprtCF['cs_landtinfotech'][3], OprtCF['cs_landtinfotech'][2], OprtCF['cs_landtinfotech'][1], OprtCF['cs_landtinfotech'][0]])\n",
    "y11 = np.array([OprtCF['cs_mphasis'][3], OprtCF['cs_mphasis'][2], OprtCF['cs_mphasis'][1], OprtCF['cs_mphasis'][0]])\n",
    "y12 = np.array([OprtCF['cs_coforge'][3], OprtCF['cs_coforge'][2], OprtCF['cs_coforge'][1], OprtCF['cs_coforge'][0]])\n",
    "# y7 = np.array([cagr_adanireen_profit18, cagr_adanireen_profit19, cagr_adanireen_profit20, cagr_adanireen_profit21])\n",
    "\n",
    "axs[1, 0].plot(x, y1)\n",
    "axs[1, 0].plot(x, y2)\n",
    "axs[1, 0].plot(x, y3)\n",
    "axs[1, 0].plot(x, y4)\n",
    "axs[1, 0].plot(x, y5)\n",
    "axs[1, 0].plot(x, y6)\n",
    "axs[1, 0].plot(x, y7)\n",
    "axs[1, 0].plot(x, y8)\n",
    "axs[1, 0].plot(x, y9)\n",
    "axs[1, 0].plot(x, y10)\n",
    "axs[1, 0].plot(x, y11)\n",
    "axs[1, 0].plot(x, y12)\n",
    "# plt.plot(x, y7)\n",
    "axs[1, 0].set_xlabel(\"Date\")  # add X-axis label\n",
    "axs[1, 0].set_ylabel(\"Operating Cash Flow\")  # add Y-axis label\n",
    "# plt.title(\"Any suitable title\")  # add title\n",
    "# axs[0, 0].gca().set_legend(('tatapower','Reliance','Suzlon','JPPower','PTC','Adani Green'))\n",
    "axs[1, 0].legend(( 'KPITE','KPITEC','WIPRO','Infosys','TCS','L&T Tech', 'HCL','TECH Mahindra','Mindtree'\n",
    "                  ,'L&T Info','Mphasis','Coforge'))\n",
    "\n",
    "\n",
    "\n",
    "######################################################\n",
    "x = np.array([ 'Mar 18', 'Mar 19', 'Mar 20', 'Mar 21'])\n",
    "y1 = np.array([FreeCF['cs_KPITE-BS_KPITE'][3], FreeCF['cs_KPITE-BS_KPITE'][2], FreeCF['cs_KPITE-BS_KPITE'][1], FreeCF['cs_KPITE-BS_KPITE'][0]])\n",
    "y2 = np.array([FreeCF['cs_KPITEC-BS_KPITEC'][3], FreeCF['cs_KPITEC-BS_KPITEC'][2], FreeCF['cs_KPITEC-BS_KPITEC'][1], FreeCF['cs_KPITEC-BS_KPITEC'][0]])\n",
    "y3 = np.array([FreeCF['cs_WIPRO-BS_WIPRO'][3], FreeCF['cs_WIPRO-BS_WIPRO'][2], FreeCF['cs_WIPRO-BS_WIPRO'][1], FreeCF['cs_WIPRO-BS_WIPRO'][0]])\n",
    "y4 = np.array([FreeCF['cs_Infosys-BS_Infosys'][3], FreeCF['cs_Infosys-BS_Infosys'][2], FreeCF['cs_Infosys-BS_Infosys'][1], FreeCF['cs_Infosys-BS_Infosys'][0]])\n",
    "y5 = np.array([FreeCF['cs_TCS-BS_TCS'][3], FreeCF['cs_TCS-BS_TCS'][2], FreeCF['cs_TCS-BS_TCS'][1], FreeCF['cs_TCS-BS_TCS'][0]])\n",
    "y6 = np.array([FreeCF['cs_LandT_tech-BS_LandT_tech'][3], FreeCF['cs_LandT_tech-BS_LandT_tech'][2], FreeCF['cs_LandT_tech-BS_LandT_tech'][1], FreeCF['cs_LandT_tech-BS_LandT_tech'][0]])\n",
    "y7 = np.array([FreeCF['cs_hcl-BS_hcl'][3], FreeCF['cs_hcl-BS_hcl'][2], FreeCF['cs_hcl-BS_hcl'][1], FreeCF['cs_hcl-BS_hcl'][0]])\n",
    "y8 = np.array([FreeCF['cs_techmahindra-BS_techmahindra'][3], FreeCF['cs_techmahindra-BS_techmahindra'][2], FreeCF['cs_techmahindra-BS_techmahindra'][1], FreeCF['cs_techmahindra-BS_techmahindra'][0]])\n",
    "y9 = np.array([FreeCF['cs_mindtree-BS_mindtree'][3], FreeCF['cs_mindtree-BS_mindtree'][2], FreeCF['cs_mindtree-BS_mindtree'][1], FreeCF['cs_mindtree-BS_mindtree'][0]])\n",
    "y10 = np.array([FreeCF['cs_landtinfotech-BS_landtinfotech'][3], FreeCF['cs_landtinfotech-BS_landtinfotech'][2], FreeCF['cs_landtinfotech-BS_landtinfotech'][1], FreeCF['cs_landtinfotech-BS_landtinfotech'][0]])\n",
    "y11 = np.array([FreeCF['cs_mphasis-BS_mphasis'][3], FreeCF['cs_mphasis-BS_mphasis'][2], FreeCF['cs_mphasis-BS_mphasis'][1], FreeCF['cs_mphasis-BS_mphasis'][0]])\n",
    "y12 = np.array([FreeCF['cs_coforge-BS_coforge'][3], FreeCF['cs_coforge-BS_coforge'][2], FreeCF['cs_coforge-BS_coforge'][1], FreeCF['cs_coforge-BS_coforge'][0]])\n",
    "axs[1, 1].plot(x, y1)\n",
    "axs[1, 1].plot(x, y2)\n",
    "axs[1, 1].plot(x, y3)\n",
    "axs[1, 1].plot(x, y4)\n",
    "axs[1, 1].plot(x, y5)\n",
    "axs[1, 1].plot(x, y6)\n",
    "axs[1, 1].plot(x, y7)\n",
    "axs[1, 1].plot(x, y8)\n",
    "axs[1, 1].plot(x, y9)\n",
    "axs[1, 1].plot(x, y10)\n",
    "axs[1, 1].plot(x, y11)\n",
    "axs[1, 1].plot(x, y12)\n",
    "# plt.plot(x, y7)\n",
    "axs[1, 1].set_xlabel('Date')  # add X-axis label\n",
    "axs[1, 1].set_ylabel(\"Free Cash Flow\")  # add Y-axis label\n",
    "# plt.title(\"Any suitable title\")  # add title\n",
    "# plt.gca().legend(('tatapower','Reliance','Suzlon','JPPower','PTC','Adani Green'))\n",
    "# axs[0, 1].gca().set_legend(('tatapower','Reliance','Suzlon','JPPower','PTC'))\n",
    "axs[1, 1].legend(( 'KPITE','KPITEC','WIPRO','Infosys','TCS','L&T Tech', 'HCL','TECH Mahindra','Mindtree'\n",
    "                  ,'L&T Info','Mphasis','Coforge'))"
   ]
  },
  {
   "cell_type": "markdown",
   "id": "8e764850",
   "metadata": {},
   "source": [
    "#### Calculating Averages"
   ]
  },
  {
   "cell_type": "code",
   "execution_count": 310,
   "id": "424e1c6c",
   "metadata": {},
   "outputs": [],
   "source": [
    "dic = {}\n",
    "# dic.keys() = hi, bye"
   ]
  },
  {
   "cell_type": "code",
   "execution_count": 311,
   "id": "24971377",
   "metadata": {},
   "outputs": [],
   "source": [
    "def averagecalculation(dataarray, datatype ,  mode,duration):\n",
    "    average_array = 0\n",
    "    for i in dataarray:\n",
    "        average_array = average_array + summation(datatype[i], mode,duration )\n",
    "        \n",
    "    return average_array"
   ]
  },
  {
   "cell_type": "code",
   "execution_count": 312,
   "id": "52f2c53f",
   "metadata": {},
   "outputs": [
    {
     "data": {
      "text/plain": [
       "array([385311.73])"
      ]
     },
     "execution_count": 312,
     "metadata": {},
     "output_type": "execute_result"
    }
   ],
   "source": [
    "averagecalculation(index_stock_pnl, PNL_list,'Total Revenue','Mar 21')\n"
   ]
  },
  {
   "cell_type": "code",
   "execution_count": 313,
   "id": "67fc3690",
   "metadata": {},
   "outputs": [
    {
     "data": {
      "text/plain": [
       "array([385311.73])"
      ]
     },
     "execution_count": 313,
     "metadata": {},
     "output_type": "execute_result"
    }
   ],
   "source": [
    "Sum_Sales_average21"
   ]
  },
  {
   "cell_type": "code",
   "execution_count": 314,
   "id": "80266e2a",
   "metadata": {},
   "outputs": [],
   "source": [
    "# Sales sum\n",
    "Sum_Sales_average21 = averagecalculation(index_stock_pnl, PNL_list,'Total Revenue','Mar 21')\n",
    "Sum_Sales_average20 = averagecalculation(index_stock_pnl, PNL_list,'Total Revenue','Mar 20')\n",
    "Sum_Sales_average19 = averagecalculation(index_stock_pnl, PNL_list,'Total Revenue','Mar 19')\n",
    "Sum_Sales_average18 = averagecalculation(index_stock_pnl, PNL_list,'Total Revenue','Mar 18')\n",
    "# Sum_Sales_average17 = averagecalculation(index_stock_pnl, PNL_list,'Total Revenue','Mar 17') \n",
    "\n",
    "# Profit sum\n",
    "Sum_Profit_average21 = averagecalculation(index_stock_pnl, PNL_list,'Profit/Loss For The Period','Mar 21')\n",
    "Sum_Profit_average20 = averagecalculation(index_stock_pnl, PNL_list,'Profit/Loss For The Period','Mar 20')\n",
    "Sum_Profit_average19 = averagecalculation(index_stock_pnl, PNL_list,'Profit/Loss For The Period','Mar 19')\n",
    "Sum_Profit_average18 = averagecalculation(index_stock_pnl, PNL_list,'Profit/Loss For The Period','Mar 18')\n",
    "\n",
    "# Profit EBITDA\n",
    "Sum_EBITDA_average21 = averagecalculation(index_stock_pnl, PNL_list,'Profit/Loss Before Exceptional ExtraOrdinary Items And Tax','Mar 21')\n",
    "Sum_EBITDA_average20 = averagecalculation(index_stock_pnl, PNL_list,'Profit/Loss Before Exceptional ExtraOrdinary Items And Tax','Mar 20')\n",
    "Sum_EBITDA_average19 = averagecalculation(index_stock_pnl, PNL_list,'Profit/Loss Before Exceptional ExtraOrdinary Items And Tax','Mar 19')\n",
    "Sum_EBITDA_average18 = averagecalculation(index_stock_pnl, PNL_list,'Profit/Loss Before Exceptional ExtraOrdinary Items And Tax','Mar 18')"
   ]
  },
  {
   "cell_type": "code",
   "execution_count": 315,
   "id": "e6c40203",
   "metadata": {},
   "outputs": [],
   "source": [
    "# DE ratio\n",
    "# Liabilities\n",
    "Sum_DEliabilities_average21 = averagecalculation(index_stock_bs, balancesheet_list,'Total Capital And Liabilities','Mar 21')\n",
    "Sum_DEliabilities_average20 = averagecalculation(index_stock_bs, balancesheet_list,'Total Capital And Liabilities','Mar 20')\n",
    "Sum_DEliabilities_average19 = averagecalculation(index_stock_bs, balancesheet_list,'Total Capital And Liabilities','Mar 19')\n",
    "Sum_DEliabilities_average18 = averagecalculation(index_stock_bs, balancesheet_list,'Total Capital And Liabilities','Mar 18')\n",
    "# Share holder funds\n",
    "Sum_DE_fundaverage21 = averagecalculation(index_stock_bs, balancesheet_list,'Total Shareholders Funds','Mar 21')\n",
    "Sum_DE_fundaverage20 = averagecalculation(index_stock_bs, balancesheet_list,'Total Shareholders Funds','Mar 20')\n",
    "Sum_DE_fundaverage19 = averagecalculation(index_stock_bs, balancesheet_list,'Total Shareholders Funds','Mar 19')\n",
    "Sum_DE_fundaverage18 = averagecalculation(index_stock_bs, balancesheet_list,'Total Shareholders Funds','Mar 18')\n",
    "\n",
    "\n",
    "Sum_fixedassets_average21 = averagecalculation(index_stock_bs, balancesheet_list,'Fixed Assets','Mar 21')\n",
    "Sum_fixedassets_average20 = averagecalculation(index_stock_bs, balancesheet_list,'Fixed Assets','Mar 20')\n",
    "Sum_fixedassets_average19 = averagecalculation(index_stock_bs, balancesheet_list,'Fixed Assets','Mar 19')\n",
    "Sum_fixedassets_average18 = averagecalculation(index_stock_bs, balancesheet_list,'Fixed Assets','Mar 18')"
   ]
  },
  {
   "cell_type": "code",
   "execution_count": 316,
   "id": "01f58f13",
   "metadata": {},
   "outputs": [],
   "source": [
    "Sum_operatingcashflow_average21 = averagecalculation(index_stock_bs, balancesheet_list,'Net CashFlow From Operating Activities','Mar 21')\n",
    "Sum_operatingcashflow_average20 = averagecalculation(index_stock_bs, balancesheet_list,'Net CashFlow From Operating Activities','Mar 20')\n",
    "Sum_operatingcashflow_average19 = averagecalculation(index_stock_bs, balancesheet_list,'Net CashFlow From Operating Activities','Mar 19')\n",
    "Sum_operatingcashflow_average18 = averagecalculation(index_stock_bs, balancesheet_list,'Net CashFlow From Operating Activities','Mar 18')"
   ]
  },
  {
   "cell_type": "code",
   "execution_count": 1,
   "id": "3484b2b2",
   "metadata": {},
   "outputs": [
    {
     "ename": "NameError",
     "evalue": "name 'example' is not defined",
     "output_type": "error",
     "traceback": [
      "\u001b[1;31m---------------------------------------------------------------------------\u001b[0m",
      "\u001b[1;31mNameError\u001b[0m                                 Traceback (most recent call last)",
      "\u001b[1;32m~\\AppData\\Local\\Temp/ipykernel_23968/3755219397.py\u001b[0m in \u001b[0;36m<module>\u001b[1;34m\u001b[0m\n\u001b[1;32m----> 1\u001b[1;33m \u001b[0mexample\u001b[0m\u001b[1;33m(\u001b[0m\u001b[0mstock\u001b[0m\u001b[1;33m)\u001b[0m\u001b[1;33m\u001b[0m\u001b[1;33m\u001b[0m\u001b[0m\n\u001b[0m",
      "\u001b[1;31mNameError\u001b[0m: name 'example' is not defined"
     ]
    }
   ],
   "source": [
    "example(stock)"
   ]
  },
  {
   "cell_type": "code",
   "execution_count": null,
   "id": "e65aa42a",
   "metadata": {},
   "outputs": [],
   "source": [
    "CAGR_AverageIndex_Sales21 = Sum_Sales_average21 / Sum_Sales_average20 -1 \n",
    "CAGR_AverageIndex_Sales20 = Sum_Sales_average20 / Sum_Sales_average19 -1 \n",
    "CAGR_AverageIndex_Sales19 = Sum_Sales_average19 / Sum_Sales_average18 -1 \n",
    "# CAGR_AverageIndex_Sales18 = Sum_Sales_average18 / Sum_Sales_average17 -1 \n",
    "\n",
    "CAGR_AverageIndexProfit21 =  Sum_Profit_average21 / Sum_Profit_average20 -1 \n",
    "CAGR_AverageIndexProfit20 =  Sum_Profit_average20 / Sum_Profit_average19 -1 \n",
    "CAGR_AverageIndexProfit19 =  Sum_Profit_average19 / Sum_Profit_average18 -1 \n",
    "\n",
    "CAGR_AverageIndex_EBITDA21 = Sum_EBITDA_average21 / Sum_EBITDA_average20 - 1\n",
    "CAGR_AverageIndex_EBITDA20 = Sum_EBITDA_average20 / Sum_EBITDA_average19 - 1\n",
    "CAGR_AverageIndex_EBITDA19 = Sum_EBITDA_average19 / Sum_EBITDA_average18 - 1\n",
    "\n",
    "ROE_AverageIndex21 = Sum_Profit_average21 / Sum_DE_fundaverage21 \n",
    "ROE_AverageIndex20 = Sum_Profit_average20 / Sum_DE_fundaverage20 \n",
    "ROE_AverageIndex19 = Sum_Profit_average19 / Sum_DE_fundaverage19 \n",
    "ROE_AverageIndex18 = Sum_Profit_average18 / Sum_DE_fundaverage18 \n",
    "\n",
    "DE_AverageIndex21 = Sum_DEliabilities_average21 / Sum_DE_fundaverage21 \n",
    "DE_AverageIndex20 = Sum_DEliabilities_average20 / Sum_DE_fundaverage20\n",
    "DE_AverageIndex19 = Sum_DEliabilities_average19 / Sum_DE_fundaverage19 \n",
    "DE_AverageIndex18 = Sum_DEliabilities_average18 / Sum_DE_fundaverage18 \n",
    "\n",
    "\n",
    "Operatingcashflow_AverageIndex21 = Sum_operatingcashflow_average21 / len(index_stock_bs)\n",
    "Operatingcashflow_AverageIndex20 = Sum_operatingcashflow_average20 / len(index_stock_bs)\n",
    "Operatingcashflow_AverageIndex19 = Sum_operatingcashflow_average19 / len(index_stock_bs)\n",
    "Operatingcashflow_AverageIndex18 = Sum_operatingcashflow_average18 / len(index_stock_bs)\n",
    "\n",
    "\n",
    "Fixedcashflow_AverageIndex21 = (Sum_operatingcashflow_average21 - Sum_fixedassets_average21) / len(index_stock_bs)\n",
    "Fixedcashflow_AverageIndex20 = (Sum_operatingcashflow_average20 - Sum_fixedassets_average20) / len(index_stock_bs)\n",
    "Fixedcashflow_AverageIndex19 = (Sum_operatingcashflow_average19 - Sum_fixedassets_average19) / len(index_stock_bs)\n",
    "Fixedcashflow_AverageIndex18 = (Sum_operatingcashflow_average18 - Sum_fixedassets_average18) / len(index_stock_bs)\n",
    "\n",
    "\n",
    "# power_index.iloc[:,1:] =  power_index.iloc[:,1:].astype('int')\n",
    "# # Removin outlier PE\n",
    "PE_AverageIndex21 = (it_index.iloc[4:5,1:].sum(axis =1).values  ) / (len(index_stock_bs))"
   ]
  },
  {
   "cell_type": "markdown",
   "id": "86939014",
   "metadata": {},
   "source": [
    "#### Stock Selection"
   ]
  },
  {
   "cell_type": "code",
   "execution_count": 3,
   "id": "3d3abdea",
   "metadata": {},
   "outputs": [
    {
     "ename": "NameError",
     "evalue": "name 'CAGR_AverageIndex_Sales21' is not defined",
     "output_type": "error",
     "traceback": [
      "\u001b[1;31m---------------------------------------------------------------------------\u001b[0m",
      "\u001b[1;31mNameError\u001b[0m                                 Traceback (most recent call last)",
      "\u001b[1;32m~\\AppData\\Local\\Temp/ipykernel_23968/3723252467.py\u001b[0m in \u001b[0;36m<module>\u001b[1;34m\u001b[0m\n\u001b[1;32m----> 1\u001b[1;33m \u001b[0mCAGR_AverageIndex_Sales21\u001b[0m\u001b[1;33m\u001b[0m\u001b[1;33m\u001b[0m\u001b[0m\n\u001b[0m",
      "\u001b[1;31mNameError\u001b[0m: name 'CAGR_AverageIndex_Sales21' is not defined"
     ]
    }
   ],
   "source": [
    "CAGR_AverageIndex_Sales21"
   ]
  },
  {
   "cell_type": "code",
   "execution_count": 331,
   "id": "5ecadd3c",
   "metadata": {},
   "outputs": [
    {
     "name": "stdout",
     "output_type": "stream",
     "text": [
      "[]\n",
      "[]\n",
      "[]\n",
      "[]\n",
      "[]\n",
      "[]\n",
      "[]\n",
      "[]\n",
      "['pnl_mindtree']\n",
      "['pnl_mindtree', 'pnl_landtinfotech']\n",
      "['pnl_mindtree', 'pnl_landtinfotech']\n",
      "['pnl_mindtree', 'pnl_landtinfotech']\n"
     ]
    }
   ],
   "source": [
    "stock_list = []\n",
    "\n",
    "# def selected_stock(cagr_revenue):\n",
    "for i in cagr_revenue.keys():\n",
    "    if  ( (cagr_revenue[i][0] > CAGR_AverageIndex_Sales21 *100) &\n",
    "             (cagr_revenue[i][1] > CAGR_AverageIndex_Sales20 *100) \n",
    "             & (cagr_revenue[i][2] > CAGR_AverageIndex_Sales19 *100) ):\n",
    "        stock_list.append(i)\n",
    "    print( stock_list)\n",
    "# y2 = np.array([cagr_revenue['pnl_KPITEC'][3], cagr_revenue['pnl_KPITEC'][2], cagr_revenue['pnl_KPITEC'][1], cagr_revenue['pnl_KPITEC'][0]])\n"
   ]
  },
  {
   "cell_type": "code",
   "execution_count": 332,
   "id": "e42f9fd1",
   "metadata": {},
   "outputs": [],
   "source": [
    "final = []\n",
    "res = ['landtinfotech_url', 'mindtree_url']\n",
    "for i in res:\n",
    "#     print(stock[i])\n",
    "     if(stock[i][6] > PE_AverageIndex21):\n",
    "            final.append(i) \n",
    "            "
   ]
  },
  {
   "cell_type": "code",
   "execution_count": 333,
   "id": "39f00117",
   "metadata": {},
   "outputs": [
    {
     "data": {
      "text/plain": [
       "['landtinfotech_url', 'mindtree_url']"
      ]
     },
     "execution_count": 333,
     "metadata": {},
     "output_type": "execute_result"
    }
   ],
   "source": [
    "final"
   ]
  },
  {
   "cell_type": "code",
   "execution_count": null,
   "id": "a122a5ac",
   "metadata": {},
   "outputs": [],
   "source": []
  },
  {
   "cell_type": "code",
   "execution_count": null,
   "id": "022cff0f",
   "metadata": {},
   "outputs": [],
   "source": []
  }
 ],
 "metadata": {
  "kernelspec": {
   "display_name": "Python 3 (ipykernel)",
   "language": "python",
   "name": "python3"
  },
  "language_info": {
   "codemirror_mode": {
    "name": "ipython",
    "version": 3
   },
   "file_extension": ".py",
   "mimetype": "text/x-python",
   "name": "python",
   "nbconvert_exporter": "python",
   "pygments_lexer": "ipython3",
   "version": "3.9.7"
  }
 },
 "nbformat": 4,
 "nbformat_minor": 5
}
