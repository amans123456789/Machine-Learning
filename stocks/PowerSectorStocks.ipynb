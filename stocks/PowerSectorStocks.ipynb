{
 "cells": [
  {
   "cell_type": "code",
   "execution_count": 2,
   "id": "81e2a412",
   "metadata": {},
   "outputs": [],
   "source": [
    "import yahoo_fin.stock_info as si\n",
    "import pandas as pd\n",
    "import nsepy\n",
    "import numpy as np"
   ]
  },
  {
   "cell_type": "code",
   "execution_count": 2,
   "id": "e35cc38a",
   "metadata": {},
   "outputs": [],
   "source": [
    "import requests # for http requests\n",
    "from bs4 import BeautifulSoup # for html parsing and scraping\n",
    "from fastnumbers import isfloat \n",
    "from fastnumbers import fast_float\n",
    "from multiprocessing.dummy import Pool as ThreadPool \n",
    "import bs4\n"
   ]
  },
  {
   "cell_type": "code",
   "execution_count": 3,
   "id": "c17591c2",
   "metadata": {},
   "outputs": [],
   "source": [
    "def ffloat(string):\n",
    "    if string is None:\n",
    "        return np.nan\n",
    "    if type(string)==float or type(string)==np.float64:\n",
    "        return string\n",
    "    if type(string)==int or type(string)==np.int64:\n",
    "        return string\n",
    "    return fast_float(string.split(\" \")[0].replace(',','').replace('%',''),\n",
    "                      default=np.nan)"
   ]
  },
  {
   "cell_type": "code",
   "execution_count": 4,
   "id": "6831c201",
   "metadata": {},
   "outputs": [],
   "source": [
    "def get_table( url):\n",
    "#     round_url = f'{url}/{round}'\n",
    "    page = requests.get(url)\n",
    "    soup = BeautifulSoup(page.text, 'html.parser')\n",
    "    \n",
    "    rows = []\n",
    "    for child in soup.find_all('table')[1].children:\n",
    "        row = []\n",
    "        for td in child:\n",
    "            try:\n",
    "                row.append(td.text.replace('\\n', ''))\n",
    "            except:\n",
    "                continue\n",
    "        if len(row) > 0:\n",
    "            rows.append(row)\n",
    "\n",
    "    df = pd.DataFrame(rows[1:], columns=rows[0])\n",
    "    return df\n",
    "\n",
    "# for round in range(1, 39):\n",
    "#     table = get_table(round)\n",
    "#     table.to_csv(f'PL_table_matchweek_{round}.csv', index=False)\n",
    "#     sleep(np.random.randint(1, 10))"
   ]
  },
  {
   "cell_type": "markdown",
   "id": "12dabc01",
   "metadata": {},
   "source": [
    "##### URLs"
   ]
  },
  {
   "cell_type": "code",
   "execution_count": 5,
   "id": "a1d7c096",
   "metadata": {},
   "outputs": [],
   "source": [
    "# Balance Sheet\n",
    "tatapwr_bs_url ='https://www.moneycontrol.com/financials/tatapowercompany/balance-sheetVI/TPC'\n",
    "suzlon_bs_url ='https://www.moneycontrol.com/financials/suzlonenergy/balance-sheetVI/SE17'\n",
    "jppower_bs_url ='https://www.moneycontrol.com/financials/jaiprakashpowerventures/balance-sheetVI/JHP01'\n",
    "pfs_bs_url = 'https://www.moneycontrol.com/financials/ptcindia/balance-sheetVI/PTC02'\n",
    "\n",
    "# PnL\n",
    "tatapwr_pnl_url ='https://www.moneycontrol.com/financials/tatapowercompany/profit-lossVI/TPC'\n",
    "suzlon_pnl_url ='https://www.moneycontrol.com/financials/suzlonenergy/profit-lossVI/SE17'\n",
    "jppower_pnl_url ='https://www.moneycontrol.com/financials/jaiprakashpowerventures/profit-lossVI/JHP01'\n",
    "pfs_pnl_url = 'https://www.moneycontrol.com/financials/ptcindia/profit-lossVI/PTC02'\n",
    "\n",
    "# Cash Statement\n",
    "tatapwr_cs_url ='https://www.moneycontrol.com/financials/tatapowercompany/cash-flowVI/TPC'\n",
    "suzlon_cs_url ='https://www.moneycontrol.com/financials/suzlonenergy/cash-flowVI/se17'\n",
    "jppower_cs_url ='https://www.moneycontrol.com/financials/jaiprakashpowerventures/cash-flowVI/JHP01'\n",
    "pfs_cs_url = 'https://www.moneycontrol.com/financials/ptcindia/cash-flowVI/ptc02'"
   ]
  },
  {
   "cell_type": "markdown",
   "id": "7336074a",
   "metadata": {},
   "source": [
    "###### Power NIFTY Stocks"
   ]
  },
  {
   "cell_type": "markdown",
   "id": "f86fd3dc",
   "metadata": {},
   "source": [
    "####### BalanceSheet"
   ]
  },
  {
   "cell_type": "code",
   "execution_count": 6,
   "id": "f353ee78",
   "metadata": {},
   "outputs": [],
   "source": [
    "\n",
    "# ADANIGREEN , POWERGRID ONGC HINDPETRO  GAIL  NTPC RELIANCE BPCL  TATAPOWER  IOC\n",
    "\n",
    "adanigreen_bs_url ='https://www.moneycontrol.com/financials/adanigreenenergylimited/balance-sheetVI/ADANI54145'\n",
    "powergrid_bs_url ='https://www.moneycontrol.com/financials/powergridcorporationindia/balance-sheetVI/PGC'\n",
    "ongc_bs_url ='https://www.moneycontrol.com/financials/oilnaturalgascorporation/balance-sheetVI/ONG'\n",
    "gail_bs_url = 'https://www.moneycontrol.com/financials/gailindia/balance-sheetVI/GAI'\n",
    "ntpc_bs_url = 'https://www.moneycontrol.com/financials/ntpc/balance-sheetVI/NTP'\n",
    "hindpetro_bs_url = 'https://www.moneycontrol.com/financials/hindustanpetroleumcorporation/balance-sheetVI/HPC'\n",
    "reiance_bs_url = 'https://www.moneycontrol.com/financials/relianceindustries/balance-sheetVI/RI'\n",
    "bpcl_bs_url = 'https://www.moneycontrol.com/financials/bharatpetroleumcorporation/balance-sheetVI/BPC'\n",
    "ioc_bs_url = 'https://www.moneycontrol.com/financials/indianoilcorporation/balance-sheetVI/IOC'"
   ]
  },
  {
   "cell_type": "code",
   "execution_count": 7,
   "id": "aefe5f39",
   "metadata": {},
   "outputs": [],
   "source": [
    "adanigreen_pnl_url ='https://www.moneycontrol.com/financials/adanigreenenergylimited/profit-lossVI/ADANI54145'\n",
    "powergrid_pnl_url ='https://www.moneycontrol.com/financials/powergridcorporationindia/profit-lossVI/PGC'\n",
    "ongc_pnl_url ='https://www.moneycontrol.com/financials/oilnaturalgascorporation/profit-lossVI/ONG'\n",
    "gail_pnl_url = 'https://www.moneycontrol.com/financials/gailindia/profit-lossVI/GAI'\n",
    "ntpc_pnl_url = 'https://www.moneycontrol.com/financials/ntpc/profit-lossVI/NTP'\n",
    "hindpetro_pnl_url = 'https://www.moneycontrol.com/financials/hindustanpetroleumcorporation/profit-lossVI/HPC'\n",
    "reiance_pnl_url = 'https://www.moneycontrol.com/financials/relianceindustries/profit-lossVI/RI'\n",
    "bpcl_pnl_url = 'https://www.moneycontrol.com/financials/bharatpetroleumcorporation/profit-lossVI/BPC'\n",
    "ioc_pnl_url = 'https://www.moneycontrol.com/financials/indianoilcorporation/profit-lossVI/IOC'"
   ]
  },
  {
   "cell_type": "code",
   "execution_count": 8,
   "id": "eb04a1ea",
   "metadata": {},
   "outputs": [],
   "source": [
    "adanigreen_cs_url ='https://www.moneycontrol.com/financials/adanigreenenergylimited/cash-flowVI/ADANI54145'\n",
    "powergrid_cs_url ='https://www.moneycontrol.com/financials/powergridcorporationindia/cash-flowVI/PGC'\n",
    "ongc_cs_url ='https://www.moneycontrol.com/financials/oilnaturalgascorporation/cash-flowVI/ONG'\n",
    "gail_cs_url = 'https://www.moneycontrol.com/financials/gailindia/cash-flowVI/GAI'\n",
    "ntpc_cs_url = 'https://www.moneycontrol.com/financials/ntpc/cash-flowVI/NTP'\n",
    "hindpetro_cs_url = 'https://www.moneycontrol.com/financials/hindustanpetroleumcorporation/cash-flowVI/HPC'\n",
    "reiance_cs_url = 'https://www.moneycontrol.com/financials/relianceindustries/cash-flowVI/RI'\n",
    "bpcl_cs_url = 'https://www.moneycontrol.com/financials/bharatpetroleumcorporation/cash-flowVI/BPC'\n",
    "ioc_cs_url = 'https://www.moneycontrol.com/financials/indianoilcorporation/cash-flowVI/IOC'"
   ]
  },
  {
   "cell_type": "code",
   "execution_count": 9,
   "id": "ed150a46",
   "metadata": {},
   "outputs": [],
   "source": [
    "urls = [tatapwr_bs_url,suzlon_bs_url]"
   ]
  },
  {
   "cell_type": "code",
   "execution_count": 10,
   "id": "8edb0a56",
   "metadata": {},
   "outputs": [],
   "source": [
    "for i in urls:\n",
    "#     print(vars()[\"v%s\" % i])\n",
    "\n",
    "    vars()[\"v%s\" % i] =  get_table(i)\n",
    "#    \"a\" + str(i) "
   ]
  },
  {
   "cell_type": "code",
   "execution_count": 11,
   "id": "041858b3",
   "metadata": {},
   "outputs": [
    {
     "ename": "NameError",
     "evalue": "name 'vtatapwr_bs_url' is not defined",
     "output_type": "error",
     "traceback": [
      "\u001b[1;31m---------------------------------------------------------------------------\u001b[0m",
      "\u001b[1;31mNameError\u001b[0m                                 Traceback (most recent call last)",
      "\u001b[1;32m~\\AppData\\Local\\Temp/ipykernel_17352/1960946116.py\u001b[0m in \u001b[0;36m<module>\u001b[1;34m\u001b[0m\n\u001b[1;32m----> 1\u001b[1;33m \u001b[0mvtatapwr_bs_url\u001b[0m\u001b[1;33m\u001b[0m\u001b[1;33m\u001b[0m\u001b[0m\n\u001b[0m",
      "\u001b[1;31mNameError\u001b[0m: name 'vtatapwr_bs_url' is not defined"
     ]
    }
   ],
   "source": [
    "vtatapwr_bs_url"
   ]
  },
  {
   "cell_type": "code",
   "execution_count": 12,
   "id": "5027749e",
   "metadata": {},
   "outputs": [],
   "source": [
    "# Loading Balance Sheet URL\n",
    "tatapwr_bs = get_table( tatapwr_bs_url)\n",
    "suzlon_bs = get_table( suzlon_bs_url)\n",
    "jppower_bs = get_table( jppower_bs_url)\n",
    "pfs_bs = get_table( pfs_bs_url)\n",
    "\n",
    "# Loading PnL URL\n",
    "tatapwr_pnl = get_table( tatapwr_pnl_url)\n",
    "suzlon_pnl = get_table( suzlon_pnl_url)\n",
    "jppower_pnl = get_table( jppower_pnl_url)\n",
    "pfs_pnl = get_table( pfs_pnl_url)\n",
    "\n",
    "# Loading CS URL\n",
    "tatapwr_cs = get_table( tatapwr_cs_url)\n",
    "suzlon_cs = get_table( suzlon_cs_url)\n",
    "jppower_cs = get_table( jppower_cs_url)\n",
    "pfs_cs = get_table( pfs_cs_url)"
   ]
  },
  {
   "cell_type": "code",
   "execution_count": 13,
   "id": "8a0a3cd9",
   "metadata": {},
   "outputs": [],
   "source": [
    "# Power Index\n",
    "adanigreen_bs = get_table( adanigreen_bs_url)\n",
    "powergrid_bs = get_table( powergrid_bs_url)\n",
    "ongc_bs = get_table( ongc_bs_url)\n",
    "gail_bs = get_table( gail_bs_url)\n",
    "ntpc_bs = get_table( ntpc_bs_url)\n",
    "hindpetro_bs = get_table( hindpetro_bs_url)\n",
    "reiance_bs = get_table( reiance_bs_url)\n",
    "bpcl_bs = get_table( bpcl_bs_url)\n",
    "ioc_bs = get_table( ioc_bs_url)\n",
    "\n",
    "# Loading PnL URL\n",
    "adanigreen_pnl = get_table( adanigreen_pnl_url)\n",
    "powergrid_pnl = get_table( powergrid_pnl_url)\n",
    "ongc_pnl = get_table( ongc_pnl_url)\n",
    "gail_pnl = get_table( gail_pnl_url)\n",
    "ntpc_pnl = get_table( ntpc_pnl_url)\n",
    "hindpetro_pnl = get_table( hindpetro_pnl_url)\n",
    "reiance_pnl = get_table( reiance_pnl_url)\n",
    "bpcl_pnl = get_table( bpcl_pnl_url)\n",
    "ioc_pnl = get_table( ioc_pnl_url)\n",
    "\n",
    "# Loading CS URL\n",
    "adanigreen_cs = get_table( adanigreen_cs_url)\n",
    "powergrid_cs = get_table( powergrid_cs_url)\n",
    "ongc_cs = get_table( ongc_cs_url)\n",
    "gail_cs = get_table( gail_cs_url)\n",
    "\n",
    "ntpc_cs = get_table( ntpc_cs_url)\n",
    "hindpetro_cs = get_table( hindpetro_cs_url)\n",
    "reiance_cs = get_table( reiance_cs_url)\n",
    "bpcl_cs = get_table( bpcl_cs_url)\n",
    "\n",
    "ioc_cs = get_table( ioc_cs_url)"
   ]
  },
  {
   "cell_type": "code",
   "execution_count": 14,
   "id": "a0972746",
   "metadata": {},
   "outputs": [],
   "source": [
    "def rel(res):\n",
    "    res = res.apply(lambda x: x.str.replace(',', ''))\n",
    "    return res"
   ]
  },
  {
   "cell_type": "code",
   "execution_count": 15,
   "id": "f0a386e6",
   "metadata": {},
   "outputs": [],
   "source": [
    "pfs_pnl = rel(pfs_pnl)\n",
    "tatapwr_pnl = rel(tatapwr_pnl)\n",
    "suzlon_pnl = rel(suzlon_pnl)\n",
    "jppower_pnl = rel(jppower_pnl)\n",
    "\n",
    "pfs_cs = rel(pfs_cs)\n",
    "tatapwr_cs = rel(tatapwr_cs)\n",
    "suzlon_cs = rel(suzlon_cs)\n",
    "jppower_cs = rel(jppower_cs)\n",
    "\n",
    "pfs_bs = rel(pfs_bs)\n",
    "tatapwr_bs = rel(tatapwr_bs)\n",
    "suzlon_bs = rel(suzlon_bs)\n",
    "jppower_bs = rel(jppower_bs)"
   ]
  },
  {
   "cell_type": "code",
   "execution_count": 16,
   "id": "41854ee0",
   "metadata": {},
   "outputs": [],
   "source": [
    "# Index stocks\n",
    "adanigreen_bs = rel(adanigreen_bs)\n",
    "powergrid_bs = rel(powergrid_bs)\n",
    "ongc_bs = rel(ongc_bs)\n",
    "gail_bs = rel(gail_bs)\n",
    "ntpc_bs = rel(ntpc_bs)\n",
    "hindpetro_bs = rel(hindpetro_bs)\n",
    "reiance_bs = rel(reiance_bs)\n",
    "bpcl_bs = rel(bpcl_bs)\n",
    "ioc_bs = rel(ioc_bs)\n",
    "\n",
    "adanigreen_cs = rel(adanigreen_cs)\n",
    "powergrid_cs = rel(powergrid_cs)\n",
    "ongc_cs = rel(ongc_cs)\n",
    "gail_cs = rel(gail_cs)\n",
    "ntpc_cs = rel(ntpc_cs)\n",
    "hindpetro_cs = rel(hindpetro_cs)\n",
    "reiance_cs = rel(reiance_cs)\n",
    "bpcl_cs = rel(bpcl_cs)\n",
    "ioc_cs = rel(ioc_cs)\n",
    "\n",
    "adanigreen_pnl = rel(adanigreen_pnl)\n",
    "powergrid_pnl = rel(powergrid_pnl)\n",
    "ongc_pnl = rel(ongc_pnl)\n",
    "gail_pnl = rel(gail_pnl)\n",
    "ntpc_pnl = rel(ntpc_pnl)\n",
    "hindpetro_pnl = rel(hindpetro_pnl)\n",
    "reiance_pnl = rel(reiance_pnl)\n",
    "bpcl_pnl = rel(bpcl_pnl)\n",
    "ioc_pnl = rel(ioc_pnl)"
   ]
  },
  {
   "cell_type": "code",
   "execution_count": 155,
   "id": "f681a689",
   "metadata": {},
   "outputs": [
    {
     "data": {
      "text/plain": [
       "array([6.90817388])"
      ]
     },
     "execution_count": 155,
     "metadata": {},
     "output_type": "execute_result"
    }
   ],
   "source": [
    " ((tatapwr_pnl[tatapwr_pnl.iloc[:, 1] == 'Total Revenue']['Mar 18']).astype('float').values / (tatapwr_pnl[tatapwr_pnl.iloc[:, 1] == 'Total Revenue']['Mar 17']).astype('float').values - 1)*100\n"
   ]
  },
  {
   "cell_type": "code",
   "execution_count": 17,
   "id": "9b98ac35",
   "metadata": {},
   "outputs": [],
   "source": [
    "def cagr(stock, mode):\n",
    "\n",
    "    cagr18 = ((stock[stock.iloc[:, 1] == mode]['Mar 18']).astype('float').values / (stock[stock.iloc[:, 1] == mode]['Mar 17']).astype('float').values - 1)*100\n",
    "    cagr19 = ((stock[stock.iloc[:, 1] == mode]['Mar 19']).astype('float').values / (stock[stock.iloc[:, 1] == mode]['Mar 18']).astype('float').values - 1)*100\n",
    "    cagr20 = ((stock[stock.iloc[:, 1] == mode]['Mar 20']).astype('float').values / (stock[stock.iloc[:, 1] == mode]['Mar 19']).astype('float').values - 1)*100\n",
    "    cagr21 = ((stock[stock.iloc[:, 1] == mode]['Mar 21']).astype('float').values / (stock[stock.iloc[:, 1] == mode]['Mar 20']).astype('float').values - 1)*100\n",
    "\n",
    "    return cagr21, cagr20, cagr19, cagr18"
   ]
  },
  {
   "cell_type": "code",
   "execution_count": 18,
   "id": "ee7dec9c",
   "metadata": {},
   "outputs": [],
   "source": [
    "def value(stock, mode):\n",
    "    value18 = (stock[stock.iloc[:, 1] == mode]['Mar 18']).astype('float').values\n",
    "    value19 = (stock[stock.iloc[:, 1] == mode]['Mar 19']).astype('float').values\n",
    "    value20 = (stock[stock.iloc[:, 1] == mode]['Mar 20']).astype('float').values\n",
    "    value21 = (stock[stock.iloc[:, 1] == mode]['Mar 21']).astype('float').values\n",
    "    return value21, value20, value19, value18"
   ]
  },
  {
   "cell_type": "code",
   "execution_count": 156,
   "id": "b32e897e",
   "metadata": {},
   "outputs": [],
   "source": [
    "# Total Revenue CAGR\n",
    "cagr_pfs_revenue21, cagr_pfs_revenue20, cagr_pfs_revenue19, cagr_pfs_revenue18  = cagr(pfs_pnl,'Total Revenue')\n",
    "cagr_tatapwr_revenue21, cagr_tatapwr_revenue20, cagr_tatapwr_revenue19, cagr_tatapwr_revenue18  = cagr(tatapwr_pnl,'Total Revenue')\n",
    "cagr_suzlon_revenue21, cagr_suzlon_revenue20, cagr_suzlon_revenue19, cagr_suzlon_revenue18  = cagr(suzlon_pnl,'Total Revenue')\n",
    "cagr_jppower_revenue21, cagr_jppower_revenue20, cagr_jppower_revenue19, cagr_jppower_revenue18  = cagr(jppower_pnl,'Total Revenue')"
   ]
  },
  {
   "cell_type": "code",
   "execution_count": 157,
   "id": "b2b2e327",
   "metadata": {},
   "outputs": [
    {
     "data": {
      "text/plain": [
       "array([6.90817388])"
      ]
     },
     "execution_count": 157,
     "metadata": {},
     "output_type": "execute_result"
    }
   ],
   "source": [
    "cagr_tatapwr_revenue18"
   ]
  },
  {
   "cell_type": "code",
   "execution_count": 20,
   "id": "be510177",
   "metadata": {},
   "outputs": [],
   "source": [
    "# Index Total Revenue CAGR\n",
    "\n",
    "\n",
    "cagr_adanigreen_revenue21, cagr_adanigreen_revenue20, cagr_adanigreen_revenue19, cagr_adanigreen_revenue18  = cagr(adanigreen_pnl,'Total Revenue')\n",
    "cagr_powergrid_revenue21, cagr_powergrid_revenue20, cagr_powergrid_revenue19, cagr_powergrid_revenue18  = cagr(powergrid_pnl,'Total Revenue')\n",
    "cagr_ongc_revenue21, cagr_ongc_revenue20, cagr_ongc_revenue19, cagr_ongc_revenue18  = cagr(ongc_pnl,'Total Revenue')\n",
    "cagr_gail_revenue21, cagr_gail_revenue20, cagr_gail_revenue19, cagr_gail_revenue18  = cagr(gail_pnl,'Total Revenue')\n",
    "\n",
    "cagr_ntpc_revenue21, cagr_ntpc_revenue20, cagr_ntpc_revenue19, cagr_ntpc_revenue18  = cagr(ntpc_pnl,'Total Revenue')\n",
    "cagr_hindpetro_revenue21, cagr_hindpetro_revenue20, cagr_hindpetro_revenue19, cagr_hindpetro_revenue18  = cagr(hindpetro_pnl,'Total Revenue')\n",
    "cagr_reiance_revenue21, cagr_reiance_revenue20, cagr_reiance_revenue19, cagr_reiance_revenue18  = cagr(reiance_pnl,'Total Revenue')\n",
    "cagr_bpcl_revenue21, cagr_bpcl_revenue20, cagr_bpcl_revenue19, cagr_bpcl_revenue18  = cagr(bpcl_pnl,'Total Revenue')\n",
    "\n",
    "cagr_ioc_revenue21, cagr_ioc_revenue20, cagr_ioc_revenue19, cagr_ioc_revenue18  = cagr(ioc_pnl,'Total Revenue')"
   ]
  },
  {
   "cell_type": "code",
   "execution_count": 21,
   "id": "b3dfca19",
   "metadata": {},
   "outputs": [],
   "source": [
    "# Profit CAGR\n",
    "cagr_pfs_profit21, cagr_pfs_profit20, cagr_pfs_profit19, cagr_pfs_profit18  = cagr(pfs_pnl,'Profit/Loss For The Period')\n",
    "cagr_tatapwr_profit21, cagr_tatapwr_profit20, cagr_tatapwr_profit19, cagr_tatapwr_profit18  = cagr(tatapwr_pnl,'Profit/Loss For The Period')\n",
    "cagr_suzlon_profit21, cagr_suzlon_profit20, cagr_suzlon_profit19, cagr_suzlon_profit18  = cagr(suzlon_pnl,'Profit/Loss For The Period')\n",
    "cagr_jppower_profit21, cagr_jppower_profit20, cagr_jppower_profit19, cagr_jppower_profit18  = cagr(jppower_pnl,'Profit/Loss For The Period')"
   ]
  },
  {
   "cell_type": "code",
   "execution_count": 22,
   "id": "2345aa15",
   "metadata": {},
   "outputs": [],
   "source": [
    "# Index Prpfit CAGR\n",
    "\n",
    "cagr_adanigreen_profit21, cagr_adanigreen_profit20, cagr_adanigreen_profit19, cagr_adanigreen_profit18  = cagr(adanigreen_pnl,'Profit/Loss For The Period')\n",
    "cagr_powergrid_profit21, cagr_powergrid_profit20, cagr_powergrid_profit19, cagr_powergrid_profit18  = cagr(powergrid_pnl,'Profit/Loss For The Period')\n",
    "cagr_ongc_profit21, cagr_ongc_profit20, cagr_ongc_profit19, cagr_ongc_profit18  = cagr(ongc_pnl,'Profit/Loss For The Period')\n",
    "cagr_gail_profit21, cagr_gail_profit20, cagr_gail_profit19, cagr_gail_profit18  = cagr(gail_pnl,'Profit/Loss For The Period')\n",
    "\n",
    "cagr_ntpc_profit21, cagr_ntpc_profit20, cagr_ntpc_profit19, cagr_ntpc_profit18  = cagr(ntpc_pnl,'Profit/Loss For The Period')\n",
    "cagr_hindpetro_profit21, cagr_hindpetro_profit20, cagr_hindpetro_profit19, cagr_hindpetro_profit18  = cagr(hindpetro_pnl,'Profit/Loss For The Period')\n",
    "cagr_reiance_profit21, cagr_reiance_profit20, cagr_reiance_profit19, cagr_reiance_profit18  = cagr(reiance_pnl,'Profit/Loss For The Period')\n",
    "cagr_bpcl_profit21, cagr_bpcl_profit20, cagr_bpcl_profit19, cagr_bpcl_profit18  = cagr(bpcl_pnl,'Profit/Loss For The Period')\n",
    "\n",
    "cagr_ioc_profit21, cagr_ioc_profit20, cagr_ioc_profit19, cagr_ioc_profit18  = cagr(ioc_pnl,'Profit/Loss For The Period')"
   ]
  },
  {
   "cell_type": "code",
   "execution_count": 23,
   "id": "ba8abd4b",
   "metadata": {},
   "outputs": [],
   "source": [
    "# EBITDA CAGR\n",
    "cagr_pfs_EBITDA21, cagr_pfs_EBITDA20, cagr_pfs_EBITDA19, cagr_pfs_EBITDA18  = cagr(pfs_pnl,'Profit/Loss Before Exceptional ExtraOrdinary Items And Tax')\n",
    "cagr_tatapwr_EBITDA21, cagr_tatapwr_EBITDA20, cagr_tatapwr_EBITDA19, cagr_tatapwr_EBITDA18  = cagr(tatapwr_pnl,'Profit/Loss Before Exceptional ExtraOrdinary Items And Tax')\n",
    "cagr_suzlon_EBITDA21, cagr_suzlon_EBITDA20, cagr_suzlon_EBITDA19, cagr_suzlon_EBITDA18  = cagr(suzlon_pnl,'Profit/Loss Before Exceptional ExtraOrdinary Items And Tax')\n",
    "cagr_jppower_EBITDA21, cagr_jppower_EBITDA20, cagr_jppower_EBITDA19, cagr_jppower_EBITDA18  = cagr(jppower_pnl,'Profit/Loss Before Exceptional ExtraOrdinary Items And Tax')"
   ]
  },
  {
   "cell_type": "code",
   "execution_count": 24,
   "id": "78b61354",
   "metadata": {},
   "outputs": [],
   "source": [
    "# Index EBITDA CAGR\n",
    "cagr_adanigreen_EBITDA21, cagr_adanigreen_EBITDA20, cagr_adanigreen_EBITDA19, cagr_adanigreen_EBITDA18  = cagr(adanigreen_pnl,'Profit/Loss Before Exceptional ExtraOrdinary Items And Tax')\n",
    "cagr_powergrid_EBITDA21, cagr_powergrid_EBITDA20, cagr_powergrid_EBITDA19, cagr_powergrid_EBITDA18  = cagr(powergrid_pnl,'Profit/Loss Before Exceptional ExtraOrdinary Items And Tax')\n",
    "cagr_ongc_EBITDA21, cagr_ongc_EBITDA20, cagr_ongc_EBITDA19, cagr_ongc_EBITDA18  = cagr(ongc_pnl,'Profit/Loss Before Exceptional ExtraOrdinary Items And Tax')\n",
    "cagr_gail_EBITDA21, cagr_gail_EBITDA20, cagr_gail_EBITDA19, cagr_gail_EBITDA18  = cagr(gail_pnl,'Profit/Loss Before Exceptional ExtraOrdinary Items And Tax')\n",
    "\n",
    "cagr_ntpc_EBITDA21, cagr_ntpc_EBITDA20, cagr_ntpc_EBITDA19, cagr_ntpc_EBITDA18  = cagr(ntpc_pnl,'Profit/Loss Before Exceptional ExtraOrdinary Items And Tax')\n",
    "cagr_hindpetro_EBITDA21, cagr_hindpetro_EBITDA20, cagr_hindpetro_EBITDA19, cagr_hindpetro_EBITDA18  = cagr(hindpetro_pnl,'Profit/Loss Before Exceptional ExtraOrdinary Items And Tax')\n",
    "cagr_reiance_EBITDA21, cagr_reiance_EBITDA20, cagr_reiance_EBITDA19, cagr_reiance_EBITDA18  = cagr(reiance_pnl,'Profit/Loss Before Exceptional ExtraOrdinary Items And Tax')\n",
    "cagr_bpcl_EBITDA21, cagr_bpcl_EBITDA20, cagr_bpcl_EBITDA19, cagr_bpcl_EBITDA18  = cagr(bpcl_pnl,'Profit/Loss Before Exceptional ExtraOrdinary Items And Tax')\n",
    "\n",
    "cagr_ioc_EBITDA21, cagr_ioc_EBITDA20, cagr_ioc_EBITDA19, cagr_ioc_EBITDA18  = cagr(ioc_pnl,'Profit/Loss Before Exceptional ExtraOrdinary Items And Tax')"
   ]
  },
  {
   "cell_type": "code",
   "execution_count": 25,
   "id": "7a197a51",
   "metadata": {},
   "outputs": [],
   "source": [
    "# Operating Cash Flow\n",
    "value_pfs_operatingcashflow_21, value_pfs_operatingcashflow_20, value_pfs_operatingcashflow_19, value_pfs_operatingcashflow_18  = value(pfs_cs,'Net CashFlow From Operating Activities')\n",
    "value_tatapwr_operatingcashflow_21, value_tatapwr_operatingcashflow_20, value_tatapwr_operatingcashflow_19, value_tatapwr_operatingcashflow_18  = value(tatapwr_cs,'Net CashFlow From Operating Activities')\n",
    "value_suzlon_operatingcashflow_21, value_suzlon_operatingcashflow_20, value_suzlon_operatingcashflow_19, value_suzlon_operatingcashflow_18  = value(suzlon_cs,'Net CashFlow From Operating Activities')\n",
    "value_jppower_operatingcashflow_21, value_jppower_operatingcashflow_20, value_jppower_operatingcashflow_19, value_jppower_operatingcashflow_18  = value(jppower_cs,'Net CashFlow From Operating Activities')"
   ]
  },
  {
   "cell_type": "code",
   "execution_count": 48,
   "id": "4cb1b675",
   "metadata": {},
   "outputs": [],
   "source": [
    "# Index Operating Cash Flow\n",
    "value_adanigreen_operatingcashflow_21, value_adanigreen_operatingcashflow_20, value_adanigreen_operatingcashflow_19, value_adanigreen_operatingcashflow_18  = value(adanigreen_cs,'Net CashFlow From Operating Activities')\n",
    "value_powergrid_operatingcashflow_21, value_powergrid_operatingcashflow_20, value_powergrid_operatingcashflow_19, value_powergrid_operatingcashflow_18  = value(powergrid_cs,'Net CashFlow From Operating Activities')\n",
    "value_ongc_operatingcashflow_21, value_ongc_operatingcashflow_20, value_ongc_operatingcashflow_19, value_ongc_operatingcashflow_18  = value(ongc_cs,'Net CashFlow From Operating Activities')\n",
    "value_gail_operatingcashflow_21, value_gail_operatingcashflow_20, value_gail_operatingcashflow_19, value_gail_operatingcashflow_18  = value(gail_cs,'Net CashFlow From Operating Activities')\n",
    "\n",
    "value_ntpc_operatingcashflow_21, value_ntpc_operatingcashflow_20, value_ntpc_operatingcashflow_19, value_ntpc_operatingcashflow_18  = value(ntpc_cs,'Net CashFlow From Operating Activities')\n",
    "value_hindpetro_operatingcashflow_21, value_hindpetro_operatingcashflow_20, value_hindpetro_operatingcashflow_19, value_hindpetro_operatingcashflow_18  = value(hindpetro_cs,'Net CashFlow From Operating Activities')\n",
    "value_reiance_operatingcashflow_21, value_reiance_operatingcashflow_20, value_reiance_operatingcashflow_19, value_reiance_operatingcashflow_18  = value(reiance_cs,'Net CashFlow From Operating Activities')\n",
    "value_bpcl_operatingcashflow_21, value_bpcl_operatingcashflow_20, value_bpcl_operatingcashflow_19, value_bpcl_operatingcashflow_18  = value(bpcl_cs,'Net CashFlow From Operating Activities')\n",
    "\n",
    "value_ioc_operatingcashflow_21, value_ioc_operatingcashflow_20, value_ioc_operatingcashflow_19, value_ioc_operatingcashflow_18  = value(ioc_cs,'Net CashFlow From Operating Activities')\n"
   ]
  },
  {
   "cell_type": "code",
   "execution_count": 27,
   "id": "219b7c94",
   "metadata": {},
   "outputs": [
    {
     "data": {
      "text/plain": [
       "array([449.86])"
      ]
     },
     "execution_count": 27,
     "metadata": {},
     "output_type": "execute_result"
    }
   ],
   "source": [
    "value_suzlon_operatingcashflow_19"
   ]
  },
  {
   "cell_type": "code",
   "execution_count": 28,
   "id": "b4ef2393",
   "metadata": {},
   "outputs": [],
   "source": [
    "# # Fixed Assets\n",
    "# value_pfs_FA_21, value_pfs_FA_20, value_pfs_FA_19, value_pfs_FA_18  = value(pfs_bs,'Fixed Assets')\n",
    "# value_tatapwr_FA_21, value_tatapwr_FA_20, value_tatapwr_FA_19, value_tatapwr_FA_18  = value(tatapwr_cs,'Fixed Assets')\n",
    "# value_suzlon_FA_21, value_suzlon_FA_20, value_suzlon_FA_19, value_suzlon_FA_18  = value(suzlon_cs,'Fixed Assets')\n",
    "# value_jppower_FA_21, value_jppower_FA_20, value_jppower_FA_19, value_jppower_FA_18  = value(jppower_cs,'Fixed Assets')\n"
   ]
  },
  {
   "cell_type": "code",
   "execution_count": 29,
   "id": "dc7bd0eb",
   "metadata": {},
   "outputs": [],
   "source": [
    "def freecashflow(stockcs,stockbs):\n",
    "    value18 = (stockcs[stockcs.iloc[:, 1] == 'Net CashFlow From Operating Activities']['Mar 18']).astype('float').values - (stockbs[stockbs.iloc[:, 1] == 'Fixed Assets']['Mar 18']).astype('float').values\n",
    "    value19 = (stockcs[stockcs.iloc[:, 1] == 'Net CashFlow From Operating Activities']['Mar 19']).astype('float').values - (stockbs[stockbs.iloc[:, 1] == 'Fixed Assets']['Mar 19']).astype('float').values\n",
    "    value20 = (stockcs[stockcs.iloc[:, 1] == 'Net CashFlow From Operating Activities']['Mar 20']).astype('float').values - (stockbs[stockbs.iloc[:, 1] == 'Fixed Assets']['Mar 20']).astype('float').values\n",
    "    value21 = (stockcs[stockcs.iloc[:, 1] == 'Net CashFlow From Operating Activities']['Mar 21']).astype('float').values - (stockbs[stockbs.iloc[:, 1] == 'Fixed Assets']['Mar 21']).astype('float').values\n",
    "    return value21, value20, value19, value18"
   ]
  },
  {
   "cell_type": "code",
   "execution_count": 30,
   "id": "bd2244e8",
   "metadata": {},
   "outputs": [],
   "source": [
    "value_pfs_freecashflow_21, value_pfs_freecashflow_20, value_pfs_freecashflow_19, value_pfs_freecashflow_18  = freecashflow(pfs_cs,pfs_bs)\n",
    "value_suzlon_freecashflow_21, value_suzlon_freecashflow_20, value_suzlon_freecashflow_19, value_suzlon_freecashflow_18  =freecashflow(suzlon_cs,suzlon_bs)\n",
    "value_tatapwr_freecashflow_21, value_tatapwr_freecashflow_20, value_tatapwr_freecashflow_19, value_tatapwr_freecashflow_18  =freecashflow(tatapwr_cs,tatapwr_bs)\n",
    "value_jppower_freecashflow_21, value_jppower_freecashflow_20, value_jppower_freecashflow_19, value_jppower_freecashflow_18  =freecashflow(jppower_cs,suzlon_bs)"
   ]
  },
  {
   "cell_type": "code",
   "execution_count": 55,
   "id": "ff21e114",
   "metadata": {},
   "outputs": [],
   "source": [
    "# Index Operating Cash Flow\n",
    "value_adanigreen_freecashflow_21, value_adanigreen_freecashflow_20, value_adanigreen_freecashflow_19, value_adanigreen_freecashflow_18  = freecashflow(adanigreen_cs,adanigreen_bs)\n",
    "value_powergrid_freecashflow_21, value_powergrid_freecashflow_20, value_powergrid_freecashflow_19, value_powergrid_freecashflow_18  = freecashflow(powergrid_cs,powergrid_bs)\n",
    "value_ongc_freecashflow_21, value_ongc_freecashflow_20, value_ongc_freecashflow_19, value_ongc_freecashflow_18  = freecashflow(ongc_cs,ongc_bs)\n",
    "value_gail_freecashflow_21, value_gail_freecashflow_20, value_gail_freecashflow_19, value_gail_freecashflow_18  = freecashflow(gail_cs,gail_bs)\n",
    "\n",
    "value_ntpc_freecashflow_21, value_ntpc_freecashflow_20, value_ntpc_freecashflow_19, value_ntpc_freecashflow_18  = freecashflow(pfs_cs,pfs_bs)\n",
    "value_hindpetro_freecashflow_21, value_hindpetro_freecashflow_20, value_hindpetro_freecashflow_19, value_hindpetro_freecashflow_18  = freecashflow(ntpc_cs,ntpc_bs)\n",
    "value_reiance_freecashflow_21, value_reiance_freecashflow_20, value_reiance_freecashflow_19, value_reiance_freecashflow_18  = freecashflow(hindpetro_cs,hindpetro_bs)\n",
    "value_bpcl_freecashflow_21, value_bpcl_freecashflow_20, value_bpcl_freecashflow_19, value_bpcl_freecashflow_18  = freecashflow(bpcl_cs,bpcl_bs)\n",
    "\n",
    "value_ioc_freecashflow_21, value_ioc_freecashflow_20, value_ioc_freecashflow_19, value_ioc_freecashflow_18  = freecashflow(ioc_cs,ioc_bs)\n"
   ]
  },
  {
   "cell_type": "code",
   "execution_count": 32,
   "id": "dd6337a6",
   "metadata": {},
   "outputs": [],
   "source": [
    "### ROE\n",
    "def ROE(stockpnl,stockbs):\n",
    "    ROE18 = (stockpnl[stockpnl.iloc[:, 1] == 'Profit/Loss For The Period']['Mar 18']).astype('float').values / (stockbs[stockbs.iloc[:, 1] == 'Total Shareholders Funds']['Mar 18']).astype('float').values\n",
    "    ROE19 = (stockpnl[stockpnl.iloc[:, 1] == 'Profit/Loss For The Period']['Mar 19']).astype('float').values / (stockbs[stockbs.iloc[:, 1] == 'Total Shareholders Funds']['Mar 19']).astype('float').values\n",
    "    ROE20 = (stockpnl[stockpnl.iloc[:, 1] == 'Profit/Loss For The Period']['Mar 20']).astype('float').values / (stockbs[stockbs.iloc[:, 1] == 'Total Shareholders Funds']['Mar 20']).astype('float').values\n",
    "    ROE21 = (stockpnl[stockpnl.iloc[:, 1] == 'Profit/Loss For The Period']['Mar 21']).astype('float').values / (stockbs[stockbs.iloc[:, 1] == 'Total Shareholders Funds']['Mar 21']).astype('float').values\n",
    "    return ROE21, ROE20, ROE19, ROE18\n"
   ]
  },
  {
   "cell_type": "code",
   "execution_count": 33,
   "id": "6079e0e2",
   "metadata": {},
   "outputs": [],
   "source": [
    "value_pfs_roe_21, value_pfs_roe_20, value_pfs_roe_19, value_pfs_roe_18 = ROE(pfs_pnl,pfs_bs)\n",
    "value_suzlon_roe_21, value_suzlon_roe_20, value_suzlon_roe_19, value_suzlon_roe_18 = ROE(suzlon_pnl,suzlon_bs)\n",
    "value_tatapwr_roe_21, value_tatapwr_roe_20, value_tatapwr_roe_19, value_tatapwr_roe_18 = ROE(tatapwr_pnl,tatapwr_bs)\n",
    "value_jppower_roe_21, value_jppower_roe_20, value_jppower_roe_19, value_jppower_roe_18 = ROE(jppower_pnl,jppower_bs)"
   ]
  },
  {
   "cell_type": "code",
   "execution_count": 34,
   "id": "3df1266a",
   "metadata": {},
   "outputs": [],
   "source": [
    "# Index ROE \n",
    "\n",
    "value_adanigreen_roe_21, value_adanigreen_roe_20, value_adanigreen_roe_19, value_adanigreen_roe_18  = ROE(adanigreen_pnl,adanigreen_bs)\n",
    "value_powergrid_roe_21, value_powergrid_roe_20, value_powergrid_roe_19, value_powergrid_roe_18  = ROE(powergrid_pnl,powergrid_bs)\n",
    "value_ongc_roe_21, value_ongc_roe_20, value_ongc_roe_19, value_ongc_roe_18  = ROE(ongc_pnl,ongc_bs)\n",
    "value_gail_roe_21, value_gail_roe_20, value_gail_roe_19, value_gail_roe_18  = ROE(gail_pnl,gail_bs)\n",
    "\n",
    "value_ntpc_roe_21, value_ntpc_roe_20, value_ntpc_roe_19, value_ntpc_roe_18  = ROE(pfs_pnl,pfs_bs)\n",
    "value_hindpetro_roe_21, value_hindpetro_roe_20, value_hindpetro_roe_19, value_hindpetro_roe_18  = ROE(ntpc_pnl,ntpc_bs)\n",
    "value_reiance_roe_21, value_reiance_roe_20, value_reiance_roe_19, value_reiance_roe_18  = ROE(hindpetro_pnl,hindpetro_bs)\n",
    "value_bpcl_roe_21, value_bpcl_roe_20, value_bpcl_roe_19, value_bpcl_roe_18  = ROE(bpcl_pnl,bpcl_bs)\n",
    "\n",
    "value_ioc_roe_21, value_ioc_roe_20, value_ioc_roe_19, value_ioc_roe_18  = ROE(ioc_pnl,ioc_bs)\n"
   ]
  },
  {
   "cell_type": "code",
   "execution_count": 35,
   "id": "94f98f83",
   "metadata": {},
   "outputs": [],
   "source": [
    "def DE(stockbs):\n",
    "    DE18 = (stockbs[stockbs.iloc[:, 1] == 'Total Capital And Liabilities']['Mar 18']).astype('float').values / (stockbs[stockbs.iloc[:, 1] == 'Total Shareholders Funds']['Mar 18']).astype('float').values\n",
    "    DE19 = (stockbs[stockbs.iloc[:, 1] == 'Total Capital And Liabilities']['Mar 19']).astype('float').values / (stockbs[stockbs.iloc[:, 1] == 'Total Shareholders Funds']['Mar 19']).astype('float').values\n",
    "    DE20 = (stockbs[stockbs.iloc[:, 1] == 'Total Capital And Liabilities']['Mar 20']).astype('float').values / (stockbs[stockbs.iloc[:, 1] == 'Total Shareholders Funds']['Mar 20']).astype('float').values\n",
    "    DE21 = (stockbs[stockbs.iloc[:, 1] == 'Total Capital And Liabilities']['Mar 21']).astype('float').values / (stockbs[stockbs.iloc[:, 1] == 'Total Shareholders Funds']['Mar 21']).astype('float').values\n",
    "    return DE21, DE20, DE19, DE18\n"
   ]
  },
  {
   "cell_type": "code",
   "execution_count": 36,
   "id": "9c89a17a",
   "metadata": {},
   "outputs": [],
   "source": [
    "# (pfs_bs[pfs_bs.iloc[:, 1] == 'TOTAL CAPITAL AND LIABILITIES']['Mar 18']).astype('float').values \n",
    "# \\/ (stockbs[stockbs.iloc[:, 1] == 'Total Shareholders Funds']['Mar 18']).astype('float').values\n"
   ]
  },
  {
   "cell_type": "code",
   "execution_count": 203,
   "id": "bc6abdba",
   "metadata": {},
   "outputs": [],
   "source": [
    "value_pfs_de21, value_pfs_de20, value_pfs_de19, value_pfs_de18 = DE(pfs_bs)\n",
    "value_suzlon_de21, value_suzlon_de20, value_suzlon_de19, value_suzlon_de18 = DE(suzlon_bs)\n",
    "value_tatapwr_de21, value_tatapwr_de20, value_tatapwr_de19, value_tatapwr_de18 = DE(tatapwr_bs)\n",
    "value_jppower_de21, value_jppower_de20, value_jppower_de19, value_jppower_de18 = DE(jppower_bs)"
   ]
  },
  {
   "cell_type": "code",
   "execution_count": 52,
   "id": "2e78992f",
   "metadata": {},
   "outputs": [],
   "source": [
    "# Index DE\n",
    "\n",
    "\n",
    "value_adanigreen_de21, value_adanigreen_de20, value_adanigreen_de19, value_adanigreen_de18 = DE(adanigreen_bs)\n",
    "value_powergrid_de21, value_powergrid_de20, value_powergrid_de19, value_powergrid_de18  = DE(powergrid_bs)\n",
    "value_ongc_de21, value_ongc_de20, value_ongc_de19, value_ongc_de18  = DE(ongc_bs)\n",
    "value_gail_de21, value_gail_de20, value_gail_de19, value_gail_de18  = DE(gail_bs)\n",
    "\n",
    "value_ntpc_de21, value_ntpc_de20, value_ntpc_de19, value_ntpc_de18  = DE(ntpc_bs)\n",
    "value_hindpetro_de21, value_hindpetro_de20, value_hindpetro_de19, value_hindpetro_de18  = DE(hindpetro_bs)\n",
    "value_reiance_de21, value_reiance_de20, value_reiance_de19, value_reiance_de18  = DE(reiance_bs)\n",
    "value_bpcl_de21, value_bpcl_de20, value_bpcl_de19, value_bpcl_de18  = DE(bpcl_bs)\n",
    "\n",
    "value_ioc_de21, value_ioc_de20, value_ioc_de19, value_ioc_de18 = DE(ioc_bs)"
   ]
  },
  {
   "cell_type": "code",
   "execution_count": 39,
   "id": "785080ac",
   "metadata": {},
   "outputs": [
    {
     "data": {
      "text/plain": [
       "array([2.27015996])"
      ]
     },
     "execution_count": 39,
     "metadata": {},
     "output_type": "execute_result"
    }
   ],
   "source": [
    "value_pfs_de21"
   ]
  },
  {
   "cell_type": "code",
   "execution_count": 40,
   "id": "927a37dc",
   "metadata": {},
   "outputs": [],
   "source": [
    "##  Basic Ratio"
   ]
  },
  {
   "cell_type": "code",
   "execution_count": 4,
   "id": "7605625d",
   "metadata": {},
   "outputs": [],
   "source": [
    "ls = ['JPPOWER.NS','PFS.NS', 'SUZLON.NS','TATAPOWER.NS']"
   ]
  },
  {
   "cell_type": "code",
   "execution_count": 5,
   "id": "7e809ac0",
   "metadata": {},
   "outputs": [],
   "source": [
    "data = {}\n",
    "dow_stats = pd.DataFrame()\n",
    "for ticker in ls:\n",
    "#     print(ticker)\n",
    "    temp = si.get_stats_valuation(ticker)\n",
    "    temp = temp.iloc[:,:2]\n",
    "#     print(temp)\n",
    "    temp.columns = [\"Attribute\", \"Recent\"]\n",
    "    \n",
    "    temp['Ticket'] = ticker\n",
    "#     dow_stats = dow_stats.append(temp)\n",
    "# data = pd.concat(dow_stats, axis=1)\n",
    "    dow_stats = pd.concat([dow_stats, temp], axis=1)"
   ]
  },
  {
   "cell_type": "code",
   "execution_count": 43,
   "id": "64c46226",
   "metadata": {},
   "outputs": [],
   "source": [
    "def get_scrip_info(url):\n",
    "    original_url = url\n",
    "    key_val_pairs = {}\n",
    "    \n",
    "    page_response = requests.get(url, timeout=240)\n",
    "    page_content = BeautifulSoup(page_response.content, \"html.parser\")\n",
    "    name = page_content.find('h1').text\n",
    "\n",
    "\n",
    "    volume = ffloat(page_content.find('td',{'class':'nsevol bsevol'}).text)\n",
    "    eps = ffloat(page_content.find('td',{'class':'nseceps bseceps'}).text)\n",
    "    pe = ffloat(page_content.find('td',{'class':'nsepe bsepe'}).text)\n",
    "    sector_pe = ffloat(page_content.find('td',{'class':'nsesc_ttm bsesc_ttm'}).text)\n",
    "    market_cap = ffloat(page_content.find('td',{'class':'nsemktcap bsemktcap'}).text)\n",
    "    open_price = ffloat(page_content.find('td',{'class':'nsemktcap bsemktcap'}).text)\n",
    "    opn_prc = ffloat(page_content.find('td',{'class':'nseopn bseopn'}).text)\n",
    "    cls_prc = ffloat(page_content.find('td',{'class':'nseprvclose bseprvclose'}).text)\n",
    "    vwap = ffloat(page_content.find('td',{'class':'nsevwap bsevwap'}).text)\n",
    "    nsebeta = ffloat(page_content.find('td',{'class':'Beta'}))\n",
    "    bsebeta = ffloat(page_content.find('td',{'class':'bsebeta'}))\n",
    "    high = ffloat(page_content.find('td',{'class':'nseHP bseHP'}).text)\n",
    "    low = ffloat(page_content.find('td',{'class':'nseLP bseLP'}).text)\n",
    "    wh52 = ffloat(page_content.find('td',{'class':'nseH52 bseH52'}).text)\n",
    "    wl52 = ffloat(page_content.find('td',{'class':'nseL52 bseL52'}).text)\n",
    "    pb = ffloat(page_content.find('td',{'class':'nsepb bsepb'}).text)\n",
    "    fv = ffloat(page_content.find('td',{'class':'nsefv bsefv'}).text)\n",
    "    return high,low , name,nsebeta, volume, eps, pe, sector_pe, market_cap"
   ]
  },
  {
   "cell_type": "code",
   "execution_count": 44,
   "id": "f9362179",
   "metadata": {},
   "outputs": [],
   "source": [
    "pfs_high,pfs_low , pfs_name,pfs_nsebeta, pfs_volume, pfs_eps, pfs_pe, pfs_sector_pe, pfs_market_cap = get_scrip_info('https://www.moneycontrol.com/india/stockpricequote/trading/ptcindia/PTC02')\n",
    "tatapowercompany_high,tatapowercompany_low , tatapowercompany_name,tatapowercompany_nsebeta, tatapowercompany_volume, tatapowercompany_eps, tatapowercompany_pe, tatapowercompany_sector_pe, tatapowercompany_market_cap = get_scrip_info('https://www.moneycontrol.com/india/stockpricequote/power-generationdistribution/tatapowercompany/TPC')\n",
    "suzlon_high,pfs_low , suzlon_name,suzlon_nsebeta, suzlon_volume, suzlon_eps, suzlon_pe,suzlon_sector_pe, suzlon_market_cap = get_scrip_info('https://www.moneycontrol.com/india/stockpricequote/power-generationdistribution/suzlonenergy/SE17')\n",
    "jppower_high,jppower_low , jppower_name,jppower_nsebeta, jppower_volume, jppower_eps, jppower_pe, jppower_sector_pe, jppower_market_cap = get_scrip_info('https://www.moneycontrol.com/india/stockpricequote/power-generationdistribution/jaiprakashpowerventures/JHP01')"
   ]
  },
  {
   "cell_type": "code",
   "execution_count": null,
   "id": "0c1f8aa7",
   "metadata": {},
   "outputs": [],
   "source": []
  },
  {
   "cell_type": "code",
   "execution_count": 45,
   "id": "8da54d47",
   "metadata": {},
   "outputs": [],
   "source": [
    "## Index Stocks\n",
    "\n",
    "adanigreen_high,adanigreen_low , adanigreen_name,adanigreen_nsebeta, adanigreen_volume, adanigreen_eps, adanigreen_pe, adanigreen_sector_pe, adanigreen_market_cap = get_scrip_info('https://www.moneycontrol.com/india/stockpricequote/power-generationdistribution/adanigreenenergylimited/ADANI54145')\n",
    "powergrid_high,powergrid_low , powergrid_name,powergrid_nsebeta, powergrid_volume, powergrid_eps, powergrid_pe, powergrid_sector_pe, powergrid_market_cap = get_scrip_info('https://www.moneycontrol.com/india/stockpricequote/power-generationdistribution/powergridcorporationindia/PGC')\n",
    "ongc_high,ongc_low , ongc_name,ongc_nsebeta, ongc_volume, ongc_eps, ongc_pe,ongc_sector_pe, ongc_market_cap = get_scrip_info('https://www.moneycontrol.com/india/stockpricequote/oil-drillingexploration/oilnaturalgascorporation/ONG')\n",
    "gail_high,gail_low , gail_name,gail_nsebeta, gail_volume, gail_eps, gail_pe, gail_sector_pe, jppower_market_cap = get_scrip_info('https://www.moneycontrol.com/india/stockpricequote/oil-drillingexploration/gailindia/GAI')\n",
    "\n",
    "ntpc_high,ntpc_low , ntpc_name,ntpc_nsebeta, ntpc_volume, ntpc_eps, ntpc_pe, ntpc_sector_pe, ntpc_market_cap = get_scrip_info('https://www.moneycontrol.com/india/stockpricequote/power-generationdistribution/ntpc/NTP')\n",
    "hindpetro_high,hindpetro_low , hindpetro_name,hindpetro_nsebeta, hindpetro_volume, hindpetro_eps, hindpetro_pe, hindpetro_sector_pe, hindpetro_market_cap = get_scrip_info('https://www.moneycontrol.com/india/stockpricequote/refineries/hindustanpetroleumcorporation/HPC')\n",
    "reiance_high,reiance_low , reiance_name,reiance_nsebeta, reiance_volume, reiance_eps, reiance_pe,reiance_sector_pe, reiance_market_cap = get_scrip_info('https://www.moneycontrol.com/india/stockpricequote/refineries/relianceindustries/RI')\n",
    "bpcl_high,bpcl_low , bpcl_name,bpcl_nsebeta, bpcl_volume, bpcl_eps, bpcl_pe, bpcl_sector_pe, bpcl_market_cap = get_scrip_info('https://www.moneycontrol.com/india/stockpricequote/refineries/bharatpetroleumcorporation/BPC')\n",
    "\n",
    "ioc_high,ioc_low , ioc_name,ioc_nsebeta,ioc_volume, ioc_eps, ioc_pe, ioc_sector_pe, ioc_market_cap = get_scrip_info('https://www.moneycontrol.com/india/stockpricequote/refineries/indianoilcorporation/IOC')\n"
   ]
  },
  {
   "cell_type": "code",
   "execution_count": null,
   "id": "5941a005",
   "metadata": {},
   "outputs": [],
   "source": [
    "def cagr(stock, mode):\n",
    "\n",
    "    cagr18 = ((stock[stock.iloc[:, 1] == mode]['Mar 18']).astype('float').values / (stock[stock.iloc[:, 1] == mode]['Mar 17']).astype('float').values - 1)*100\n",
    "    cagr19 = ((stock[stock.iloc[:, 1] == mode]['Mar 19']).astype('float').values / (stock[stock.iloc[:, 1] == mode]['Mar 18']).astype('float').values - 1)*100\n",
    "    cagr20 = ((stock[stock.iloc[:, 1] == mode]['Mar 20']).astype('float').values / (stock[stock.iloc[:, 1] == mode]['Mar 19']).astype('float').values - 1)*100\n",
    "    cagr21 = ((stock[stock.iloc[:, 1] == mode]['Mar 21']).astype('float').values / (stock[stock.iloc[:, 1] == mode]['Mar 20']).astype('float').values - 1)*100\n",
    "\n",
    "    return cagr21, cagr20, cagr19, cagr18"
   ]
  },
  {
   "cell_type": "code",
   "execution_count": 94,
   "id": "2d4c90b4",
   "metadata": {},
   "outputs": [],
   "source": [
    "def summation(stock, mode, year):\n",
    "        summation = (stock[stock.iloc[:, 1] == mode][year]).astype('float').values\n",
    "        return summation"
   ]
  },
  {
   "cell_type": "code",
   "execution_count": null,
   "id": "849b81ff",
   "metadata": {},
   "outputs": [],
   "source": [
    "(stock[stock.iloc[:, 1] == mode][year]).astype('float').values"
   ]
  },
  {
   "cell_type": "markdown",
   "id": "f58d6a71",
   "metadata": {},
   "source": [
    "###### Create mean 10/02/22 onwards"
   ]
  },
  {
   "cell_type": "code",
   "execution_count": 8,
   "id": "def9cbd6",
   "metadata": {},
   "outputs": [
    {
     "ename": "NameError",
     "evalue": "name 'powergrid_pnl' is not defined",
     "output_type": "error",
     "traceback": [
      "\u001b[1;31m---------------------------------------------------------------------------\u001b[0m",
      "\u001b[1;31mNameError\u001b[0m                                 Traceback (most recent call last)",
      "\u001b[1;32m~\\AppData\\Local\\Temp/ipykernel_4984/4178607742.py\u001b[0m in \u001b[0;36m<module>\u001b[1;34m\u001b[0m\n\u001b[1;32m----> 1\u001b[1;33m \u001b[0mindex_stock_pnl\u001b[0m \u001b[1;33m=\u001b[0m \u001b[1;33m[\u001b[0m\u001b[0mpowergrid_pnl\u001b[0m\u001b[1;33m,\u001b[0m  \u001b[0madanigreen_pnl\u001b[0m      \u001b[1;33m,\u001b[0m\u001b[0mongc_pnl\u001b[0m\u001b[1;33m,\u001b[0m\u001b[0mgail_pnl\u001b[0m\u001b[1;33m,\u001b[0m\u001b[0mntpc_pnl\u001b[0m\u001b[1;33m,\u001b[0m\u001b[0mhindpetro_pnl\u001b[0m\u001b[1;33m,\u001b[0m\u001b[0mreiance_pnl\u001b[0m\u001b[1;33m,\u001b[0m\u001b[0mbpcl_pnl\u001b[0m\u001b[1;33m,\u001b[0m\u001b[0mioc_pnl\u001b[0m\u001b[1;33m,\u001b[0m\u001b[0mtatapwr_pnl\u001b[0m\u001b[1;33m]\u001b[0m\u001b[1;33m\u001b[0m\u001b[1;33m\u001b[0m\u001b[0m\n\u001b[0m\u001b[0;32m      2\u001b[0m \u001b[0mindex_stock_bs\u001b[0m \u001b[1;33m=\u001b[0m \u001b[1;33m[\u001b[0m\u001b[0madanigreen_bs\u001b[0m\u001b[1;33m,\u001b[0m\u001b[0mpowergrid_bs\u001b[0m\u001b[1;33m,\u001b[0m\u001b[0mongc_bs\u001b[0m\u001b[1;33m,\u001b[0m\u001b[0mgail_bs\u001b[0m\u001b[1;33m,\u001b[0m\u001b[0mntpc_bs\u001b[0m\u001b[1;33m,\u001b[0m\u001b[0mhindpetro_bs\u001b[0m\u001b[1;33m,\u001b[0m\u001b[0mreiance_bs\u001b[0m\u001b[1;33m,\u001b[0m\u001b[0mbpcl_bs\u001b[0m\u001b[1;33m,\u001b[0m\u001b[0mioc_bs\u001b[0m\u001b[1;33m,\u001b[0m\u001b[0mtatapwr_bs\u001b[0m\u001b[1;33m]\u001b[0m\u001b[1;33m\u001b[0m\u001b[1;33m\u001b[0m\u001b[0m\n\u001b[0;32m      3\u001b[0m \u001b[0mindex_stock_cs\u001b[0m \u001b[1;33m=\u001b[0m \u001b[1;33m[\u001b[0m\u001b[0madanigreen_cs\u001b[0m\u001b[1;33m,\u001b[0m\u001b[0mpowergrid_cs\u001b[0m\u001b[1;33m,\u001b[0m\u001b[0mongc_cs\u001b[0m\u001b[1;33m,\u001b[0m\u001b[0mgail_cs\u001b[0m\u001b[1;33m,\u001b[0m\u001b[0mntpc_cs\u001b[0m\u001b[1;33m,\u001b[0m\u001b[0mhindpetro_cs\u001b[0m\u001b[1;33m,\u001b[0m\u001b[0mreiance_cs\u001b[0m\u001b[1;33m,\u001b[0m\u001b[0mbpcl_cs\u001b[0m\u001b[1;33m,\u001b[0m\u001b[0mioc_cs\u001b[0m\u001b[1;33m,\u001b[0m\u001b[0mtatapwr_cs\u001b[0m\u001b[1;33m]\u001b[0m\u001b[1;33m\u001b[0m\u001b[1;33m\u001b[0m\u001b[0m\n\u001b[0;32m      4\u001b[0m \u001b[1;33m\u001b[0m\u001b[0m\n\u001b[0;32m      5\u001b[0m \u001b[0mSum_Sales_average21\u001b[0m \u001b[1;33m=\u001b[0m \u001b[1;36m0\u001b[0m\u001b[1;33m\u001b[0m\u001b[1;33m\u001b[0m\u001b[0m\n",
      "\u001b[1;31mNameError\u001b[0m: name 'powergrid_pnl' is not defined"
     ]
    }
   ],
   "source": [
    "index_stock_pnl = [powergrid_pnl,  adanigreen_pnl      ,ongc_pnl,gail_pnl,ntpc_pnl,hindpetro_pnl,reiance_pnl,bpcl_pnl,ioc_pnl,tatapwr_pnl]\n",
    "index_stock_bs = [adanigreen_bs,powergrid_bs,ongc_bs,gail_bs,ntpc_bs,hindpetro_bs,reiance_bs,bpcl_bs,ioc_bs,tatapwr_bs]\n",
    "index_stock_cs = [adanigreen_cs,powergrid_cs,ongc_cs,gail_cs,ntpc_cs,hindpetro_cs,reiance_cs,bpcl_cs,ioc_cs,tatapwr_cs]\n",
    "\n",
    "Sum_Sales_average21 = 0\n",
    "Sum_Sales_average20 = 0\n",
    "Sum_Profit_average21 = 0\n",
    "Sum_Profit_average20 = 0\n",
    "Sum_EBITDA_average21 = 0 \n",
    "Sum_EBITDA_average20 = 0\n",
    "Sum_DEliabilities_average21 = 0\n",
    "Sum_DE_fundaverage21 = 0\n",
    "Sum_fixedassets_average21 = 0\n",
    "Sum_operatingcashflow_average21 = 0\n",
    "\n",
    "for i in index_stock_pnl:\n",
    "    \n",
    "    Sum_Sales_average21 = Sum_Sales_average21 + summation(i, 'Total Revenue', 'Mar 21')\n",
    "    Sum_Sales_average20 = Sum_Sales_average20 + summation(i, 'Total Revenue', 'Mar 20')\n",
    "    Sum_Profit_average21 = Sum_Profit_average21 + summation(i, 'Profit/Loss For The Period', 'Mar 21')\n",
    "    Sum_Profit_average20 = Sum_Profit_average20 + summation(i, 'Profit/Loss For The Period', 'Mar 20')   \n",
    "    Sum_EBITDA_average21 = Sum_EBITDA_average21 + summation(i, 'Profit/Loss Before Exceptional ExtraOrdinary Items And Tax', 'Mar 21')\n",
    "    Sum_EBITDA_average20 = Sum_EBITDA_average20 + summation(i, 'Profit/Loss Before Exceptional ExtraOrdinary Items And Tax', 'Mar 20')  \n",
    "    \n",
    "for i in index_stock_bs:\n",
    "    Sum_DEliabilities_average21 = Sum_DEliabilities_average21 + summation(i, 'Total Capital And Liabilities', 'Mar 21')\n",
    "    Sum_DE_fundaverage21 = Sum_DE_fundaverage21 + summation(i, 'Total Shareholders Funds', 'Mar 21')\n",
    "    Sum_fixedassets_average21 = Sum_fixedassets_average21 + summation(i, 'Fixed Assets', 'Mar 21')\n",
    "    \n",
    "# Sum_ROE_average21 = Sum_DE_average21\n",
    "\n",
    "for i in index_stock_cs:\n",
    "    Sum_operatingcashflow_average21 = Sum_operatingcashflow_average21 + summation(i, 'Net CashFlow From Operating Activities', 'Mar 21')\n",
    "\n"
   ]
  },
  {
   "cell_type": "code",
   "execution_count": null,
   "id": "b366dbe5",
   "metadata": {},
   "outputs": [],
   "source": [
    "ROE18 = (stockpnl[stockpnl.iloc[:, 1] == 'Profit/Loss For The Period']['Mar 18']).astype('float').values / (stockbs[stockbs.iloc[:, 1] == 'Total Shareholders Funds']['Mar 18']).astype('float').values\n",
    "DE18 = (stockbs[stockbs.iloc[:, 1] == 'Total Capital And Liabilities']['Mar 18']).astype('float').values / (stockbs[stockbs.iloc[:, 1] == 'Total Shareholders Funds']['Mar 18']).astype('float').values\n",
    "    value18 = (stockcs[stockcs.iloc[:, 1] == 'Net CashFlow From Operating Activities']['Mar 18']).astype('float').values - (stockbs[stockbs.iloc[:, 1] == 'Fixed Assets']['Mar 18']).astype('float').values\n"
   ]
  },
  {
   "cell_type": "code",
   "execution_count": 124,
   "id": "50012c20",
   "metadata": {},
   "outputs": [
    {
     "data": {
      "text/plain": [
       "10"
      ]
     },
     "execution_count": 124,
     "metadata": {},
     "output_type": "execute_result"
    }
   ],
   "source": [
    "len(index_stock_bs)"
   ]
  },
  {
   "cell_type": "code",
   "execution_count": 7,
   "id": "35101b5a",
   "metadata": {},
   "outputs": [
    {
     "ename": "NameError",
     "evalue": "name 'Sum_Sales_average21' is not defined",
     "output_type": "error",
     "traceback": [
      "\u001b[1;31m---------------------------------------------------------------------------\u001b[0m",
      "\u001b[1;31mNameError\u001b[0m                                 Traceback (most recent call last)",
      "\u001b[1;32m~\\AppData\\Local\\Temp/ipykernel_4984/2578458582.py\u001b[0m in \u001b[0;36m<module>\u001b[1;34m\u001b[0m\n\u001b[1;32m----> 1\u001b[1;33m \u001b[0mCAGR_AverageIndex_Sales21\u001b[0m \u001b[1;33m=\u001b[0m \u001b[0mSum_Sales_average21\u001b[0m \u001b[1;33m/\u001b[0m \u001b[0mSum_Sales_average20\u001b[0m \u001b[1;33m-\u001b[0m\u001b[1;36m1\u001b[0m\u001b[1;33m\u001b[0m\u001b[1;33m\u001b[0m\u001b[0m\n\u001b[0m\u001b[0;32m      2\u001b[0m \u001b[0mCAGR_AverageIndexProfit21\u001b[0m \u001b[1;33m=\u001b[0m  \u001b[0mSum_Profit_average21\u001b[0m \u001b[1;33m/\u001b[0m \u001b[0mSum_Profit_average20\u001b[0m \u001b[1;33m-\u001b[0m\u001b[1;36m1\u001b[0m\u001b[1;33m\u001b[0m\u001b[1;33m\u001b[0m\u001b[0m\n\u001b[0;32m      3\u001b[0m \u001b[0mCAGR_AverageIndex_EBITDA21\u001b[0m \u001b[1;33m=\u001b[0m \u001b[0mSum_EBITDA_average21\u001b[0m \u001b[1;33m/\u001b[0m \u001b[0mSum_EBITDA_average20\u001b[0m \u001b[1;33m-\u001b[0m \u001b[1;36m1\u001b[0m\u001b[1;33m\u001b[0m\u001b[1;33m\u001b[0m\u001b[0m\n\u001b[0;32m      4\u001b[0m \u001b[1;33m\u001b[0m\u001b[0m\n\u001b[0;32m      5\u001b[0m \u001b[0mROE_AverageIndex21\u001b[0m \u001b[1;33m=\u001b[0m \u001b[0mSum_Profit_average21\u001b[0m \u001b[1;33m/\u001b[0m \u001b[0mSum_DE_fundaverage21\u001b[0m \u001b[1;33m-\u001b[0m\u001b[1;36m1\u001b[0m\u001b[1;33m\u001b[0m\u001b[1;33m\u001b[0m\u001b[0m\n",
      "\u001b[1;31mNameError\u001b[0m: name 'Sum_Sales_average21' is not defined"
     ]
    }
   ],
   "source": [
    "CAGR_AverageIndex_Sales21 = Sum_Sales_average21 / Sum_Sales_average20 -1 \n",
    "CAGR_AverageIndexProfit21 =  Sum_Profit_average21 / Sum_Profit_average20 -1 \n",
    "CAGR_AverageIndex_EBITDA21 = Sum_EBITDA_average21 / Sum_EBITDA_average20 - 1\n",
    "\n",
    "ROE_AverageIndex21 = Sum_Profit_average21 / Sum_DE_fundaverage21 \n",
    "DE_AverageIndex21 = Sum_DEliabilities_average21 / Sum_DE_fundaverage21 \n",
    "Operatingcashflow_AverageIndex21 = Sum_operatingcashflow_average21 / len(index_stock_bs)\n",
    "Fixedcashflow_AverageIndex21 = (Sum_operatingcashflow_average21 - Sum_fixedassets_average21) / len(index_stock_bs)\n",
    "power_index.iloc[:,1:] =  power_index.iloc[:,1:].astype('int')\n",
    "# Removin outlier PE\n",
    "PE_AverageIndex21 = (power_index.iloc[4:5].sum(axis =1) + tatapowercompany_pe -adanigreen_pe ) / (len(index_stock_bs) -1)"
   ]
  },
  {
   "cell_type": "code",
   "execution_count": 146,
   "id": "d6ef87e8",
   "metadata": {},
   "outputs": [
    {
     "data": {
      "text/plain": [
       "array([17836.351])"
      ]
     },
     "execution_count": 146,
     "metadata": {},
     "output_type": "execute_result"
    }
   ],
   "source": [
    "Operatingcashflow_AverageIndex21"
   ]
  },
  {
   "cell_type": "markdown",
   "id": "afda865c",
   "metadata": {},
   "source": [
    "#### CAGR_AverageIndex_Sales21"
   ]
  },
  {
   "cell_type": "code",
   "execution_count": 100,
   "id": "5b654e6b",
   "metadata": {},
   "outputs": [
    {
     "data": {
      "text/plain": [
       "array([134.26])"
      ]
     },
     "execution_count": 100,
     "metadata": {},
     "output_type": "execute_result"
    }
   ],
   "source": [
    "# (stockbs[stockbs.iloc[:, 1] == 'Fixed Assets']['Mar 18']).astype('float').values"
   ]
  },
  {
   "cell_type": "code",
   "execution_count": null,
   "id": "93d06026",
   "metadata": {},
   "outputs": [],
   "source": [
    "cagr_adanigreen_revenue21, cagr_adanigreen_revenue20, cagr_adanigreen_revenue19, cagr_adanigreen_revenue18  = cagr(adanigreen_pnl,'Total Revenue')\n",
    "cagr_powergrid_revenue21, cagr_powergrid_revenue20, cagr_powergrid_revenue19, cagr_powergrid_revenue18  = cagr(powergrid_pnl,'Total Revenue')\n",
    "cagr_ongc_revenue21, cagr_ongc_revenue20, cagr_ongc_revenue19, cagr_ongc_revenue18  = cagr(ongc_pnl,'Total Revenue')\n",
    "cagr_gail_revenue21, cagr_gail_revenue20, cagr_gail_revenue19, cagr_gail_revenue18  = cagr(gail_pnl,'Total Revenue')\n",
    "\n",
    "cagr_ntpc_revenue21, cagr_ntpc_revenue20, cagr_ntpc_revenue19, cagr_ntpc_revenue18  = cagr(ntpc_pnl,'Total Revenue')\n",
    "cagr_hindpetro_revenue21, cagr_hindpetro_revenue20, cagr_hindpetro_revenue19, cagr_hindpetro_revenue18  = cagr(hindpetro_pnl,'Total Revenue')\n",
    "cagr_reiance_revenue21, cagr_reiance_revenue20, cagr_reiance_revenue19, cagr_reiance_revenue18  = cagr(reiance_pnl,'Total Revenue')\n",
    "cagr_bpcl_revenue21, cagr_bpcl_revenue20, cagr_bpcl_revenue19, cagr_bpcl_revenue18  = cagr(bpcl_pnl,'Total Revenue')\n",
    "\n",
    "cagr_ioc_revenue21, cagr_ioc_revenue20, cagr_ioc_revenue19, cagr_ioc_revenue18  = cagr(ioc_pnl,'Total Revenue')"
   ]
  },
  {
   "cell_type": "code",
   "execution_count": null,
   "id": "7f49eb15",
   "metadata": {},
   "outputs": [],
   "source": []
  },
  {
   "cell_type": "markdown",
   "id": "447ebacb",
   "metadata": {},
   "source": [
    "### Creating DataFrame"
   ]
  },
  {
   "cell_type": "code",
   "execution_count": 46,
   "id": "630fc976",
   "metadata": {},
   "outputs": [],
   "source": [
    "pfs21 = pd.DataFrame({'Stake': ['CAGR_Sales', 'CAGR_Profit', 'CAGR_EBITDA', 'DE_Ratio','PE_Ratio','ROE', 'Operating Cash Flow', 'Free Cash Flow'],\n",
    "                    'PFS': [cagr_pfs_revenue21, cagr_pfs_profit21, cagr_pfs_EBITDA21, value_pfs_de21, pfs_pe, value_pfs_roe_21, value_pfs_operatingcashflow_21 ,value_pfs_freecashflow_21]})\n",
    "\n",
    "tatapwr21 = pd.DataFrame({'Stake': ['CAGR_Sales', 'CAGR_Profit', 'CAGR_EBITDA', 'DE_Ratio','PE_Ratio','ROE', 'Operating Cash Flow', 'Free Cash Flow'],\n",
    "                    'TATAPOWER': [cagr_tatapwr_revenue21, cagr_tatapwr_profit21, cagr_tatapwr_EBITDA21, value_tatapwr_de_21,tatapowercompany_pe, value_tatapwr_roe_21, value_tatapwr_operatingcashflow_21 ,value_tatapwr_freecashflow_21]})\n",
    "\n",
    "\n",
    "jppower21 = pd.DataFrame({'Stake': ['CAGR_Sales', 'CAGR_Profit', 'CAGR_EBITDA', 'DE_Ratio','PE_Ratio','ROE', 'Operating Cash Flow', 'Free Cash Flow'],\n",
    "                    'JPPOWER': [cagr_jppower_revenue21, cagr_jppower_profit21, cagr_jppower_EBITDA21, value_jppower_de21,jppower_pe, value_jppower_roe_21, value_jppower_operatingcashflow_21 ,value_jppower_freecashflow_21]})\n",
    "\n",
    "\n",
    "\n",
    "suzlon21 = pd.DataFrame({'Stake': ['CAGR_Sales', 'CAGR_Profit', 'CAGR_EBITDA', 'DE_Ratio','PE_Ratio','ROE', 'Operating Cash Flow', 'Free Cash Flow'],\n",
    "                    'Suzlon': [cagr_suzlon_revenue21, cagr_suzlon_profit21, cagr_suzlon_EBITDA21, value_suzlon_de21,suzlon_pe, value_suzlon_roe_21, value_suzlon_operatingcashflow_21 ,value_suzlon_freecashflow_21]})\n",
    "\n"
   ]
  },
  {
   "cell_type": "code",
   "execution_count": 147,
   "id": "4884d57a",
   "metadata": {},
   "outputs": [],
   "source": [
    "\n",
    "Average21 = pd.DataFrame({'Stake': ['CAGR_Sales', 'CAGR_Profit', 'CAGR_EBITDA', 'DE_Ratio','PE_Ratio','ROE', 'Operating Cash Flow', 'Free Cash Flow'],\n",
    "                    'Average21': [CAGR_AverageIndex_Sales21, CAGR_AverageIndexProfit21, CAGR_AverageIndex_EBITDA21, DE_AverageIndex21,PE_AverageIndex21, ROE_AverageIndex21, Operatingcashflow_AverageIndex21 ,Fixedcashflow_AverageIndex21]})\n",
    "\n"
   ]
  },
  {
   "cell_type": "code",
   "execution_count": 148,
   "id": "1bf4868c",
   "metadata": {},
   "outputs": [],
   "source": [
    "# CAGR_AverageIndex_Sales21 = Sum_Sales_average21 / Sum_Sales_average20 -1 \n",
    "# CAGR_AverageIndexProfit21 =  Sum_Profit_average21 / Sum_Profit_average20 -1 \n",
    "# CAGR_AverageIndex_EBITDA21 = Sum_EBITDA_average21 / Sum_EBITDA_average20 - 1\n",
    "\n",
    "# ROE_AverageIndex21 = Sum_Profit_average21 / Sum_DE_fundaverage21 -1\n",
    "# DE_AverageIndex21 = Sum_DEliabilities_average21 / Sum_DE_fundaverage21 -1\n",
    "# Operatingcashflow_AverageIndex21 = Sum_operatingcashflow_average21 / len(index_stock_bs)\n",
    "# Fixedcashflow_AverageIndex21 = (Sum_operatingcashflow_average21 - Sum_fixedassets_average21) / len(index_stock_bs)\n",
    "# power_index.iloc[:,1:] =  power_index.iloc[:,1:].astype('int')\n",
    "# # Removin outlier PE\n",
    "# PE_AverageIndex21 = (power_index.iloc[4:5].sum(axis =1) + tatapowercompany_pe -adanigreen_pe ) / (len(index_stock_bs) -1)"
   ]
  },
  {
   "cell_type": "code",
   "execution_count": null,
   "id": "0071defb",
   "metadata": {},
   "outputs": [],
   "source": [
    "# adanigreen_cs_url ='https://www.moneycontrol.com/financials/adanigreenenergylimited/cash-flowVI/ADANI54145'\n",
    "# powergrid_cs_url ='https://www.moneycontrol.com/financials/powergridcorporationindia/cash-flowVI/PGC'\n",
    "# ongc_cs_url ='https://www.moneycontrol.com/financials/oilnaturalgascorporation/cash-flowVI/ONG'\n",
    "# gail_cs_url = 'https://www.moneycontrol.com/financials/gailindia/cash-flowVI/GAI'\n",
    "# ntpc_cs_url = 'https://www.moneycontrol.com/financials/ntpc/cash-flowVI/NTP'\n",
    "# hindpetro_cs_url = 'https://www.moneycontrol.com/financials/hindustanpetroleumcorporation/cash-flowVI/HPC'\n",
    "# reiance_cs_url = 'https://www.moneycontrol.com/financials/relianceindustries/cash-flowVI/RI'\n",
    "# bpcl_cs_url = 'https://www.moneycontrol.com/financials/bharatpetroleumcorporation/cash-flowVI/BPC'\n",
    "# ioc_cs_url = 'https://www.moneycontrol.com/financials/indianoilcorporation/cash-flowVI/IOC'"
   ]
  },
  {
   "cell_type": "code",
   "execution_count": 56,
   "id": "447b132f",
   "metadata": {},
   "outputs": [],
   "source": [
    "# Index Merge\n",
    "\n",
    "adanigreen21 = pd.DataFrame({'Stake': ['CAGR_Sales', 'CAGR_Profit', 'CAGR_EBITDA', 'DE_Ratio','PE_Ratio','ROE', 'Operating Cash Flow', 'Free Cash Flow'],\n",
    "                    'adanigreen': [cagr_adanigreen_revenue21, cagr_adanigreen_profit21, cagr_adanigreen_EBITDA21, value_adanigreen_de21, adanigreen_pe, value_adanigreen_roe_21, value_adanigreen_operatingcashflow_21 ,value_adanigreen_freecashflow_21]})\n",
    "\n",
    "powergrid21 = pd.DataFrame({'Stake': ['CAGR_Sales', 'CAGR_Profit', 'CAGR_EBITDA', 'DE_Ratio','PE_Ratio','ROE', 'Operating Cash Flow', 'Free Cash Flow'],\n",
    "                    'powergrid': [cagr_powergrid_revenue21, cagr_powergrid_profit21, cagr_powergrid_EBITDA21, value_powergrid_de21,powergrid_pe, value_powergrid_roe_21, value_powergrid_operatingcashflow_21 ,value_powergrid_freecashflow_21]})\n",
    "\n",
    "\n",
    "ongc21 = pd.DataFrame({'Stake': ['CAGR_Sales', 'CAGR_Profit', 'CAGR_EBITDA', 'DE_Ratio','PE_Ratio','ROE', 'Operating Cash Flow', 'Free Cash Flow'],\n",
    "                    'ongc': [cagr_ongc_revenue21, cagr_ongc_profit21, cagr_ongc_EBITDA21, value_ongc_de21,ongc_pe, value_ongc_roe_21, value_ongc_operatingcashflow_21 ,value_ongc_freecashflow_21]})\n",
    "\n",
    "\n",
    "gail21 = pd.DataFrame({'Stake': ['CAGR_Sales', 'CAGR_Profit', 'CAGR_EBITDA', 'DE_Ratio','PE_Ratio','ROE', 'Operating Cash Flow', 'Free Cash Flow'],\n",
    "                    'gail': [cagr_gail_revenue21, cagr_gail_profit21, cagr_gail_EBITDA21, value_gail_de21,gail_pe, value_gail_roe_21, value_gail_operatingcashflow_21 ,value_gail_freecashflow_21]})\n",
    "\n",
    "ntpc21 = pd.DataFrame({'Stake': ['CAGR_Sales', 'CAGR_Profit', 'CAGR_EBITDA', 'DE_Ratio','PE_Ratio','ROE', 'Operating Cash Flow', 'Free Cash Flow'],\n",
    "                    'ntpc': [cagr_ntpc_revenue21, cagr_ntpc_profit21, cagr_ntpc_EBITDA21, value_ntpc_de21, ntpc_pe, value_ntpc_roe_21, value_ntpc_operatingcashflow_21 ,value_ntpc_freecashflow_21]})\n",
    "\n",
    "\n",
    "\n",
    "hindpetro21 = pd.DataFrame({'Stake': ['CAGR_Sales', 'CAGR_Profit', 'CAGR_EBITDA', 'DE_Ratio','PE_Ratio','ROE', 'Operating Cash Flow', 'Free Cash Flow'],\n",
    "                    'hindpetro': [cagr_hindpetro_revenue21, cagr_hindpetro_profit21, cagr_hindpetro_EBITDA21, value_hindpetro_de21,hindpetro_pe, value_hindpetro_roe_21, value_hindpetro_operatingcashflow_21 ,value_hindpetro_freecashflow_21]})\n",
    "\n",
    "\n",
    "reiance21 = pd.DataFrame({'Stake': ['CAGR_Sales', 'CAGR_Profit', 'CAGR_EBITDA', 'DE_Ratio','PE_Ratio','ROE', 'Operating Cash Flow', 'Free Cash Flow'],\n",
    "                    'reiance': [cagr_reiance_revenue21, cagr_reiance_profit21, cagr_reiance_EBITDA21, value_reiance_de21,reiance_pe, value_reiance_roe_21, value_reiance_operatingcashflow_21 ,value_reiance_freecashflow_21]})\n",
    "\n",
    "\n",
    "bpcl21 = pd.DataFrame({'Stake': ['CAGR_Sales', 'CAGR_Profit', 'CAGR_EBITDA', 'DE_Ratio','PE_Ratio','ROE', 'Operating Cash Flow', 'Free Cash Flow'],\n",
    "                    'bpcl': [cagr_bpcl_revenue21, cagr_bpcl_profit21, cagr_bpcl_EBITDA21, value_bpcl_de21,bpcl_pe, value_bpcl_roe_21, value_bpcl_operatingcashflow_21 ,value_bpcl_freecashflow_21]})\n",
    "ioc21 = pd.DataFrame({'Stake': ['CAGR_Sales', 'CAGR_Profit', 'CAGR_EBITDA', 'DE_Ratio','PE_Ratio','ROE', 'Operating Cash Flow', 'Free Cash Flow'],\n",
    "                    'ioc': [cagr_ioc_revenue21, cagr_ioc_profit21, cagr_ioc_EBITDA21, value_ioc_de21,ioc_pe, value_ioc_roe_21, value_ioc_operatingcashflow_21 ,value_ioc_freecashflow_21]})"
   ]
  },
  {
   "cell_type": "code",
   "execution_count": 149,
   "id": "7abc2c0d",
   "metadata": {},
   "outputs": [
    {
     "data": {
      "text/html": [
       "<div>\n",
       "<style scoped>\n",
       "    .dataframe tbody tr th:only-of-type {\n",
       "        vertical-align: middle;\n",
       "    }\n",
       "\n",
       "    .dataframe tbody tr th {\n",
       "        vertical-align: top;\n",
       "    }\n",
       "\n",
       "    .dataframe thead th {\n",
       "        text-align: right;\n",
       "    }\n",
       "</style>\n",
       "<table border=\"1\" class=\"dataframe\">\n",
       "  <thead>\n",
       "    <tr style=\"text-align: right;\">\n",
       "      <th></th>\n",
       "      <th>Stake</th>\n",
       "      <th>PFS</th>\n",
       "      <th>TATAPOWER</th>\n",
       "      <th>JPPOWER</th>\n",
       "      <th>Suzlon</th>\n",
       "      <th>Average21</th>\n",
       "    </tr>\n",
       "  </thead>\n",
       "  <tbody>\n",
       "    <tr>\n",
       "      <th>0</th>\n",
       "      <td>CAGR_Sales</td>\n",
       "      <td>[3.0550754171139616]</td>\n",
       "      <td>[-10.584413786961388]</td>\n",
       "      <td>[2.2630025875647997]</td>\n",
       "      <td>[115.1601783934785]</td>\n",
       "      <td>[-0.1845470597494453]</td>\n",
       "    </tr>\n",
       "    <tr>\n",
       "      <th>1</th>\n",
       "      <td>CAGR_Profit</td>\n",
       "      <td>[28.15907031957765]</td>\n",
       "      <td>[522.0969484201999]</td>\n",
       "      <td>[-110.45131725745657]</td>\n",
       "      <td>[-87.84116607612089]</td>\n",
       "      <td>[0.606595860178037]</td>\n",
       "    </tr>\n",
       "    <tr>\n",
       "      <th>2</th>\n",
       "      <td>CAGR_EBITDA</td>\n",
       "      <td>[47.71986970684039]</td>\n",
       "      <td>[-32.867581863209715]</td>\n",
       "      <td>[-239.32921341573172]</td>\n",
       "      <td>[-51.68986243573691]</td>\n",
       "      <td>[0.13746548746425136]</td>\n",
       "    </tr>\n",
       "    <tr>\n",
       "      <th>3</th>\n",
       "      <td>DE_Ratio</td>\n",
       "      <td>[2.270159961535761]</td>\n",
       "      <td>[2.539846408698372]</td>\n",
       "      <td>[2.5435110220676367]</td>\n",
       "      <td>[-1.329386359635748]</td>\n",
       "      <td>[1.2274661892192134]</td>\n",
       "    </tr>\n",
       "    <tr>\n",
       "      <th>4</th>\n",
       "      <td>PE_Ratio</td>\n",
       "      <td>6.08</td>\n",
       "      <td>52.31</td>\n",
       "      <td>30.17</td>\n",
       "      <td>NaN</td>\n",
       "      <td>4    13.067778\n",
       "dtype: float64</td>\n",
       "    </tr>\n",
       "    <tr>\n",
       "      <th>5</th>\n",
       "      <td>ROE</td>\n",
       "      <td>[0.11081428579146116]</td>\n",
       "      <td>[0.05459292735873202]</td>\n",
       "      <td>[0.05380014570750393]</td>\n",
       "      <td>[0.09877351263304301]</td>\n",
       "      <td>[-0.8883530176532053]</td>\n",
       "    </tr>\n",
       "    <tr>\n",
       "      <th>6</th>\n",
       "      <td>Operating Cash Flow</td>\n",
       "      <td>[-718.0]</td>\n",
       "      <td>[2327.77]</td>\n",
       "      <td>[814.23]</td>\n",
       "      <td>[-161.37]</td>\n",
       "      <td>[17836.351000000002]</td>\n",
       "    </tr>\n",
       "    <tr>\n",
       "      <th>7</th>\n",
       "      <td>Free Cash Flow</td>\n",
       "      <td>[-786.0]</td>\n",
       "      <td>[-6213.82]</td>\n",
       "      <td>[-43.40999999999997]</td>\n",
       "      <td>[-1019.01]</td>\n",
       "      <td>[-114674.14200000002]</td>\n",
       "    </tr>\n",
       "  </tbody>\n",
       "</table>\n",
       "</div>"
      ],
      "text/plain": [
       "                 Stake                    PFS              TATAPOWER  \\\n",
       "0           CAGR_Sales   [3.0550754171139616]  [-10.584413786961388]   \n",
       "1          CAGR_Profit    [28.15907031957765]    [522.0969484201999]   \n",
       "2          CAGR_EBITDA    [47.71986970684039]  [-32.867581863209715]   \n",
       "3             DE_Ratio    [2.270159961535761]    [2.539846408698372]   \n",
       "4             PE_Ratio                   6.08                  52.31   \n",
       "5                  ROE  [0.11081428579146116]  [0.05459292735873202]   \n",
       "6  Operating Cash Flow               [-718.0]              [2327.77]   \n",
       "7       Free Cash Flow               [-786.0]             [-6213.82]   \n",
       "\n",
       "                 JPPOWER                 Suzlon                      Average21  \n",
       "0   [2.2630025875647997]    [115.1601783934785]          [-0.1845470597494453]  \n",
       "1  [-110.45131725745657]   [-87.84116607612089]            [0.606595860178037]  \n",
       "2  [-239.32921341573172]   [-51.68986243573691]          [0.13746548746425136]  \n",
       "3   [2.5435110220676367]   [-1.329386359635748]           [1.2274661892192134]  \n",
       "4                  30.17                    NaN  4    13.067778\n",
       "dtype: float64  \n",
       "5  [0.05380014570750393]  [0.09877351263304301]          [-0.8883530176532053]  \n",
       "6               [814.23]              [-161.37]           [17836.351000000002]  \n",
       "7   [-43.40999999999997]             [-1019.01]          [-114674.14200000002]  "
      ]
     },
     "execution_count": 149,
     "metadata": {},
     "output_type": "execute_result"
    }
   ],
   "source": [
    "personal_stock = pfs21.merge(tatapwr21, how='outer', on='Stake').merge(jppower21, how='outer', on='Stake').merge(suzlon21, how='outer', on='Stake').merge(Average21, how='outer', on='Stake')\n",
    "personal_stock.head(10)"
   ]
  },
  {
   "cell_type": "code",
   "execution_count": null,
   "id": "99a485f2",
   "metadata": {},
   "outputs": [],
   "source": [
    "# adanigreen_cs_url ='https://www.moneycontrol.com/financials/adanigreenenergylimited/cash-flowVI/ADANI54145'\n",
    "# powergrid_cs_url ='https://www.moneycontrol.com/financials/powergridcorporationindia/cash-flowVI/PGC'\n",
    "# ongc_cs_url ='https://www.moneycontrol.com/financials/oilnaturalgascorporation/cash-flowVI/ONG'\n",
    "# gail_cs_url = 'https://www.moneycontrol.com/financials/gailindia/cash-flowVI/GAI'\n",
    "# ntpc_cs_url = 'https://www.moneycontrol.com/financials/ntpc/cash-flowVI/NTP'\n",
    "# hindpetro_cs_url = 'https://www.moneycontrol.com/financials/hindustanpetroleumcorporation/cash-flowVI/HPC'\n",
    "# reiance_cs_url = 'https://www.moneycontrol.com/financials/relianceindustries/cash-flowVI/RI'\n",
    "# bpcl_cs_url = 'https://www.moneycontrol.com/financials/bharatpetroleumcorporation/cash-flowVI/BPC'\n",
    "# ioc_cs_url "
   ]
  },
  {
   "cell_type": "code",
   "execution_count": 88,
   "id": "d521dc72",
   "metadata": {},
   "outputs": [],
   "source": [
    "power_index = adanigreen21.merge(powergrid21, how='outer', on='Stake').merge(ongc21, how='outer', on='Stake').merge(gail21, how='outer', on='Stake').merge(ntpc21, how='outer', on='Stake').merge(hindpetro21, how='outer', on='Stake').merge(reiance21, how='outer', on='Stake').merge(bpcl21, how='outer', on='Stake').merge(ioc21, how='outer', on='Stake')\n"
   ]
  },
  {
   "cell_type": "code",
   "execution_count": 83,
   "id": "09481a47",
   "metadata": {},
   "outputs": [],
   "source": [
    "for col in power_index.columns[1:]:\n",
    "      power_index[col] = power_index[col].astype('int')\n",
    "# power_index['adanigreen'].astype('int')"
   ]
  },
  {
   "cell_type": "code",
   "execution_count": 82,
   "id": "bcfd42d7",
   "metadata": {},
   "outputs": [
    {
     "data": {
      "text/plain": [
       "Index(['adanigreen', 'powergrid', 'ongc', 'gail', 'ntpc', 'hindpetro',\n",
       "       'reiance', 'bpcl', 'ioc'],\n",
       "      dtype='object')"
      ]
     },
     "execution_count": 82,
     "metadata": {},
     "output_type": "execute_result"
    }
   ],
   "source": [
    "power_index.columns[1:]"
   ]
  },
  {
   "cell_type": "code",
   "execution_count": 85,
   "id": "00ecaae7",
   "metadata": {},
   "outputs": [
    {
     "name": "stderr",
     "output_type": "stream",
     "text": [
      "C:\\Users\\Aman\\AppData\\Local\\Temp/ipykernel_17352/2972315121.py:1: FutureWarning: Dropping of nuisance columns in DataFrame reductions (with 'numeric_only=None') is deprecated; in a future version this will raise TypeError.  Select only valid columns before calling the reduction.\n",
      "  personal_stock['average']  = power_index.mean(axis=1)\n"
     ]
    }
   ],
   "source": [
    "# personal_stock['average']  = power_index.mean(axis=1)\n",
    "# power_index[1:].mean(axis=1)"
   ]
  },
  {
   "cell_type": "code",
   "execution_count": 150,
   "id": "ed31dac9",
   "metadata": {},
   "outputs": [
    {
     "data": {
      "text/html": [
       "<div>\n",
       "<style scoped>\n",
       "    .dataframe tbody tr th:only-of-type {\n",
       "        vertical-align: middle;\n",
       "    }\n",
       "\n",
       "    .dataframe tbody tr th {\n",
       "        vertical-align: top;\n",
       "    }\n",
       "\n",
       "    .dataframe thead th {\n",
       "        text-align: right;\n",
       "    }\n",
       "</style>\n",
       "<table border=\"1\" class=\"dataframe\">\n",
       "  <thead>\n",
       "    <tr style=\"text-align: right;\">\n",
       "      <th></th>\n",
       "      <th>Stake</th>\n",
       "      <th>PFS</th>\n",
       "      <th>TATAPOWER</th>\n",
       "      <th>JPPOWER</th>\n",
       "      <th>Suzlon</th>\n",
       "      <th>Average21</th>\n",
       "    </tr>\n",
       "  </thead>\n",
       "  <tbody>\n",
       "    <tr>\n",
       "      <th>0</th>\n",
       "      <td>CAGR_Sales</td>\n",
       "      <td>[3.0550754171139616]</td>\n",
       "      <td>[-10.584413786961388]</td>\n",
       "      <td>[2.2630025875647997]</td>\n",
       "      <td>[115.1601783934785]</td>\n",
       "      <td>[-0.1845470597494453]</td>\n",
       "    </tr>\n",
       "    <tr>\n",
       "      <th>1</th>\n",
       "      <td>CAGR_Profit</td>\n",
       "      <td>[28.15907031957765]</td>\n",
       "      <td>[522.0969484201999]</td>\n",
       "      <td>[-110.45131725745657]</td>\n",
       "      <td>[-87.84116607612089]</td>\n",
       "      <td>[0.606595860178037]</td>\n",
       "    </tr>\n",
       "    <tr>\n",
       "      <th>2</th>\n",
       "      <td>CAGR_EBITDA</td>\n",
       "      <td>[47.71986970684039]</td>\n",
       "      <td>[-32.867581863209715]</td>\n",
       "      <td>[-239.32921341573172]</td>\n",
       "      <td>[-51.68986243573691]</td>\n",
       "      <td>[0.13746548746425136]</td>\n",
       "    </tr>\n",
       "    <tr>\n",
       "      <th>3</th>\n",
       "      <td>DE_Ratio</td>\n",
       "      <td>[2.270159961535761]</td>\n",
       "      <td>[2.539846408698372]</td>\n",
       "      <td>[2.5435110220676367]</td>\n",
       "      <td>[-1.329386359635748]</td>\n",
       "      <td>[1.2274661892192134]</td>\n",
       "    </tr>\n",
       "    <tr>\n",
       "      <th>4</th>\n",
       "      <td>PE_Ratio</td>\n",
       "      <td>6.08</td>\n",
       "      <td>52.31</td>\n",
       "      <td>30.17</td>\n",
       "      <td>NaN</td>\n",
       "      <td>4    13.067778\n",
       "dtype: float64</td>\n",
       "    </tr>\n",
       "    <tr>\n",
       "      <th>5</th>\n",
       "      <td>ROE</td>\n",
       "      <td>[0.11081428579146116]</td>\n",
       "      <td>[0.05459292735873202]</td>\n",
       "      <td>[0.05380014570750393]</td>\n",
       "      <td>[0.09877351263304301]</td>\n",
       "      <td>[-0.8883530176532053]</td>\n",
       "    </tr>\n",
       "    <tr>\n",
       "      <th>6</th>\n",
       "      <td>Operating Cash Flow</td>\n",
       "      <td>[-718.0]</td>\n",
       "      <td>[2327.77]</td>\n",
       "      <td>[814.23]</td>\n",
       "      <td>[-161.37]</td>\n",
       "      <td>[17836.351000000002]</td>\n",
       "    </tr>\n",
       "    <tr>\n",
       "      <th>7</th>\n",
       "      <td>Free Cash Flow</td>\n",
       "      <td>[-786.0]</td>\n",
       "      <td>[-6213.82]</td>\n",
       "      <td>[-43.40999999999997]</td>\n",
       "      <td>[-1019.01]</td>\n",
       "      <td>[-114674.14200000002]</td>\n",
       "    </tr>\n",
       "  </tbody>\n",
       "</table>\n",
       "</div>"
      ],
      "text/plain": [
       "                 Stake                    PFS              TATAPOWER  \\\n",
       "0           CAGR_Sales   [3.0550754171139616]  [-10.584413786961388]   \n",
       "1          CAGR_Profit    [28.15907031957765]    [522.0969484201999]   \n",
       "2          CAGR_EBITDA    [47.71986970684039]  [-32.867581863209715]   \n",
       "3             DE_Ratio    [2.270159961535761]    [2.539846408698372]   \n",
       "4             PE_Ratio                   6.08                  52.31   \n",
       "5                  ROE  [0.11081428579146116]  [0.05459292735873202]   \n",
       "6  Operating Cash Flow               [-718.0]              [2327.77]   \n",
       "7       Free Cash Flow               [-786.0]             [-6213.82]   \n",
       "\n",
       "                 JPPOWER                 Suzlon                      Average21  \n",
       "0   [2.2630025875647997]    [115.1601783934785]          [-0.1845470597494453]  \n",
       "1  [-110.45131725745657]   [-87.84116607612089]            [0.606595860178037]  \n",
       "2  [-239.32921341573172]   [-51.68986243573691]          [0.13746548746425136]  \n",
       "3   [2.5435110220676367]   [-1.329386359635748]           [1.2274661892192134]  \n",
       "4                  30.17                    NaN  4    13.067778\n",
       "dtype: float64  \n",
       "5  [0.05380014570750393]  [0.09877351263304301]          [-0.8883530176532053]  \n",
       "6               [814.23]              [-161.37]           [17836.351000000002]  \n",
       "7   [-43.40999999999997]             [-1019.01]          [-114674.14200000002]  "
      ]
     },
     "execution_count": 150,
     "metadata": {},
     "output_type": "execute_result"
    }
   ],
   "source": [
    "personal_stock"
   ]
  },
  {
   "cell_type": "code",
   "execution_count": 89,
   "id": "17458a33",
   "metadata": {},
   "outputs": [
    {
     "data": {
      "text/html": [
       "<div>\n",
       "<style scoped>\n",
       "    .dataframe tbody tr th:only-of-type {\n",
       "        vertical-align: middle;\n",
       "    }\n",
       "\n",
       "    .dataframe tbody tr th {\n",
       "        vertical-align: top;\n",
       "    }\n",
       "\n",
       "    .dataframe thead th {\n",
       "        text-align: right;\n",
       "    }\n",
       "</style>\n",
       "<table border=\"1\" class=\"dataframe\">\n",
       "  <thead>\n",
       "    <tr style=\"text-align: right;\">\n",
       "      <th></th>\n",
       "      <th>Stake</th>\n",
       "      <th>adanigreen</th>\n",
       "      <th>powergrid</th>\n",
       "      <th>ongc</th>\n",
       "      <th>gail</th>\n",
       "      <th>ntpc</th>\n",
       "      <th>hindpetro</th>\n",
       "      <th>reiance</th>\n",
       "      <th>bpcl</th>\n",
       "      <th>ioc</th>\n",
       "    </tr>\n",
       "  </thead>\n",
       "  <tbody>\n",
       "    <tr>\n",
       "      <th>0</th>\n",
       "      <td>CAGR_Sales</td>\n",
       "      <td>[90.27725028484619]</td>\n",
       "      <td>[5.765284538820814]</td>\n",
       "      <td>[-26.440745052819047]</td>\n",
       "      <td>[-19.857588848348573]</td>\n",
       "      <td>[3.0596622697353526]</td>\n",
       "      <td>[-12.867128856429556]</td>\n",
       "      <td>[-25.685911462716714]</td>\n",
       "      <td>[-17.593383608800618]</td>\n",
       "      <td>[-21.791386725037178]</td>\n",
       "    </tr>\n",
       "    <tr>\n",
       "      <th>1</th>\n",
       "      <td>CAGR_Profit</td>\n",
       "      <td>[171.11574556830033]</td>\n",
       "      <td>[10.402194765048778]</td>\n",
       "      <td>[-16.34938792997008]</td>\n",
       "      <td>[-26.1372407157627]</td>\n",
       "      <td>[36.15918819793906]</td>\n",
       "      <td>[304.35451946338236]</td>\n",
       "      <td>[3.3686049898068227]</td>\n",
       "      <td>[609.6653610068612]</td>\n",
       "      <td>[1562.773466947907]</td>\n",
       "    </tr>\n",
       "    <tr>\n",
       "      <th>2</th>\n",
       "      <td>CAGR_EBITDA</td>\n",
       "      <td>[301.4939309056956]</td>\n",
       "      <td>[24.1739178563098]</td>\n",
       "      <td>[-40.52590378086841]</td>\n",
       "      <td>[-18.56631126039788]</td>\n",
       "      <td>[5.617340618501965]</td>\n",
       "      <td>[453.16169161955645]</td>\n",
       "      <td>[-48.591817957406704]</td>\n",
       "      <td>[330.949633116286]</td>\n",
       "      <td>[290.45440987684174]</td>\n",
       "    </tr>\n",
       "    <tr>\n",
       "      <th>3</th>\n",
       "      <td>DE_Ratio</td>\n",
       "      <td>[8.307379430563627]</td>\n",
       "      <td>[3.655305693512568]</td>\n",
       "      <td>[1.556784347876503]</td>\n",
       "      <td>[1.572809081088967]</td>\n",
       "      <td>[2.8845482755922593]</td>\n",
       "      <td>[3.6267833154765734]</td>\n",
       "      <td>[1.8413157057260219]</td>\n",
       "      <td>[2.577791731712884]</td>\n",
       "      <td>[3.0231127518143888]</td>\n",
       "    </tr>\n",
       "    <tr>\n",
       "      <th>4</th>\n",
       "      <td>PE_Ratio</td>\n",
       "      <td>635.7</td>\n",
       "      <td>8.98</td>\n",
       "      <td>5.83</td>\n",
       "      <td>5.62</td>\n",
       "      <td>8.16</td>\n",
       "      <td>5.03</td>\n",
       "      <td>27.93</td>\n",
       "      <td>4.25</td>\n",
       "      <td>4.15</td>\n",
       "    </tr>\n",
       "    <tr>\n",
       "      <th>5</th>\n",
       "      <td>ROE</td>\n",
       "      <td>[0.21150493898895992]</td>\n",
       "      <td>[0.17154324504403926]</td>\n",
       "      <td>[0.05497907029756808]</td>\n",
       "      <td>[0.1049143820738171]</td>\n",
       "      <td>[0.11081428579146116]</td>\n",
       "      <td>[0.11572436269329983]</td>\n",
       "      <td>[0.2946953955537083]</td>\n",
       "      <td>[0.3491030726259543]</td>\n",
       "      <td>[0.197611150186009]</td>\n",
       "    </tr>\n",
       "    <tr>\n",
       "      <th>6</th>\n",
       "      <td>Operating Cash Flow</td>\n",
       "      <td>[-718.0]</td>\n",
       "      <td>[27532.46]</td>\n",
       "      <td>[27665.09]</td>\n",
       "      <td>[8063.91]</td>\n",
       "      <td>[27057.78]</td>\n",
       "      <td>[17722.28]</td>\n",
       "      <td>[-512.0]</td>\n",
       "      <td>[20128.43]</td>\n",
       "      <td>[-127356.28]</td>\n",
       "    </tr>\n",
       "    <tr>\n",
       "      <th>7</th>\n",
       "      <td>Free Cash Flow</td>\n",
       "      <td>[-786.0]</td>\n",
       "      <td>[-167382.6]</td>\n",
       "      <td>[-143983.75]</td>\n",
       "      <td>[-40337.44]</td>\n",
       "      <td>[684.81]</td>\n",
       "      <td>[-212829.58]</td>\n",
       "      <td>[-56411.75]</td>\n",
       "      <td>[-51260.200000000004]</td>\n",
       "      <td>[-127356.28]</td>\n",
       "    </tr>\n",
       "  </tbody>\n",
       "</table>\n",
       "</div>"
      ],
      "text/plain": [
       "                 Stake             adanigreen              powergrid  \\\n",
       "0           CAGR_Sales    [90.27725028484619]    [5.765284538820814]   \n",
       "1          CAGR_Profit   [171.11574556830033]   [10.402194765048778]   \n",
       "2          CAGR_EBITDA    [301.4939309056956]     [24.1739178563098]   \n",
       "3             DE_Ratio    [8.307379430563627]    [3.655305693512568]   \n",
       "4             PE_Ratio                  635.7                   8.98   \n",
       "5                  ROE  [0.21150493898895992]  [0.17154324504403926]   \n",
       "6  Operating Cash Flow               [-718.0]             [27532.46]   \n",
       "7       Free Cash Flow               [-786.0]            [-167382.6]   \n",
       "\n",
       "                    ongc                   gail                   ntpc  \\\n",
       "0  [-26.440745052819047]  [-19.857588848348573]   [3.0596622697353526]   \n",
       "1   [-16.34938792997008]    [-26.1372407157627]    [36.15918819793906]   \n",
       "2   [-40.52590378086841]   [-18.56631126039788]    [5.617340618501965]   \n",
       "3    [1.556784347876503]    [1.572809081088967]   [2.8845482755922593]   \n",
       "4                   5.83                   5.62                   8.16   \n",
       "5  [0.05497907029756808]   [0.1049143820738171]  [0.11081428579146116]   \n",
       "6             [27665.09]              [8063.91]             [27057.78]   \n",
       "7           [-143983.75]            [-40337.44]               [684.81]   \n",
       "\n",
       "               hindpetro                reiance                   bpcl  \\\n",
       "0  [-12.867128856429556]  [-25.685911462716714]  [-17.593383608800618]   \n",
       "1   [304.35451946338236]   [3.3686049898068227]    [609.6653610068612]   \n",
       "2   [453.16169161955645]  [-48.591817957406704]     [330.949633116286]   \n",
       "3   [3.6267833154765734]   [1.8413157057260219]    [2.577791731712884]   \n",
       "4                   5.03                  27.93                   4.25   \n",
       "5  [0.11572436269329983]   [0.2946953955537083]   [0.3491030726259543]   \n",
       "6             [17722.28]               [-512.0]             [20128.43]   \n",
       "7           [-212829.58]            [-56411.75]  [-51260.200000000004]   \n",
       "\n",
       "                     ioc  \n",
       "0  [-21.791386725037178]  \n",
       "1    [1562.773466947907]  \n",
       "2   [290.45440987684174]  \n",
       "3   [3.0231127518143888]  \n",
       "4                   4.15  \n",
       "5    [0.197611150186009]  \n",
       "6           [-127356.28]  \n",
       "7           [-127356.28]  "
      ]
     },
     "execution_count": 89,
     "metadata": {},
     "output_type": "execute_result"
    }
   ],
   "source": [
    "power_index"
   ]
  },
  {
   "cell_type": "markdown",
   "id": "3f95bfbc",
   "metadata": {},
   "source": [
    "### Personal Stocks "
   ]
  },
  {
   "cell_type": "code",
   "execution_count": null,
   "id": "e2e70c34",
   "metadata": {},
   "outputs": [],
   "source": [
    "# Aggressive and Optimistic : Adani Green"
   ]
  },
  {
   "cell_type": "code",
   "execution_count": null,
   "id": "baa6fa93",
   "metadata": {},
   "outputs": [],
   "source": [
    "# 1. Adani Green has highest PE , but has highest revenue and profit rowth as well , vry high debt and low operating cash flow \n",
    "# 2. Reliance has low sales growth and profit rowth, has higher PE compared to peers"
   ]
  },
  {
   "cell_type": "markdown",
   "id": "97e79c17",
   "metadata": {},
   "source": [
    "#### Industry contracted by 20 pc (primarily petro stocks)\n",
    "#### Note : Exit Reliance , check if tata power is to be exited \n",
    "#### Adani green, pfs can be considered for purchase\n",
    "#### suzlon , jppwer hold"
   ]
  },
  {
   "cell_type": "markdown",
   "id": "d2757da8",
   "metadata": {},
   "source": [
    "##### Plots"
   ]
  },
  {
   "cell_type": "code",
   "execution_count": null,
   "id": "40299383",
   "metadata": {},
   "outputs": [],
   "source": [
    "cagr_pfs_profit21, cagr_pfs_profit20, cagr_pfs_profit19, cagr_pfs_profit18  = cagr(pfs_pnl,'Profit/Loss For The Period')\n",
    "cagr_tatapwr_profit21, cagr_tatapwr_profit20, cagr_tatapwr_profit19, cagr_tatapwr_profit18  = cagr(tatapwr_pnl,'Profit/Loss For The Period')\n",
    "cagr_suzlon_profit21, cagr_suzlon_profit20, cagr_suzlon_profit19, cagr_suzlon_profit18  = cagr(suzlon_pnl,'Profit/Loss For The Period')\n",
    "cagr_jppower_profit21, cagr_jppower_profit20, cagr_jppower_profit19, cagr_jppower_profit18  = cagr(jppower_pnl,'Profit/Loss For The Period')"
   ]
  },
  {
   "cell_type": "code",
   "execution_count": null,
   "id": "04529e88",
   "metadata": {},
   "outputs": [],
   "source": [
    "import matplotlib.pyplot as plt\n",
    "import numpy as np\n",
    "import math\n",
    "  \n",
    "# # Get the angles from 0 to 2 pie (360 degree) in narray object\n",
    "# X = np.arange(0, math.pi*2, 0.05)\n",
    "  \n",
    "# # Using built-in trigonometric function we can directly plot\n",
    "# # the given cosine wave for the given angles\n",
    "# Y1 = np.sin(X)\n",
    "# Y2 = np.cos(X)\n",
    "# Y3 = np.tan(X)\n",
    "# Y4 = np.tanh(X)"
   ]
  },
  {
   "cell_type": "code",
   "execution_count": 195,
   "id": "5cf57e33",
   "metadata": {},
   "outputs": [
    {
     "data": {
      "text/plain": [
       "array([-5.26426378])"
      ]
     },
     "execution_count": 195,
     "metadata": {},
     "output_type": "execute_result"
    }
   ],
   "source": []
  },
  {
   "cell_type": "code",
   "execution_count": 196,
   "id": "cb573125",
   "metadata": {},
   "outputs": [
    {
     "data": {
      "text/plain": [
       "<matplotlib.legend.Legend at 0x1fc41690460>"
      ]
     },
     "execution_count": 196,
     "metadata": {},
     "output_type": "execute_result"
    },
    {
     "data": {
      "image/png": "[encoded data removed]",
      "text/plain": [
       "<Figure size 1080x1080 with 4 Axes>"
      ]
     },
     "metadata": {
      "needs_background": "light"
     },
     "output_type": "display_data"
    }
   ],
   "source": [
    "import matplotlib.pyplot as plt\n",
    "import numpy as np\n",
    "import math\n",
    "\n",
    "fig, axs = plt.subplots(2, 2,figsize=(15,15))\n",
    "# f, axs = plt.subplots(2,2)\n",
    "\n",
    "# Define X and Y variable data\n",
    "x = np.array([ 'Mar 18', 'Mar 19', 'Mar 20', 'Mar 21'])\n",
    "y1 = np.array([cagr_tatapwr_profit18, cagr_tatapwr_profit19, cagr_tatapwr_profit20, cagr_tatapwr_profit21])\n",
    "y2 = np.array([cagr_reiance_profit18, cagr_reiance_profit19, cagr_reiance_profit20, cagr_reiance_profit21])\n",
    "y3 = np.array([cagr_suzlon_profit18, cagr_suzlon_profit19, cagr_suzlon_profit20, cagr_suzlon_profit21])\n",
    "y4 = np.array([cagr_jppower_profit18, cagr_jppower_profit19, cagr_jppower_profit20, cagr_jppower_profit21])\n",
    "y5 = np.array([cagr_pfs_profit18, cagr_pfs_profit19, cagr_pfs_profit20, cagr_pfs_profit21])\n",
    "y6 = np.array([cagr_adanigreen_profit18, cagr_adanigreen_profit19, cagr_adanigreen_profit20, cagr_adanigreen_profit21])\n",
    "# y7 = np.array([cagr_adanireen_profit18, cagr_adanireen_profit19, cagr_adanireen_profit20, cagr_adanireen_profit21])\n",
    "\n",
    "axs[0, 0].plot(x, y1)\n",
    "axs[0, 0].plot(x, y2)\n",
    "axs[0, 0].plot(x, y3)\n",
    "axs[0, 0].plot(x, y4)\n",
    "axs[0, 0].plot(x, y5)\n",
    "axs[0, 0].plot(x, y6)\n",
    "# plt.plot(x, y7)\n",
    "axs[0, 0].set_xlabel(\"Date\")  # add X-axis label\n",
    "axs[0, 0].set_ylabel(\"Profit Percent\")  # add Y-axis label\n",
    "# plt.title(\"Any suitable title\")  # add title\n",
    "# axs[0, 0].gca().set_legend(('tatapower','Reliance','Suzlon','JPPower','PTC','Adani Green'))\n",
    "axs[0, 0].legend(('tatapower','Reliance','Suzlon','JPPower','PTC','Adani Green'))\n",
    "\n",
    "\n",
    "# axis[0, 0].plot(X, Y1)\n",
    "# plt.show()\n",
    "#######################################################################################\n",
    "x = np.array([ 'Mar 18', 'Mar 19', 'Mar 20', 'Mar 21'])\n",
    "y1 = np.array([cagr_tatapwr_revenue18, cagr_tatapwr_revenue19, cagr_tatapwr_revenue20, cagr_tatapwr_revenue21])\n",
    "y2 = np.array([cagr_reiance_revenue18, cagr_reiance_revenue19, cagr_reiance_revenue20, cagr_reiance_revenue21])\n",
    "y3 = np.array([cagr_suzlon_revenue18, cagr_suzlon_revenue19, cagr_suzlon_revenue20, cagr_suzlon_revenue21])\n",
    "y4 = np.array([cagr_jppower_revenue18, cagr_jppower_revenue19, cagr_jppower_revenue20, cagr_jppower_revenue21])\n",
    "y5 = np.array([cagr_pfs_revenue18, cagr_pfs_revenue19, cagr_pfs_revenue20, cagr_pfs_revenue21])\n",
    "# y6 = np.array([cagr_adanigreen_revenue18, cagr_adanigreen_revenue19, cagr_adanigreen_revenue20, cagr_adanigreen_revenue21])\n",
    "# y7 = np.array([cagr_adanireen_profit18, cagr_adanireen_profit19, cagr_adanireen_profit20, cagr_adanireen_profit21])\n",
    "\n",
    "axs[0, 1].plot(x, y1)\n",
    "axs[0, 1].plot(x, y2)\n",
    "axs[0, 1].plot(x, y3)\n",
    "axs[0, 1].plot(x, y4)\n",
    "axs[0, 1].plot(x, y5)\n",
    "# plt.plot(x, y6)\n",
    "# plt.plot(x, y7)\n",
    "axs[0, 1].set_xlabel('Date')  # add X-axis label\n",
    "axs[0, 1].set_ylabel(\"Revenue Percent\")  # add Y-axis label\n",
    "# plt.title(\"Any suitable title\")  # add title\n",
    "# plt.gca().legend(('tatapower','Reliance','Suzlon','JPPower','PTC','Adani Green'))\n",
    "# axs[0, 1].gca().set_legend(('tatapower','Reliance','Suzlon','JPPower','PTC'))\n",
    "axs[0, 1].legend(('tatapower','Reliance','Suzlon','JPPower','PTC','Adani Green'))\n",
    "\n",
    "#############################################\n",
    "x = np.array([ 'Mar 18', 'Mar 19', 'Mar 20', 'Mar 21'])\n",
    "y1 = np.array([cagr_tatapwr_EBITDA18, cagr_tatapwr_EBITDA19, cagr_tatapwr_EBITDA20, cagr_tatapwr_EBITDA21])\n",
    "y2 = np.array([cagr_reiance_EBITDA18, cagr_reiance_EBITDA19, cagr_reiance_EBITDA20, cagr_reiance_EBITDA21])\n",
    "y3 = np.array([cagr_suzlon_EBITDA18, cagr_suzlon_EBITDA19, cagr_suzlon_EBITDA20, cagr_suzlon_EBITDA21])\n",
    "y4 = np.array([cagr_jppower_EBITDA18, cagr_jppower_EBITDA19, cagr_jppower_EBITDA20, cagr_jppower_EBITDA21])\n",
    "y5 = np.array([cagr_pfs_EBITDA18, cagr_pfs_EBITDA19, cagr_pfs_EBITDA20, cagr_pfs_EBITDA21])\n",
    "# y6 = np.array([cagr_adanigreen_revenue18, cagr_adanigreen_revenue19, cagr_adanigreen_revenue20, cagr_adanigreen_revenue21])\n",
    "# y7 = np.array([cagr_adanireen_profit18, cagr_adanireen_profit19, cagr_adanireen_profit20, cagr_adanireen_profit21])\n",
    "\n",
    "axs[1, 1].plot(x, y1)\n",
    "axs[1, 1].plot(x, y2)\n",
    "axs[1, 1].plot(x, y3)\n",
    "axs[1, 1].plot(x, y4)\n",
    "axs[1, 1].plot(x, y5)\n",
    "# plt.plot(x, y6)\n",
    "# plt.plot(x, y7)\n",
    "axs[1, 1].set_xlabel('Date')  # add X-axis label\n",
    "axs[1, 1].set_ylabel(\"EBITDA Percent\")  # add Y-axis label\n",
    "# plt.title(\"Any suitaable title\")  # add title\n",
    "# plt.gca().legend(('tatapower','Reliance','Suzlon','JPPower','PTC','Adani Green'))\n",
    "# axs[0, 1].gca().set_legend(('tatapower','Reliance','Suzlon','JPPower','PTC'))\n",
    "axs[1, 1].legend(('tatapower','Reliance','Suzlon','JPPower','PTC','Adani Green'))"
   ]
  },
  {
   "cell_type": "code",
   "execution_count": 205,
   "id": "48f2b60e",
   "metadata": {},
   "outputs": [
    {
     "data": {
      "text/plain": [
       "<matplotlib.legend.Legend at 0x1fc401b6ca0>"
      ]
     },
     "execution_count": 205,
     "metadata": {},
     "output_type": "execute_result"
    },
    {
     "data": {
      "image/png": "[encoded data removed]",
      "text/plain": [
       "<Figure size 1080x1080 with 4 Axes>"
      ]
     },
     "metadata": {
      "needs_background": "light"
     },
     "output_type": "display_data"
    }
   ],
   "source": [
    "import matplotlib.pyplot as plt\n",
    "import numpy as np\n",
    "import math\n",
    "\n",
    "fig, axs = plt.subplots(2, 2,figsize=(15,15))\n",
    "# f, axs = plt.subplots(2,2)\n",
    "\n",
    "# Define X and Y variable data\n",
    "x = np.array([ 'Mar 18', 'Mar 19', 'Mar 20', 'Mar 21'])\n",
    "y1 = np.array([value_tatapwr_de18, value_tatapwr_de19, value_tatapwr_de20, value_tatapwr_de21])\n",
    "y2 = np.array([value_reiance_de18, value_reiance_de19, value_reiance_de20, value_reiance_de21])\n",
    "y3 = np.array([value_suzlon_de18, value_suzlon_de19, value_suzlon_de20, value_suzlon_de21])\n",
    "y4 = np.array([value_jppower_de18, value_jppower_de19, value_jppower_de20, value_jppower_de21])\n",
    "y5 = np.array([value_pfs_de18, value_pfs_de19, value_pfs_de20, value_pfs_de21])\n",
    "y6 = np.array([value_adanigreen_de18, value_adanigreen_de19, value_adanigreen_de20, value_adanigreen_de21])\n",
    "# y7 = np.array([cagr_adanireen_profit18, cagr_adanireen_profit19, cagr_adanireen_profit20, cagr_adanireen_profit21])\n",
    "\n",
    "axs[0, 0].plot(x, y1)\n",
    "axs[0, 0].plot(x, y2)\n",
    "axs[0, 0].plot(x, y3)\n",
    "axs[0, 0].plot(x, y4)\n",
    "axs[0, 0].plot(x, y5)\n",
    "axs[0, 0].plot(x, y6)\n",
    "# plt.plot(x, y7)\n",
    "axs[0, 0].set_xlabel(\"Date\")  # add X-axis label\n",
    "axs[0, 0].set_ylabel(\"DE Ration\")  # add Y-axis label\n",
    "# plt.title(\"Any suitable title\")  # add title\n",
    "# axs[0, 0].gca().set_legend(('tatapower','Reliance','Suzlon','JPPower','PTC','Adani Green'))\n",
    "axs[0, 0].legend(('tatapower','Reliance','Suzlon','JPPower','PTC','Adani Green'))\n",
    "\n",
    "\n",
    "# axis[0, 0].plot(X, Y1)\n",
    "# plt.show()\n",
    "#######################################################################################\n",
    "x = np.array([ 'Mar 18', 'Mar 19', 'Mar 20', 'Mar 21'])\n",
    "y1 = np.array([value_tatapwr_roe_18, value_tatapwr_roe_19, value_tatapwr_roe_20, value_tatapwr_roe_21])\n",
    "y2 = np.array([value_reiance_roe_18, value_reiance_roe_19, value_reiance_roe_20, value_reiance_roe_21])\n",
    "y3 = np.array([value_suzlon_roe_18, value_suzlon_roe_19, value_suzlon_roe_20, value_suzlon_roe_21])\n",
    "y4 = np.array([value_jppower_roe_18, value_jppower_roe_19, value_jppower_roe_20, value_jppower_roe_21])\n",
    "y5 = np.array([value_pfs_roe_18, value_pfs_roe_19, value_pfs_roe_20, value_pfs_roe_21])\n",
    "y6 = np.array([value_adanigreen_roe_18, value_adanigreen_roe_19, value_adanigreen_roe_20, value_adanigreen_roe_21])\n",
    "# y7 = np.array([cagr_adanireen_profit18, cagr_adanireen_profit19, cagr_adanireen_profit20, cagr_adanireen_profit21])\n",
    "\n",
    "axs[0, 1].plot(x, y1)\n",
    "axs[0, 1].plot(x, y2)\n",
    "axs[0, 1].plot(x, y3)\n",
    "axs[0, 1].plot(x, y4)\n",
    "axs[0, 1].plot(x, y5)\n",
    "plt.plot(x, y6)\n",
    "# plt.plot(x, y7)\n",
    "axs[0, 1].set_xlabel('Date')  # add X-axis label\n",
    "axs[0, 1].set_ylabel(\"ROE\")  # add Y-axis label\n",
    "# plt.title(\"Any suitable title\")  # add title\n",
    "# plt.gca().legend(('tatapower','Reliance','Suzlon','JPPower','PTC','Adani Green'))\n",
    "# axs[0, 1].gca().set_legend(('tatapower','Reliance','Suzlon','JPPower','PTC'))\n",
    "axs[0, 1].legend(('tatapower','Reliance','Suzlon','JPPower','PTC','Adani Green'))\n",
    "\n",
    "#############################################\n",
    "\n",
    "x = np.array([ 'Mar 18', 'Mar 19', 'Mar 20', 'Mar 21'])\n",
    "y1 = np.array([value_tatapwr_operatingcashflow_18, value_tatapwr_operatingcashflow_19, value_tatapwr_operatingcashflow_20, value_tatapwr_operatingcashflow_21])\n",
    "y2 = np.array([value_reiance_operatingcashflow_18, value_reiance_operatingcashflow_19, value_reiance_operatingcashflow_20, value_reiance_operatingcashflow_21])\n",
    "y3 = np.array([value_suzlon_operatingcashflow_18, value_suzlon_operatingcashflow_19, value_suzlon_operatingcashflow_20, value_suzlon_operatingcashflow_21])\n",
    "y4 = np.array([value_jppower_operatingcashflow_18, value_jppower_operatingcashflow_19, value_jppower_operatingcashflow_20, value_jppower_operatingcashflow_21])\n",
    "y5 = np.array([value_pfs_operatingcashflow_18, value_pfs_operatingcashflow_19, value_pfs_operatingcashflow_20, value_pfs_operatingcashflow_21])\n",
    "y6 = np.array([value_adanigreen_operatingcashflow_18, value_adanigreen_operatingcashflow_19, value_adanigreen_operatingcashflow_20, value_adanigreen_operatingcashflow_21])\n",
    "# y7 = np.array([cagr_adanireen_profit18, cagr_adanireen_profit19, cagr_adanireen_profit20, cagr_adanireen_profit21])\n",
    "\n",
    "axs[1, 0].plot(x, y1)\n",
    "axs[1, 0].plot(x, y2)\n",
    "axs[1, 0].plot(x, y3)\n",
    "axs[1, 0].plot(x, y4)\n",
    "axs[1, 0].plot(x, y5)\n",
    "plt.plot(x, y6)\n",
    "# plt.plot(x, y7)\n",
    "axs[1, 0].set_xlabel('Date')  # add X-axis label\n",
    "axs[1, 0].set_ylabel(\"Operarting Cash Flow\")  \n",
    "    # add Y-axis label\n",
    "# plt.title(\"Any suitable title\")  # add title\n",
    "# plt.gca().legend(('tatapower','Reliance','Suzlon','JPPower','PTC','Adani Green'))\n",
    "# axs[0, 1].gca().set_legend(('tatapower','Reliance','Suzlon','JPPower','PTC'))\n",
    "axs[1, 0].legend(('tatapower','Reliance','Suzlon','JPPower','PTC','Adani Green'))\n",
    "\n",
    "\n",
    "######################################################\n",
    "x = np.array([ 'Mar 18', 'Mar 19', 'Mar 20', 'Mar 21'])\n",
    "y1 = np.array([value_tatapwr_freecashflow_18, value_tatapwr_freecashflow_19, value_tatapwr_freecashflow_20, value_tatapwr_freecashflow_21])\n",
    "y2 = np.array([value_reiance_freecashflow_18, value_reiance_freecashflow_19, value_reiance_freecashflow_20, value_reiance_freecashflow_21])\n",
    "y3 = np.array([value_suzlon_freecashflow_18, value_suzlon_freecashflow_19, value_suzlon_freecashflow_20, value_suzlon_freecashflow_21])\n",
    "y4 = np.array([value_jppower_freecashflow_18, value_jppower_freecashflow_19, value_jppower_freecashflow_20, value_jppower_freecashflow_21])\n",
    "y5 = np.array([value_pfs_freecashflow_18, value_pfs_freecashflow_19, value_pfs_freecashflow_20, value_pfs_freecashflow_21])\n",
    "y6 = np.array([value_adanigreen_freecashflow_18, value_adanigreen_freecashflow_19, value_adanigreen_freecashflow_20, value_adanigreen_freecashflow_21])\n",
    "# y7 = np.array([cagr_adanireen_profit18, cagr_adanireen_profit19, cagr_adanireen_profit20, cagr_adanireen_profit21])\n",
    "\n",
    "axs[1, 1].plot(x, y1)\n",
    "axs[1, 1].plot(x, y2)\n",
    "axs[1, 1].plot(x, y3)\n",
    "axs[1, 1].plot(x, y4)\n",
    "axs[1, 1].plot(x, y5)\n",
    "plt.plot(x, y6)\n",
    "# plt.plot(x, y7)\n",
    "axs[1, 1].set_xlabel('Date')  # add X-axis label\n",
    "axs[1, 1].set_ylabel(\"Free Cash Flow\")  # add Y-axis label\n",
    "# plt.title(\"Any suitable title\")  # add title\n",
    "# plt.gca().legend(('tatapower','Reliance','Suzlon','JPPower','PTC','Adani Green'))\n",
    "# axs[0, 1].gca().set_legend(('tatapower','Reliance','Suzlon','JPPower','PTC'))\n",
    "axs[1, 1].legend(('tatapower','Reliance','Suzlon','JPPower','PTC','Adani Green'))\n"
   ]
  },
  {
   "cell_type": "code",
   "execution_count": null,
   "id": "dd164ea2",
   "metadata": {},
   "outputs": [],
   "source": []
  },
  {
   "cell_type": "code",
   "execution_count": 191,
   "id": "c28caa57",
   "metadata": {},
   "outputs": [],
   "source": [
    "# import matplotlib.pyplot as plt\n",
    "# import numpy as np\n",
    "# import math\n",
    "\n",
    "# fig, axs = plt.subplots(2, 2)\n",
    "# x = np.array([ 'Mar 18', 'Mar 19', 'Mar 20', 'Mar 21'])\n",
    "# y1 = np.array([cagr_tatapwr_profit18, cagr_tatapwr_profit19, cagr_tatapwr_profit20, cagr_tatapwr_profit21])\n",
    "# y2 = np.array([cagr_reiance_profit18, cagr_reiance_profit19, cagr_reiance_profit20, cagr_reiance_profit21])\n",
    "# y3 = np.array([cagr_suzlon_profit18, cagr_suzlon_profit19, cagr_suzlon_profit20, cagr_suzlon_profit21])\n",
    "# y4 = np.array([cagr_jppower_profit18, cagr_jppower_profit19, cagr_jppower_profit20, cagr_jppower_profit21])\n",
    "# y5 = np.array([cagr_pfs_profit18, cagr_pfs_profit19, cagr_pfs_profit20, cagr_pfs_profit21])\n",
    "# y6 = np.array([cagr_adanigreen_profit18, cagr_adanigreen_profit19, cagr_adanigreen_profit20, cagr_adanigreen_profit21])\n",
    "\n",
    "\n",
    "# y7 = np.array([cagr_tatapwr_revenue18, cagr_tatapwr_revenue19, cagr_tatapwr_revenue20, cagr_tatapwr_revenue21])\n",
    "# y8 = np.array([cagr_reiance_revenue18, cagr_reiance_revenue19, cagr_reiance_revenue20, cagr_reiance_revenue21])\n",
    "# y9 = np.array([cagr_suzlon_revenue18, cagr_suzlon_revenue19, cagr_suzlon_revenue20, cagr_suzlon_revenue21])\n",
    "# y10 = np.array([cagr_jppower_revenue18, cagr_jppower_revenue19, cagr_jppower_revenue20, cagr_jppower_revenue21])\n",
    "# y11 = np.array([cagr_pfs_revenue18, cagr_pfs_revenue19, cagr_pfs_revenue20, cagr_pfs_revenue21])\n",
    "# # y12 = np.array([cagr_adanigreen_revenue18, cagr_adanigreen_revenue19, cagr_adanigreen_revenue20, cagr_adanigreen_revenue21])\n",
    "\n",
    "# fig = plt.figure()\n",
    "# ax = fig.add_subplot(111)    # The big subplot\n",
    "# ax1 = fig.add_subplot(211)\n",
    "# ax2 = fig.add_subplot(212)\n",
    "\n",
    "# # Turn off axis lines and ticks of the big subplot\n",
    "\n",
    "\n",
    "# ax.plot(x, y1)\n",
    "# ax.plot(x, y2)\n",
    "# ax.plot(x, y3)\n",
    "# ax.plot(x, y4)\n",
    "# ax.plot(x, y5)\n",
    "# ax.plot(x, y6)\n",
    "\n",
    "# ax.set_xlabel('Date')\n",
    "# ax.set_ylabel('Profit Percent')\n",
    "\n",
    "# ax.spines['top'].set_color('none')\n",
    "# ax.spines['bottom'].set_color('none')\n",
    "# ax.spines['left'].set_color('none')\n",
    "# ax.spines['right'].set_color('none')\n",
    "# ax.tick_params(labelcolor='w', top=False, bottom=False, left=False, right=False)\n",
    "\n",
    "# ax1.loglog(x, y7)\n",
    "# ax1.loglog(x, y8)\n",
    "# ax1.plot(x, y9)\n",
    "# ax1.plot(x, y10)\n",
    "# ax1.plot(x, y11)\n",
    "# # ax1.plot(x, y12)\n",
    "# # Set common labels\n",
    "# ax.set_xlabel('Date')\n",
    "# ax.set_ylabel('Profit Percent')\n",
    "\n",
    "# ax1.set_title('Date')\n",
    "# ax2.set_title('Revenue Percent')\n",
    "\n",
    "# # plt.savefig('common_labels.png', dpi=300)"
   ]
  },
  {
   "cell_type": "code",
   "execution_count": 174,
   "id": "287c883a",
   "metadata": {},
   "outputs": [
    {
     "data": {
      "text/plain": [
       "array([-87.84116608])"
      ]
     },
     "execution_count": 174,
     "metadata": {},
     "output_type": "execute_result"
    }
   ],
   "source": [
    "cagr_suzlon_profit21"
   ]
  },
  {
   "cell_type": "code",
   "execution_count": null,
   "id": "a580348d",
   "metadata": {},
   "outputs": [],
   "source": []
  }
 ],
 "metadata": {
  "kernelspec": {
   "display_name": "Python 3 (ipykernel)",
   "language": "python",
   "name": "python3"
  },
  "language_info": {
   "codemirror_mode": {
    "name": "ipython",
    "version": 3
   },
   "file_extension": ".py",
   "mimetype": "text/x-python",
   "name": "python",
   "nbconvert_exporter": "python",
   "pygments_lexer": "ipython3",
   "version": "3.9.7"
  }
 },
 "nbformat": 4,
 "nbformat_minor": 5
}
