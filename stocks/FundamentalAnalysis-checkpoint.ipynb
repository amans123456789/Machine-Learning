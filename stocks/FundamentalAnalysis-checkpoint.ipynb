{
 "cells": [
  {
   "cell_type": "code",
   "execution_count": null,
   "id": "84ec4054",
   "metadata": {},
   "outputs": [],
   "source": [
    "# https://blog.quantinsti.com/stock-market-data-analysis-python/"
   ]
  },
  {
   "cell_type": "markdown",
   "id": "4e54da4d",
   "metadata": {},
   "source": [
    "Fundamental Data: https://blog.quantinsti.com/stock-market-data-analysis-python/"
   ]
  },
  {
   "cell_type": "code",
   "execution_count": 2,
   "id": "27c4cc58",
   "metadata": {},
   "outputs": [],
   "source": [
    "# !pip install yfinance"
   ]
  },
  {
   "cell_type": "code",
   "execution_count": null,
   "id": "ad15e2df",
   "metadata": {},
   "outputs": [],
   "source": [
    "https://agshiv92.medium.com/dhow-to-extract-india-stock-market-data-in-python-in-the-easiest-way-e20e7d4484c5"
   ]
  },
  {
   "cell_type": "code",
   "execution_count": 7,
   "id": "3399c71b",
   "metadata": {},
   "outputs": [],
   "source": [
    "# Import yfinance\n",
    "import yfinance as yf\n",
    "\n",
    "# Set the ticker as MSFT\n",
    "pnb = yf.Ticker(\"idea\")"
   ]
  },
  {
   "cell_type": "code",
   "execution_count": 4,
   "id": "2aeb9634",
   "metadata": {},
   "outputs": [
    {
     "ename": "KeyError",
     "evalue": "'priceToBook'",
     "output_type": "error",
     "traceback": [
      "\u001b[1;31m---------------------------------------------------------------------------\u001b[0m",
      "\u001b[1;31mKeyError\u001b[0m                                  Traceback (most recent call last)",
      "\u001b[1;32m~\\AppData\\Local\\Temp/ipykernel_15804/3583802708.py\u001b[0m in \u001b[0;36m<module>\u001b[1;34m\u001b[0m\n\u001b[1;32m----> 1\u001b[1;33m \u001b[0mpb\u001b[0m \u001b[1;33m=\u001b[0m \u001b[0mpnb\u001b[0m\u001b[1;33m.\u001b[0m\u001b[0minfo\u001b[0m\u001b[1;33m[\u001b[0m\u001b[1;34m'priceToBook'\u001b[0m\u001b[1;33m]\u001b[0m\u001b[1;33m\u001b[0m\u001b[1;33m\u001b[0m\u001b[0m\n\u001b[0m\u001b[0;32m      2\u001b[0m \u001b[0mpb\u001b[0m\u001b[1;33m\u001b[0m\u001b[1;33m\u001b[0m\u001b[0m\n",
      "\u001b[1;31mKeyError\u001b[0m: 'priceToBook'"
     ]
    }
   ],
   "source": [
    "pb = pnb.info['priceToBook']\n",
    "pb"
   ]
  },
  {
   "cell_type": "code",
   "execution_count": 8,
   "id": "d1b5a42f",
   "metadata": {},
   "outputs": [
    {
     "data": {
      "text/plain": [
       "{'zip': '90405',\n",
       " 'sector': 'Financial Services',\n",
       " 'fullTimeEmployees': 5,\n",
       " 'longBusinessSummary': 'Invent Ventures, Inc., formerly known as Los Angeles Syndicate of Technology, Inc., is venture capital firm specializing in incubation, seed, start ups, growth capital, and early stage investments. The firm prefers to invest in technology companies including web-based software, digital media, mobile applications, social media, consumer internet, online advertising and healthcare technology . It prefers to invest in the Los Angeles area of United States. The firm seeks to invest up to $0.25 million. Invent Ventures, Inc. was founded on August 18, 2005 and is based in Santa Monica, California.',\n",
       " 'city': 'Santa Monica',\n",
       " 'phone': '702-943-0320',\n",
       " 'state': 'CA',\n",
       " 'country': 'United States',\n",
       " 'companyOfficers': [],\n",
       " 'website': 'https://www.invent.vc',\n",
       " 'maxAge': 1,\n",
       " 'address1': '1930 Ocean Avenue',\n",
       " 'industry': 'Asset Management',\n",
       " 'address2': 'Suite 305',\n",
       " 'ebitdaMargins': 0,\n",
       " 'profitMargins': 0,\n",
       " 'grossMargins': 1,\n",
       " 'operatingCashflow': -334415,\n",
       " 'revenueGrowth': 1.209,\n",
       " 'operatingMargins': -3.15944,\n",
       " 'ebitda': -749652,\n",
       " 'targetLowPrice': None,\n",
       " 'recommendationKey': 'none',\n",
       " 'grossProfits': 144144,\n",
       " 'freeCashflow': -655869,\n",
       " 'targetMedianPrice': None,\n",
       " 'currentPrice': 0.01265,\n",
       " 'earningsGrowth': None,\n",
       " 'currentRatio': 0.162,\n",
       " 'returnOnAssets': -0.05947,\n",
       " 'numberOfAnalystOpinions': None,\n",
       " 'targetMeanPrice': None,\n",
       " 'debtToEquity': 15.806,\n",
       " 'returnOnEquity': -0.90349,\n",
       " 'targetHighPrice': None,\n",
       " 'totalCash': 32599,\n",
       " 'totalDebt': 598318,\n",
       " 'totalRevenue': 243796,\n",
       " 'totalCashPerShare': 0.001,\n",
       " 'financialCurrency': 'USD',\n",
       " 'revenuePerShare': 0.006,\n",
       " 'quickRatio': 0.043,\n",
       " 'recommendationMean': None,\n",
       " 'exchange': 'PNK',\n",
       " 'shortName': 'INVENT VENTURES INC',\n",
       " 'longName': 'Invent Ventures, Inc.',\n",
       " 'exchangeTimezoneName': 'America/New_York',\n",
       " 'exchangeTimezoneShortName': 'EST',\n",
       " 'isEsgPopulated': False,\n",
       " 'gmtOffSetMilliseconds': '-18000000',\n",
       " 'quoteType': 'EQUITY',\n",
       " 'symbol': 'IDEA',\n",
       " 'messageBoardId': 'finmb_1341754',\n",
       " 'market': 'us_market',\n",
       " 'annualHoldingsTurnover': None,\n",
       " 'enterpriseToRevenue': 4.385,\n",
       " 'beta3Year': None,\n",
       " 'enterpriseToEbitda': -1.426,\n",
       " '52WeekChange': -0.30494505,\n",
       " 'morningStarRiskRating': None,\n",
       " 'forwardEps': None,\n",
       " 'revenueQuarterlyGrowth': None,\n",
       " 'sharesOutstanding': 39787000,\n",
       " 'fundInceptionDate': None,\n",
       " 'annualReportExpenseRatio': None,\n",
       " 'totalAssets': None,\n",
       " 'bookValue': 0.095,\n",
       " 'sharesShort': None,\n",
       " 'sharesPercentSharesOut': None,\n",
       " 'fundFamily': None,\n",
       " 'lastFiscalYearEnd': 1388448000,\n",
       " 'heldPercentInstitutions': None,\n",
       " 'netIncomeToCommon': -6084286,\n",
       " 'trailingEps': -0.162,\n",
       " 'lastDividendValue': None,\n",
       " 'SandP52WeekChange': 0.14853275,\n",
       " 'priceToBook': 0.1331579,\n",
       " 'heldPercentInsiders': None,\n",
       " 'nextFiscalYearEnd': 1451520000,\n",
       " 'yield': None,\n",
       " 'mostRecentQuarter': 1412035200,\n",
       " 'shortRatio': None,\n",
       " 'sharesShortPreviousMonthDate': None,\n",
       " 'floatShares': None,\n",
       " 'beta': 8.835783,\n",
       " 'enterpriseValue': 1069024,\n",
       " 'priceHint': 4,\n",
       " 'threeYearAverageReturn': None,\n",
       " 'lastSplitDate': 1348012800,\n",
       " 'lastSplitFactor': '3:1',\n",
       " 'legalType': None,\n",
       " 'lastDividendDate': None,\n",
       " 'morningStarOverallRating': None,\n",
       " 'earningsQuarterlyGrowth': None,\n",
       " 'priceToSalesTrailing12Months': 2.8559616,\n",
       " 'dateShortInterest': None,\n",
       " 'pegRatio': None,\n",
       " 'ytdReturn': None,\n",
       " 'forwardPE': None,\n",
       " 'lastCapGain': None,\n",
       " 'shortPercentOfFloat': None,\n",
       " 'sharesShortPriorMonth': None,\n",
       " 'impliedSharesOutstanding': None,\n",
       " 'category': None,\n",
       " 'fiveYearAverageReturn': None,\n",
       " 'previousClose': 0.01265,\n",
       " 'regularMarketOpen': 0.0054,\n",
       " 'twoHundredDayAverage': 0.0170809,\n",
       " 'trailingAnnualDividendYield': None,\n",
       " 'payoutRatio': 0,\n",
       " 'volume24Hr': None,\n",
       " 'regularMarketDayHigh': 0.01265,\n",
       " 'navPrice': None,\n",
       " 'averageDailyVolume10Day': 0,\n",
       " 'regularMarketPreviousClose': 0.01265,\n",
       " 'fiftyDayAverage': 0.01265,\n",
       " 'trailingAnnualDividendRate': None,\n",
       " 'open': 0.0054,\n",
       " 'toCurrency': None,\n",
       " 'averageVolume10days': 0,\n",
       " 'expireDate': None,\n",
       " 'algorithm': None,\n",
       " 'dividendRate': None,\n",
       " 'exDividendDate': None,\n",
       " 'circulatingSupply': None,\n",
       " 'startDate': None,\n",
       " 'regularMarketDayLow': 0.01265,\n",
       " 'currency': 'USD',\n",
       " 'regularMarketVolume': 203,\n",
       " 'lastMarket': None,\n",
       " 'maxSupply': None,\n",
       " 'openInterest': None,\n",
       " 'marketCap': 696272,\n",
       " 'volumeAllCurrencies': None,\n",
       " 'strikePrice': None,\n",
       " 'averageVolume': 0,\n",
       " 'dayLow': 0.01265,\n",
       " 'ask': 0,\n",
       " 'askSize': 0,\n",
       " 'volume': 203,\n",
       " 'fiftyTwoWeekHigh': 0.1,\n",
       " 'fromCurrency': None,\n",
       " 'fiveYearAvgDividendYield': None,\n",
       " 'fiftyTwoWeekLow': 0.0054,\n",
       " 'bid': 0,\n",
       " 'tradeable': False,\n",
       " 'dividendYield': None,\n",
       " 'bidSize': 0,\n",
       " 'dayHigh': 0.01265,\n",
       " 'regularMarketPrice': 0.01265,\n",
       " 'preMarketPrice': None,\n",
       " 'logo_url': 'https://logo.clearbit.com/invent.vc'}"
      ]
     },
     "execution_count": 8,
     "metadata": {},
     "output_type": "execute_result"
    }
   ],
   "source": [
    "pnb.info"
   ]
  },
  {
   "cell_type": "code",
   "execution_count": null,
   "id": "d063f4e6",
   "metadata": {},
   "outputs": [],
   "source": []
  }
 ],
 "metadata": {
  "kernelspec": {
   "display_name": "Python 3 (ipykernel)",
   "language": "python",
   "name": "python3"
  },
  "language_info": {
   "codemirror_mode": {
    "name": "ipython",
    "version": 3
   },
   "file_extension": ".py",
   "mimetype": "text/x-python",
   "name": "python",
   "nbconvert_exporter": "python",
   "pygments_lexer": "ipython3",
   "version": "3.9.7"
  }
 },
 "nbformat": 4,
 "nbformat_minor": 5
}
